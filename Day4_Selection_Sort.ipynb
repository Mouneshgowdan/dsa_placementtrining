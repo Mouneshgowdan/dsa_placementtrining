{
  "nbformat": 4,
  "nbformat_minor": 0,
  "metadata": {
    "colab": {
      "provenance": [],
      "authorship_tag": "ABX9TyN8rJZuBmZNNnQIDSNoQrEW",
      "include_colab_link": true
    },
    "kernelspec": {
      "name": "python3",
      "display_name": "Python 3"
    },
    "language_info": {
      "name": "python"
    }
  },
  "cells": [
    {
      "cell_type": "markdown",
      "metadata": {
        "id": "view-in-github",
        "colab_type": "text"
      },
      "source": [
        "<a href=\"https://colab.research.google.com/github/Mouneshgowdan/dsa_placementtrining/blob/main/Day4_Selection_Sort.ipynb\" target=\"_parent\"><img src=\"https://colab.research.google.com/assets/colab-badge.svg\" alt=\"Open In Colab\"/></a>"
      ]
    },
    {
      "cell_type": "markdown",
      "source": [
        "# Selection_sort_algorithm  Examples and Problems\n",
        "\n",
        "# 1. What is Selection sort algorithm\n",
        "   . Selection sort is a simple comparison-based sorting algorithm.\n",
        " .It sorts an array or list by repeatedly selecting the smallest (or largest) element from the unsorted portion and placing it at the correct position in the sorted portion.  \n",
        "\n",
        "# Time Complexity:\n",
        "Best = O(n²)\n",
        "Average = O(n²)\n",
        "Worst = O(n²)\n",
        "Space Complexity: O(1)\n"
      ],
      "metadata": {
        "id": "4OcZV81RPIPT"
      }
    },
    {
      "cell_type": "markdown",
      "source": [
        "# How it works (Ascending Order):\n",
        "1. Start from the first element.\n",
        "2. Find the minimum element in the unsorted part of the list.\n",
        "3. Swap it with the first element.\n",
        "4. Move to the next position and repeat the process.\n",
        "5. Continue until the list is fully sorted."
      ],
      "metadata": {
        "id": "5hbftAROT0wx"
      }
    },
    {
      "cell_type": "code",
      "source": [
        "l = [3,1,2,7,9,10]\n",
        "swap = 0\n",
        "\n",
        "for i in range (0,len(l)):\n",
        "    min_idx = i\n",
        "\n",
        "    for j in range (i+1,len(l)):\n",
        "        if l[j]<l[min_idx]:\n",
        "            swap +=1\n",
        "            min_idx = j\n",
        "    l[i],l[min_idx] = l[min_idx],l[i]\n",
        "print(l,swap)"
      ],
      "metadata": {
        "colab": {
          "base_uri": "https://localhost:8080/"
        },
        "id": "sNqaxsWiRu7Q",
        "outputId": "f20d9a9e-a2ed-4ad5-c77c-07cbf5e97162"
      },
      "execution_count": 1,
      "outputs": [
        {
          "output_type": "stream",
          "name": "stdout",
          "text": [
            "[1, 2, 3, 7, 9, 10] 2\n"
          ]
        }
      ]
    },
    {
      "cell_type": "markdown",
      "source": [
        "\n",
        "# 1. You are given a list of employees and theier salaries ,sort then in descending order of salaryusing selection sort."
      ],
      "metadata": {
        "id": "_MLF60-JSQLY"
      }
    },
    {
      "cell_type": "code",
      "source": [
        "\n",
        "l = [(\"alice,50000\"),(\"bob,30000\"),(\"charlie,700000\"),(\"david,100000\")]\n",
        "\n",
        "n = len(l)\n",
        "swap = 0\n",
        "\n",
        "for i in range (n):\n",
        "    max_idx = i\n",
        "    for j in range (i+1,n):\n",
        "        if l[j][1] > l[max_idx][1]:\n",
        "\n",
        "            max_idx = j\n",
        "    if max_idx != i:\n",
        "        l[i],l[max_idx] = l[max_idx],l[i]\n",
        "        swap += 1\n",
        "print(l,swap)"
      ],
      "metadata": {
        "colab": {
          "base_uri": "https://localhost:8080/"
        },
        "id": "hMb1vtXeSW_j",
        "outputId": "ef4125c7-474c-4e66-8a17-ea839dbee892"
      },
      "execution_count": 2,
      "outputs": [
        {
          "output_type": "stream",
          "name": "stdout",
          "text": [
            "['bob,30000', 'alice,50000', 'charlie,700000', 'david,100000'] 1\n"
          ]
        }
      ]
    },
    {
      "cell_type": "markdown",
      "source": [
        "\n",
        "# 2. A warehouse stores boxes with different weights.you need to arrange the boxes in ascending order of weights using selection sort\n"
      ],
      "metadata": {
        "id": "oYjda9M_Snu5"
      }
    },
    {
      "cell_type": "code",
      "source": [
        "\n",
        "weights =[10,20,40,50,30]\n",
        "def selection_sort(weights,n):\n",
        "    n = len(weights)\n",
        "    for i in range(0,n):\n",
        "        min_idx = i\n",
        "        for j in range(i+1,n):\n",
        "            if weights[j]<weights[min_idx]:\n",
        "                min_idx = j\n",
        "                weights[i],weights[min_idx] = weights[min_idx],weights[i]\n",
        "        return weights\n",
        "\n",
        "sorted_weights = selection_sort(weights,n)\n",
        "print(sorted_weights)"
      ],
      "metadata": {
        "colab": {
          "base_uri": "https://localhost:8080/"
        },
        "id": "sAbjMvx_Sw07",
        "outputId": "dfe98f21-a21a-4dfe-c480-3d0724ef03e9"
      },
      "execution_count": 3,
      "outputs": [
        {
          "output_type": "stream",
          "name": "stdout",
          "text": [
            "[10, 20, 40, 50, 30]\n"
          ]
        }
      ]
    },
    {
      "cell_type": "markdown",
      "source": [
        "# 3. A unversity is preparing a merit List for coding competitioneach student has\n",
        "# Name(string)\n",
        "# Score(int)\n",
        "# Reg Number(string)\n",
        "\n",
        "# Sort the student and prepare the merit List\n",
        "# 1) if two students have same score sort with names\n",
        "# 2) if names are same as well sort in reg number\n",
        "# 3)marks should be in decending order\n",
        "'''"
      ],
      "metadata": {
        "id": "-_vedqTeTY8G"
      }
    },
    {
      "cell_type": "code",
      "source": [
        "\n",
        "students = [\n",
        "    (\"Alice\", 95, \"REG123\"),\n",
        "    (\"Bob\", 95, \"REG101\"),\n",
        "    (\"Alice\", 95, \"REG120\"),\n",
        "    (\"Charlie\", 90, \"REG115\"),\n",
        "    (\"Bob\", 85, \"REG102\")\n",
        "]\n",
        "def selection_sort_students(students):\n",
        "    n = len(students)\n",
        "    for i in range(n):\n",
        "        best_idx = i\n",
        "        for j in range(i + 1, n):\n",
        "            # Compare according to rules:\n",
        "            # 1. Higher score\n",
        "            # 2. Alphabetical name\n",
        "            # 3. Alphabetical reg number\n",
        "            if (\n",
        "                students[j][1] > students[best_idx][1] or  # Higher score\n",
        "                (students[j][1] == students[best_idx][1] and students[j][0] < students[best_idx][0]) or  # Same score, name A-Z\n",
        "                (students[j][1] == students[best_idx][1] and students[j][0] == students[best_idx][0] and students[j][2] < students[best_idx][2])  # Same name & score, reg no\n",
        "            ):\n",
        "                best_idx = j\n",
        "        # Swap current with best found\n",
        "        students[i], students[best_idx] = students[best_idx], students[i]\n",
        "    return students\n",
        "sorted_students=selection_sort_students(students)\n",
        "for name, score, reg in sorted_students:\n",
        " print(f\"{name} - {score} - {reg}\")\n"
      ],
      "metadata": {
        "colab": {
          "base_uri": "https://localhost:8080/"
        },
        "id": "WiXFndZZToIM",
        "outputId": "ad7cae14-f2bd-4a96-dedd-d7cc434d540a"
      },
      "execution_count": 4,
      "outputs": [
        {
          "output_type": "stream",
          "name": "stdout",
          "text": [
            "Alice - 95 - REG120\n",
            "Alice - 95 - REG123\n",
            "Bob - 95 - REG101\n",
            "Charlie - 90 - REG115\n",
            "Bob - 85 - REG102\n"
          ]
        }
      ]
    },
    {
      "cell_type": "markdown",
      "source": [
        "#4.  A teacher wants to arrange students in a line from shortest to tallest for the annual photo.The heights of the students are given randomly\n",
        " [150, 165, 145, 172, 160]\n"
      ],
      "metadata": {
        "id": "o0F5th68VAXB"
      }
    },
    {
      "cell_type": "code",
      "source": [
        "def selection_sort(arr):\n",
        "    n = len(arr)\n",
        "    for i in range(n - 1):\n",
        "        min_index = i\n",
        "        for j in range(i + 1, n):\n",
        "            if arr[j] < arr[min_index]:\n",
        "                min_index = j\n",
        "        arr[i], arr[min_index] = arr[min_index], arr[i]\n",
        "    return arr\n",
        "\n",
        "# Real-world example: Student heights\n",
        "heights = [150, 165, 145, 172, 160]\n",
        "print(\"Students arranged by height:\", selection_sort(heights))\n"
      ],
      "metadata": {
        "colab": {
          "base_uri": "https://localhost:8080/"
        },
        "id": "JtBz1fp7VOls",
        "outputId": "64398895-57c1-424d-d6dd-61ad53931c5c"
      },
      "execution_count": 5,
      "outputs": [
        {
          "output_type": "stream",
          "name": "stdout",
          "text": [
            "Students arranged by height: [145, 150, 160, 165, 172]\n"
          ]
        }
      ]
    },
    {
      "cell_type": "markdown",
      "source": [
        "# 5. Arranging Product Prices in a Store.A store owner has product prices:\n",
        "[299, 499, 199, 799, 699]\n"
      ],
      "metadata": {
        "id": "NsDhGe9lTrxS"
      }
    },
    {
      "cell_type": "code",
      "source": [
        "\n",
        "def selection_sort_desc(arr):\n",
        "    n = len(arr)\n",
        "    for i in range(n - 1):\n",
        "        max_index = i\n",
        "        for j in range(i + 1, n):\n",
        "            if arr[j] > arr[max_index]:\n",
        "                max_index = j\n",
        "        arr[i], arr[max_index] = arr[max_index], arr[i]\n",
        "    return arr\n",
        "\n",
        "\n",
        "prices = [299, 499, 199, 799, 699]\n",
        "\n",
        "print(\"Prices (Low to High):\", selection_sort(prices.copy()))\n",
        "print(\"Prices (High to Low):\", selection_sort_desc(prices.copy()))\n"
      ],
      "metadata": {
        "colab": {
          "base_uri": "https://localhost:8080/"
        },
        "id": "vl4UzzkVV3iA",
        "outputId": "1a0863ed-039a-4b44-9221-dc08d73392ea"
      },
      "execution_count": 8,
      "outputs": [
        {
          "output_type": "stream",
          "name": "stdout",
          "text": [
            "Prices (Low to High): [199, 299, 499, 699, 799]\n",
            "Prices (High to Low): [799, 699, 499, 299, 199]\n"
          ]
        }
      ]
    }
  ]
}