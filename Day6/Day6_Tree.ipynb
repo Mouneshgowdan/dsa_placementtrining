{
  "nbformat": 4,
  "nbformat_minor": 0,
  "metadata": {
    "colab": {
      "provenance": [],
      "authorship_tag": "ABX9TyN1Tfks4xvJdNGeXvXGNPY6",
      "include_colab_link": true
    },
    "kernelspec": {
      "name": "python3",
      "display_name": "Python 3"
    },
    "language_info": {
      "name": "python"
    }
  },
  "cells": [
    {
      "cell_type": "markdown",
      "metadata": {
        "id": "view-in-github",
        "colab_type": "text"
      },
      "source": [
        "<a href=\"https://colab.research.google.com/github/Mouneshgowdan/dsa_placementtrining/blob/main/Day6_Tree.ipynb\" target=\"_parent\"><img src=\"https://colab.research.google.com/assets/colab-badge.svg\" alt=\"Open In Colab\"/></a>"
      ]
    },
    {
      "cell_type": "markdown",
      "source": [
        "# Tree_Data_Structures Examples and Problems\n",
        "\n",
        "### 1. What is Tree in Data Structures ?\n",
        "\n",
        "A Tree is a non-linear data structure that represents data in a hierarchical form (like a family tree or organizational chart).\n",
        "\n",
        "* It consists of nodes connected by edges.\n",
        "\n",
        "* The topmost node is called the root.\n",
        "\n",
        "* Each node may have zero or more child nodes.\n",
        "\n",
        "* Nodes without children are called leaf nodes."
      ],
      "metadata": {
        "id": "BIQ1kkQwhyno"
      }
    },
    {
      "cell_type": "markdown",
      "source": [
        "1.Root → The first/top node (no parent).\n",
        "\n",
        "2.Parent → A node that has child nodes.\n",
        "\n",
        "3.Child → A node that is a descendant of another node.\n",
        "\n",
        "4.Leaf → A node with no children.\n",
        "\n",
        "5.Edge → Connection between two nodes.\n",
        "\n",
        "6.Height → Longest path from root to a leaf.\n",
        "\n",
        "7.Depth → Distance from the root to a given node.\n",
        "\n",
        "8.Subtree → A tree formed by any node and its descendants.\n"
      ],
      "metadata": {
        "id": "6eGF05-9ip7J"
      }
    },
    {
      "cell_type": "markdown",
      "source": [
        "# Types of Trees\n",
        "\n",
        "1. General Tree → Any number of children allowed.\n",
        "\n",
        "2. Binary Tree → Each node has at most two children.\n",
        "\n",
        "3. Full Binary Tree → Every node has either 0 or 2 children.\n",
        "\n",
        "4. Complete Binary Tree → All levels filled, except possibly last (filled left to right).\n",
        "\n",
        "5. Perfect Binary Tree → All internal nodes have 2 children & all leaves at the same level.\n",
        "\n",
        "6. Binary Search Tree (BST) → Left child < Parent < Right child.\n",
        "\n",
        "7. AVL Tree → Self-balancing BST (height difference ≤ 1).\n",
        "\n",
        "8. Red-Black Tree → Self-balancing BST with coloring rules.\n",
        "\n",
        "9. Trie (Prefix Tree) → Used for storing words efficiently (e.g., dictionary, autocomplete).\n",
        "\n",
        "10. Heap\n",
        "\n",
        "Max Heap → Parent ≥ Children.\n",
        "\n",
        "Min Heap → Parent ≤ Children."
      ],
      "metadata": {
        "id": "d2Ir2-YSi8pS"
      }
    },
    {
      "cell_type": "markdown",
      "source": [
        "#Binary Tree\n",
        "\n",
        "A binary tree is a tree data structure where each node has at most two children:\n",
        "\n",
        "* Left child\n",
        "\n",
        "* Right child\n",
        "\n"
      ],
      "metadata": {
        "id": "ulFyNKlaj0Lq"
      }
    },
    {
      "cell_type": "markdown",
      "source": [
        "##Binary Search Tree (BST)\n",
        "\n",
        "A Binary Search Tree is a special type of binary tree with the following property:\n",
        "\n",
        "* Left child < Parent < Right child\n",
        "\n",
        "* No duplicate values\n",
        "\n",
        "This property makes searching efficient (like binary search)."
      ],
      "metadata": {
        "id": "YO68H3LGk5Fw"
      }
    },
    {
      "cell_type": "markdown",
      "source": [
        "### BST Operations\n",
        "\n",
        "1. Search → Start from root, move left if smaller, right if larger.\n",
        "\n",
        "* Average time complexity: O(log n)\n",
        "\n",
        "* Worst case (skewed tree): O(n)\n",
        "\n",
        "2. Insert → Place new node in correct position (following BST rule).\n",
        "\n",
        "3. Delete → Three cases:\n",
        "\n",
        "* Node is a leaf → Just remove it.\n",
        "\n",
        "* Node has one child → Replace node with its child.\n",
        "\n",
        "* Node has two children → Replace with inorder successor (smallest node in right subtree)."
      ],
      "metadata": {
        "id": "KXyyRB8dlquo"
      }
    },
    {
      "cell_type": "markdown",
      "source": [
        "# Binary Tree Example"
      ],
      "metadata": {
        "id": "wg2JDYnYmG_f"
      }
    },
    {
      "cell_type": "code",
      "source": [
        "class Node:\n",
        "    def __init__(self, key):\n",
        "        self.left = None\n",
        "        self.right = None\n",
        "        self.val = key\n",
        "\n",
        "# Traversals\n",
        "def inorder(root):\n",
        "    if root:\n",
        "        inorder(root.left)\n",
        "        print(root.val, end=\" \")\n",
        "        inorder(root.right)\n",
        "\n",
        "def preorder(root):\n",
        "    if root:\n",
        "        print(root.val, end=\" \")\n",
        "        preorder(root.left)\n",
        "        preorder(root.right)\n",
        "\n",
        "def postorder(root):\n",
        "    if root:\n",
        "        postorder(root.left)\n",
        "        postorder(root.right)\n",
        "        print(root.val, end=\" \")\n",
        "\n",
        "# Example Binary Tree\n",
        "root = Node(1)\n",
        "root.left = Node(2)\n",
        "root.right = Node(3)\n",
        "root.left.left = Node(4)\n",
        "root.left.right = Node(5)\n",
        "\n",
        "print(\"Inorder: \", end=\"\"); inorder(root); print()\n",
        "print(\"Preorder:\", end=\" \"); preorder(root); print()\n",
        "print(\"Postorder:\", end=\" \"); postorder(root)\n"
      ],
      "metadata": {
        "colab": {
          "base_uri": "https://localhost:8080/"
        },
        "id": "wDF-FwNfmBuw",
        "outputId": "33058988-0eda-4f39-c700-b8ee4e73a3c3"
      },
      "execution_count": 1,
      "outputs": [
        {
          "output_type": "stream",
          "name": "stdout",
          "text": [
            "Inorder: 4 2 5 1 3 \n",
            "Preorder: 1 2 4 5 3 \n",
            "Postorder: 4 5 2 3 1 "
          ]
        }
      ]
    },
    {
      "cell_type": "markdown",
      "source": [
        "# Binary Search Tree Example"
      ],
      "metadata": {
        "id": "gMjR7HovmMOY"
      }
    },
    {
      "cell_type": "code",
      "source": [
        "class BST:\n",
        "    def __init__(self, key):\n",
        "        self.key = key\n",
        "        self.left = None\n",
        "        self.right = None\n",
        "\n",
        "    # Insert a node\n",
        "    def insert(self, val):\n",
        "        if val < self.key:\n",
        "            if self.left:\n",
        "                self.left.insert(val)\n",
        "            else:\n",
        "                self.left = BST(val)\n",
        "        elif val > self.key:\n",
        "            if self.right:\n",
        "                self.right.insert(val)\n",
        "            else:\n",
        "                self.right = BST(val)\n",
        "\n",
        "    # Inorder Traversal (Sorted order)\n",
        "    def inorder(self):\n",
        "        if self.left:\n",
        "            self.left.inorder()\n",
        "        print(self.key, end=\" \")\n",
        "        if self.right:\n",
        "            self.right.inorder()\n",
        "\n",
        "# Example BST\n",
        "root = BST(50)\n",
        "root.insert(30)\n",
        "root.insert(20)\n",
        "root.insert(40)\n",
        "root.insert(70)\n",
        "root.insert(60)\n",
        "root.insert(80)\n",
        "\n",
        "print(\"Inorder Traversal (Sorted):\", end=\" \")\n",
        "root.inorder()\n"
      ],
      "metadata": {
        "colab": {
          "base_uri": "https://localhost:8080/"
        },
        "id": "jud46bwRmQh5",
        "outputId": "f3a53c30-d565-4b55-fef2-6500711bacf5"
      },
      "execution_count": 2,
      "outputs": [
        {
          "output_type": "stream",
          "name": "stdout",
          "text": [
            "Inorder Traversal (Sorted): 20 30 40 50 60 70 80 "
          ]
        }
      ]
    },
    {
      "cell_type": "markdown",
      "source": [
        "### Real-World Problems Using Binary Trees\n",
        "\n",
        "1. Hierarchical Data Representation\n",
        "File systems (folders inside folders).\n",
        "Organization charts (CEO → Managers → Employees)."
      ],
      "metadata": {
        "id": "UfSPVGsfmhMk"
      }
    },
    {
      "cell_type": "code",
      "source": [
        "CEO\n",
        "├── Manager 1\n",
        "│   ├── Employee A\n",
        "│   └── Employee B\n",
        "└── Manager 2\n",
        "    ├── Employee C\n",
        "    └── Employee D\n"
      ],
      "metadata": {
        "colab": {
          "base_uri": "https://localhost:8080/",
          "height": 108
        },
        "collapsed": true,
        "id": "f3ek8xnomuCK",
        "outputId": "eda07a0c-1509-4737-895f-3818e207c068"
      },
      "execution_count": 5,
      "outputs": [
        {
          "output_type": "error",
          "ename": "SyntaxError",
          "evalue": "invalid character '├' (U+251C) (ipython-input-1217411735.py, line 2)",
          "traceback": [
            "\u001b[0;36m  File \u001b[0;32m\"/tmp/ipython-input-1217411735.py\"\u001b[0;36m, line \u001b[0;32m2\u001b[0m\n\u001b[0;31m    ├── Manager 1\u001b[0m\n\u001b[0m    ^\u001b[0m\n\u001b[0;31mSyntaxError\u001b[0m\u001b[0;31m:\u001b[0m invalid character '├' (U+251C)\n"
          ]
        }
      ]
    },
    {
      "cell_type": "markdown",
      "metadata": {
        "id": "e39e248b"
      },
      "source": [
        "CEO\n",
        "├── Manager 1\n",
        "│   ├── Employee A\n",
        "│   └── Employee B\n",
        "└── Manager 2\n",
        "    ├── Employee C\n",
        "    └── Employee D"
      ]
    },
    {
      "cell_type": "markdown",
      "source": [
        "2. Expression Trees (Compilers & Calculators)\n",
        "\n",
        "* Represent mathematical expressions.\n",
        "Example: (3 + 5) * 2 → stored in a binary tree to evaluate efficiently."
      ],
      "metadata": {
        "id": "J5U9tXn4mumY"
      }
    },
    {
      "cell_type": "code",
      "source": [
        "class Node:\n",
        "    def __init__(self, value):\n",
        "        self.value = value\n",
        "        self.left = None\n",
        "        self.right = None\n",
        "\n",
        "# Traversals\n",
        "def inorder(node):\n",
        "    if node:\n",
        "        if node.left or node.right:  # add parentheses for clarity\n",
        "            print(\"(\", end=\"\")\n",
        "        inorder(node.left)\n",
        "        print(node.value, end=\"\")\n",
        "        inorder(node.right)\n",
        "        if node.left or node.right:\n",
        "            print(\")\", end=\"\")\n",
        "\n",
        "def evaluate(node):\n",
        "    if node is None:\n",
        "        return 0\n",
        "    if node.left is None and node.right is None:\n",
        "        return int(node.value)  # operand\n",
        "    left_val = evaluate(node.left)\n",
        "    right_val = evaluate(node.right)\n",
        "    if node.value == '+': return left_val + right_val\n",
        "    if node.value == '-': return left_val - right_val\n",
        "    if node.value == '*': return left_val * right_val\n",
        "    if node.value == '/': return left_val / right_val\n",
        "\n",
        "# Build Expression Tree for (3 + 5) * 2\n",
        "root = Node('*')\n",
        "root.left = Node('+')\n",
        "root.right = Node('2')\n",
        "root.left.left = Node('3')\n",
        "root.left.right = Node('5')\n",
        "\n",
        "print(\"Infix Expression:\", end=\" \")\n",
        "inorder(root)  # prints (3+5)*2\n",
        "print(\"\\nEvaluated Result:\", evaluate(root))\n"
      ],
      "metadata": {
        "colab": {
          "base_uri": "https://localhost:8080/"
        },
        "id": "p8oDxftIm18c",
        "outputId": "d9fc26ec-a604-4317-e1e7-608fce17572c"
      },
      "execution_count": 8,
      "outputs": [
        {
          "output_type": "stream",
          "name": "stdout",
          "text": [
            "Infix Expression: ((3+5)*2)\n",
            "Evaluated Result: 16\n"
          ]
        }
      ]
    },
    {
      "cell_type": "markdown",
      "source": [
        "3. Networking (Routing Tables)\n",
        "\n",
        "* Binary trees help store routing information hierarchically."
      ],
      "metadata": {
        "id": "ePPbVnDMm2U6"
      }
    },
    {
      "cell_type": "code",
      "source": [
        "class RouteNode:\n",
        "    def __init__(self):\n",
        "        self.left = None   # 0\n",
        "        self.right = None  # 1\n",
        "        self.route = None\n",
        "\n",
        "# Insert route prefix into tree\n",
        "def insert(root, prefix, route):\n",
        "    node = root\n",
        "    for bit in prefix:\n",
        "        if bit == '0':\n",
        "            if not node.left:\n",
        "                node.left = RouteNode()\n",
        "            node = node.left\n",
        "        else:  # bit == '1'\n",
        "            if not node.right:\n",
        "                node.right = RouteNode()\n",
        "            node = node.right\n",
        "    node.route = route\n",
        "\n",
        "# Lookup IP\n",
        "def lookup(root, ip):\n",
        "    node = root\n",
        "    last_route = None\n",
        "    for bit in ip:\n",
        "        if node.route:\n",
        "            last_route = node.route\n",
        "        if bit == '0' and node.left:\n",
        "            node = node.left\n",
        "        elif bit == '1' and node.right:\n",
        "            node = node.right\n",
        "        else:\n",
        "            break\n",
        "    return last_route\n",
        "\n",
        "# Example usage\n",
        "root = RouteNode()\n",
        "insert(root, \"0\", \"Route A\")\n",
        "insert(root, \"10\", \"Route B\")\n",
        "insert(root, \"110\", \"Route C\")\n",
        "insert(root, \"111\", \"Route D\")\n",
        "\n",
        "ip = \"1101\"  # Example IP in binary\n",
        "print(\"Best Route:\", lookup(root, ip))\n"
      ],
      "metadata": {
        "colab": {
          "base_uri": "https://localhost:8080/"
        },
        "id": "rPsbR-Nnm_be",
        "outputId": "b5983731-8b1f-4a9a-8398-8921745d53e4"
      },
      "execution_count": 9,
      "outputs": [
        {
          "output_type": "stream",
          "name": "stdout",
          "text": [
            "Best Route: Route C\n"
          ]
        }
      ]
    },
    {
      "cell_type": "markdown",
      "source": [
        "4.Decision-Making (AI, Games, ML)\n",
        "\n",
        "* Used in decision trees (e.g., “Is it raining?” → “Yes/No” → Next question)."
      ],
      "metadata": {
        "id": "n6s5gjJ7m_yY"
      }
    },
    {
      "cell_type": "code",
      "source": [
        "class DecisionNode:\n",
        "    def __init__(self, question, yes=None, no=None):\n",
        "        self.question = question\n",
        "        self.yes = yes\n",
        "        self.no = no\n",
        "\n",
        "def ask(node):\n",
        "    if node is None:\n",
        "        return\n",
        "    answer = input(node.question + \" (yes/no): \").strip().lower()\n",
        "    if answer == \"yes\":\n",
        "        if isinstance(node.yes, DecisionNode):\n",
        "            ask(node.yes)\n",
        "        else:\n",
        "            print(\"Decision:\", node.yes)\n",
        "    else:\n",
        "        if isinstance(node.no, DecisionNode):\n",
        "            ask(node.no)\n",
        "        else:\n",
        "            print(\"Decision:\", node.no)\n",
        "\n",
        "# Example Decision Tree\n",
        "tree = DecisionNode(\"Is it raining?\",\n",
        "          yes=\"Carry an umbrella\",\n",
        "          no=DecisionNode(\"Is it cloudy?\",\n",
        "              yes=\"Take a raincoat\",\n",
        "              no=\"No umbrella needed\"))\n",
        "\n",
        "# Run the decision process\n",
        "# ask(tree)   # (Uncomment to interact)\n"
      ],
      "metadata": {
        "id": "SQJjzpKLnXQe"
      },
      "execution_count": 11,
      "outputs": []
    },
    {
      "cell_type": "markdown",
      "source": [
        "5. XML/HTML Parsing (Web Browsers)\n",
        "\n",
        "* Documents are parsed into a DOM Tree structure."
      ],
      "metadata": {
        "id": "KsvUAVC-nXmG"
      }
    },
    {
      "cell_type": "code",
      "source": [
        "from bs4 import BeautifulSoup\n",
        "\n",
        "html_doc = \"\"\"\n",
        "<html>\n",
        "  <head>\n",
        "    <title>My Page</title>\n",
        "  </head>\n",
        "  <body>\n",
        "    <h1>Hello</h1>\n",
        "    <p>Welcome to my page</p>\n",
        "  </body>\n",
        "</html>\n",
        "\"\"\"\n",
        "\n",
        "soup = BeautifulSoup(html_doc, 'html.parser')\n",
        "\n",
        "# Access elements\n",
        "print(\"Title:\", soup.title.string)\n",
        "print(\"Heading:\", soup.h1.string)\n",
        "print(\"Paragraph:\", soup.p.string)\n",
        "\n",
        "# Traverse DOM Tree\n",
        "for child in soup.html.children:\n",
        "    print(\"Child of <html>:\", child.name)\n"
      ],
      "metadata": {
        "colab": {
          "base_uri": "https://localhost:8080/"
        },
        "id": "7dL2UgwwnZcl",
        "outputId": "5d354d97-c1d8-40d9-cc0e-9aab2afeeecd"
      },
      "execution_count": 12,
      "outputs": [
        {
          "output_type": "stream",
          "name": "stdout",
          "text": [
            "Title: My Page\n",
            "Heading: Hello\n",
            "Paragraph: Welcome to my page\n",
            "Child of <html>: None\n",
            "Child of <html>: head\n",
            "Child of <html>: None\n",
            "Child of <html>: body\n",
            "Child of <html>: None\n"
          ]
        }
      ]
    },
    {
      "cell_type": "markdown",
      "source": [
        "# Real-World Problems Using Binary Search Trees (BSTs)"
      ],
      "metadata": {
        "id": "G8dF8jNgncIe"
      }
    },
    {
      "cell_type": "markdown",
      "source": [
        "1. Databases (Indexing)\n",
        "\n",
        "* BST and its variants (AVL, Red-Black Trees, B-Trees) are used for indexing records.\n",
        "\n",
        "* Example: Searching student IDs, product IDs, etc.\n"
      ],
      "metadata": {
        "id": "BjbItybOnjyU"
      }
    },
    {
      "cell_type": "code",
      "source": [
        "class Node:\n",
        "    def __init__(self, key, data=None):\n",
        "        self.key = key\n",
        "        self.data = data\n",
        "        self.left = None\n",
        "        self.right = None\n",
        "\n",
        "# Insert into BST\n",
        "def insert(root, key, data):\n",
        "    if root is None:\n",
        "        return Node(key, data)\n",
        "    if key < root.key:\n",
        "        root.left = insert(root.left, key, data)\n",
        "    elif key > root.key:\n",
        "        root.right = insert(root.right, key, data)\n",
        "    return root\n",
        "\n",
        "# Search in BST\n",
        "def search(root, key):\n",
        "    if root is None or root.key == key:\n",
        "        return root\n",
        "    if key < root.key:\n",
        "        return search(root.left, key)\n",
        "    return search(root.right, key)\n",
        "\n",
        "# Example: Student DB\n",
        "root = None\n",
        "root = insert(root, 1030, \"Alice\")\n",
        "root = insert(root, 1012, \"Bob\")\n",
        "root = insert(root, 1045, \"Charlie\")\n",
        "root = insert(root, 1001, \"David\")\n",
        "root = insert(root, 1070, \"Eva\")\n",
        "\n",
        "result = search(root, 1045)\n",
        "print(\"Student Found:\", result.data if result else \"Not Found\")\n"
      ],
      "metadata": {
        "colab": {
          "base_uri": "https://localhost:8080/"
        },
        "id": "-Hk5Ah9snqvn",
        "outputId": "a3e39e43-0e00-432c-a696-d55924c61f9c"
      },
      "execution_count": 13,
      "outputs": [
        {
          "output_type": "stream",
          "name": "stdout",
          "text": [
            "Student Found: Charlie\n"
          ]
        }
      ]
    },
    {
      "cell_type": "markdown",
      "source": [
        "2. Search Engines (Autocomplete / Dictionary Lookups)\n",
        "\n",
        "* Words stored in BSTs or Tries for quick prefix-based search."
      ],
      "metadata": {
        "id": "uEqHVrqWnrJa"
      }
    },
    {
      "cell_type": "code",
      "source": [
        "class TrieNode:\n",
        "    def __init__(self):\n",
        "        self.children = {}\n",
        "        self.is_end = False\n",
        "\n",
        "class Trie:\n",
        "    def __init__(self):\n",
        "        self.root = TrieNode()\n",
        "\n",
        "    # Insert a word\n",
        "    def insert(self, word):\n",
        "        node = self.root\n",
        "        for char in word:\n",
        "            if char not in node.children:\n",
        "                node.children[char] = TrieNode()\n",
        "            node = node.children[char]\n",
        "        node.is_end = True\n",
        "\n",
        "    # Find words with given prefix\n",
        "    def autocomplete(self, prefix):\n",
        "        def dfs(node, path, results):\n",
        "            if node.is_end:\n",
        "                results.append(path)\n",
        "            for char, child in node.children.items():\n",
        "                dfs(child, path + char, results)\n",
        "\n",
        "        node = self.root\n",
        "        for char in prefix:\n",
        "            if char not in node.children:\n",
        "                return []\n",
        "            node = node.children[char]\n",
        "\n",
        "        results = []\n",
        "        dfs(node, prefix, results)\n",
        "        return results\n",
        "\n",
        "# Example usage\n",
        "trie = Trie()\n",
        "for word in [\"app\", \"apple\", \"bat\", \"ball\"]:\n",
        "    trie.insert(word)\n",
        "\n",
        "print(\"Autocomplete for 'ap':\", trie.autocomplete(\"ap\"))\n",
        "print(\"Autocomplete for 'ba':\", trie.autocomplete(\"ba\"))\n"
      ],
      "metadata": {
        "colab": {
          "base_uri": "https://localhost:8080/"
        },
        "id": "TxGvCMD2nwfm",
        "outputId": "18a1ba9d-e62f-4e10-b43a-70c5671e1200"
      },
      "execution_count": 14,
      "outputs": [
        {
          "output_type": "stream",
          "name": "stdout",
          "text": [
            "Autocomplete for 'ap': ['app', 'apple']\n",
            "Autocomplete for 'ba': ['bat', 'ball']\n"
          ]
        }
      ]
    },
    {
      "cell_type": "markdown",
      "source": [
        "3. Gaming (Leaderboard Rankings)\n",
        "\n",
        "* Store player scores → BST helps insert and keep scores sorted."
      ],
      "metadata": {
        "id": "vcXYWHoEnw8v"
      }
    },
    {
      "cell_type": "code",
      "source": [
        "class Node:\n",
        "    def __init__(self, score, player):\n",
        "        self.score = score\n",
        "        self.player = player\n",
        "        self.left = None\n",
        "        self.right = None\n",
        "\n",
        "class Leaderboard:\n",
        "    def __init__(self):\n",
        "        self.root = None\n",
        "\n",
        "    def insert(self, root, score, player):\n",
        "        if not root:\n",
        "            return Node(score, player)\n",
        "        if score < root.score:\n",
        "            root.left = self.insert(root.left, score, player)\n",
        "        else:\n",
        "            root.right = self.insert(root.right, score, player)\n",
        "        return root\n",
        "\n",
        "    def inorder(self, root):\n",
        "        if not root:\n",
        "            return []\n",
        "        return self.inorder(root.right) + [(root.player, root.score)] + self.inorder(root.left)\n",
        "        # Right first → descending order\n",
        "\n",
        "# Example Usage\n",
        "lb = Leaderboard()\n",
        "lb.root = lb.insert(lb.root, 50, \"Alice\")\n",
        "lb.root = lb.insert(lb.root, 70, \"Bob\")\n",
        "lb.root = lb.insert(lb.root, 30, \"Charlie\")\n",
        "lb.root = lb.insert(lb.root, 60, \"David\")\n",
        "lb.root = lb.insert(lb.root, 80, \"Eve\")\n",
        "\n",
        "print(\"Leaderboard:\", lb.inorder(lb.root))\n"
      ],
      "metadata": {
        "colab": {
          "base_uri": "https://localhost:8080/"
        },
        "id": "R52uiJ0vn3Kr",
        "outputId": "ef4d59e5-e398-4820-facc-7c986f80f713"
      },
      "execution_count": 15,
      "outputs": [
        {
          "output_type": "stream",
          "name": "stdout",
          "text": [
            "Leaderboard: [('Eve', 80), ('Bob', 70), ('David', 60), ('Alice', 50), ('Charlie', 30)]\n"
          ]
        }
      ]
    },
    {
      "cell_type": "markdown",
      "source": [
        "4. E-commerce (Price Sorting & Searching)\n",
        "\n",
        "* Products stored in BST to quickly find items within a price range."
      ],
      "metadata": {
        "id": "p907WoQ3n37p"
      }
    },
    {
      "cell_type": "code",
      "source": [
        "class Node:\n",
        "    def __init__(self, price, product):\n",
        "        self.price = price\n",
        "        self.product = product\n",
        "        self.left = None\n",
        "        self.right = None\n",
        "\n",
        "class ProductBST:\n",
        "    def __init__(self):\n",
        "        self.root = None\n",
        "\n",
        "    def insert(self, root, price, product):\n",
        "        if not root:\n",
        "            return Node(price, product)\n",
        "        if price < root.price:\n",
        "            root.left = self.insert(root.left, price, product)\n",
        "        else:\n",
        "            root.right = self.insert(root.right, price, product)\n",
        "        return root\n",
        "\n",
        "    def inorder(self, root):\n",
        "        if not root:\n",
        "            return []\n",
        "        return self.inorder(root.left) + [(root.product, root.price)] + self.inorder(root.right)\n",
        "\n",
        "    def range_search(self, root, low, high):\n",
        "        if not root:\n",
        "            return []\n",
        "        result = []\n",
        "        if low < root.price:\n",
        "            result += self.range_search(root.left, low, high)\n",
        "        if low <= root.price <= high:\n",
        "            result.append((root.product, root.price))\n",
        "        if root.price < high:\n",
        "            result += self.range_search(root.right, low, high)\n",
        "        return result\n",
        "\n",
        "# Example usage\n",
        "bst = ProductBST()\n",
        "bst.root = bst.insert(bst.root, 1000, \"Phone\")\n",
        "bst.root = bst.insert(bst.root, 500, \"Headphones\")\n",
        "bst.root = bst.insert(bst.root, 1500, \"Laptop\")\n",
        "bst.root = bst.insert(bst.root, 1200, \"Tablet\")\n",
        "bst.root = bst.insert(bst.root, 700, \"Smartwatch\")\n",
        "\n",
        "print(\"Sorted Products:\", bst.inorder(bst.root))\n",
        "print(\"Products between 600 and 1300:\", bst.range_search(bst.root, 600, 1300))\n"
      ],
      "metadata": {
        "colab": {
          "base_uri": "https://localhost:8080/"
        },
        "id": "MS8QgLtsoAml",
        "outputId": "b3c108d0-0836-421d-885c-9ca7e286a96c"
      },
      "execution_count": 16,
      "outputs": [
        {
          "output_type": "stream",
          "name": "stdout",
          "text": [
            "Sorted Products: [('Headphones', 500), ('Smartwatch', 700), ('Phone', 1000), ('Tablet', 1200), ('Laptop', 1500)]\n",
            "Products between 600 and 1300: [('Smartwatch', 700), ('Phone', 1000), ('Tablet', 1200)]\n"
          ]
        }
      ]
    },
    {
      "cell_type": "markdown",
      "source": [
        "5. Operating Systems (Process Scheduling, Memory Management)\n",
        "\n",
        "* BSTs used to manage free memory blocks or prioritize processes."
      ],
      "metadata": {
        "id": "UTtcgPKcoA6H"
      }
    },
    {
      "cell_type": "code",
      "source": [
        "class Node:\n",
        "    def __init__(self, size):\n",
        "        self.size = size\n",
        "        self.left = None\n",
        "        self.right = None\n",
        "\n",
        "class MemoryManager:\n",
        "    def __init__(self):\n",
        "        self.root = None\n",
        "\n",
        "    def insert(self, root, size):\n",
        "        if not root:\n",
        "            return Node(size)\n",
        "        if size < root.size:\n",
        "            root.left = self.insert(root.left, size)\n",
        "        else:\n",
        "            root.right = self.insert(root.right, size)\n",
        "        return root\n",
        "\n",
        "    def find_best_fit(self, root, request, best=None):\n",
        "        if not root:\n",
        "            return best\n",
        "        if root.size >= request:\n",
        "            best = root.size if not best or root.size < best else best\n",
        "            return self.find_best_fit(root.left, request, best)\n",
        "        else:\n",
        "            return self.find_best_fit(root.right, request, best)\n",
        "\n",
        "# Example usage\n",
        "mm = MemoryManager()\n",
        "for block in [200, 500, 100, 300]:\n",
        "    mm.root = mm.insert(mm.root, block)\n",
        "\n",
        "print(\"Best fit for 250KB:\", mm.find_best_fit(mm.root, 250))\n",
        "print(\"Best fit for 450KB:\", mm.find_best_fit(mm.root, 450))\n"
      ],
      "metadata": {
        "colab": {
          "base_uri": "https://localhost:8080/"
        },
        "id": "pLh4uNGCt0AI",
        "outputId": "e46a63ff-d3d5-41df-aaff-7d1573c2e44a"
      },
      "execution_count": 17,
      "outputs": [
        {
          "output_type": "stream",
          "name": "stdout",
          "text": [
            "Best fit for 250KB: 300\n",
            "Best fit for 450KB: 500\n"
          ]
        }
      ]
    }
  ]
}