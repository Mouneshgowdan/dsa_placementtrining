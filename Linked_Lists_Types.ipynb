{
  "nbformat": 4,
  "nbformat_minor": 0,
  "metadata": {
    "colab": {
      "provenance": [],
      "authorship_tag": "ABX9TyP3tZolu/6NPHSdSDZEV7nR",
      "include_colab_link": true
    },
    "kernelspec": {
      "name": "python3",
      "display_name": "Python 3"
    },
    "language_info": {
      "name": "python"
    }
  },
  "cells": [
    {
      "cell_type": "markdown",
      "metadata": {
        "id": "view-in-github",
        "colab_type": "text"
      },
      "source": [
        "<a href=\"https://colab.research.google.com/github/Mouneshgowdan/dsa_placementtrining/blob/main/Linked_Lists_Types.ipynb\" target=\"_parent\"><img src=\"https://colab.research.google.com/assets/colab-badge.svg\" alt=\"Open In Colab\"/></a>"
      ]
    },
    {
      "cell_type": "markdown",
      "source": [
        " # Linked List  and  It's Types Examples and Problems\n",
        "\n",
        "\n",
        " # 1. What is Linked list and it's types\n",
        "\n",
        " A Linked List is a linear data structure where elements (called nodes) are connected using pointers.\n",
        "\n",
        "### Each node typically has two parts:\n",
        "\n",
        "1. Data → stores the actual value.\n",
        "\n",
        "2. Pointer (next) → stores the reference (address) of the next node in the sequence.\n",
        "\n",
        "Unlike arrays, linked lists do not store elements in contiguous memory locations. They allow dynamic memory allocation, easy insertion, and deletion, but random access is not possible."
      ],
      "metadata": {
        "id": "LVrv-MLI-Ah_"
      }
    },
    {
      "cell_type": "markdown",
      "source": [
        "### Types of Linked Lists\n",
        "\n",
        "1. Singly Linked List\n",
        ". Each node points to the next node.\n",
        "\n",
        ". The last node points to NULL.\n",
        "\n",
        ". Traversal is only possible in one direction (forward).\n",
        "\n",
        ".Example:\n",
        "Head → [Data|Next] → [Data|Next] → NULL"
      ],
      "metadata": {
        "id": "VcLEFZip-1mY"
      }
    },
    {
      "cell_type": "code",
      "source": [
        "# Node class\n",
        "class Node:\n",
        "    def __init__(self, data):\n",
        "        self.data = data\n",
        "        self.next = None\n",
        "\n",
        "# Singly Linked List\n",
        "class SinglyLinkedList:\n",
        "    def __init__(self):\n",
        "        self.head = None\n",
        "\n",
        "    def insert(self, data):\n",
        "        new_node = Node(data)\n",
        "        if not self.head:  # If list is empty\n",
        "            self.head = new_node\n",
        "        else:\n",
        "            temp = self.head\n",
        "            while temp.next:\n",
        "                temp = temp.next\n",
        "            temp.next = new_node\n",
        "\n",
        "    def display(self):\n",
        "        temp = self.head\n",
        "        while temp:\n",
        "            print(temp.data, end=\" → \")\n",
        "            temp = temp.next\n",
        "        print(\"None\")\n",
        "\n",
        "# Example\n",
        "sll = SinglyLinkedList()\n",
        "sll.insert(10)\n",
        "sll.insert(20)\n",
        "sll.insert(30)\n",
        "sll.display()\n"
      ],
      "metadata": {
        "colab": {
          "base_uri": "https://localhost:8080/"
        },
        "id": "cosKm7NY_0oY",
        "outputId": "0c683af9-8d1f-4236-9d90-74d1bea564c6"
      },
      "execution_count": 1,
      "outputs": [
        {
          "output_type": "stream",
          "name": "stdout",
          "text": [
            "10 → 20 → 30 → None\n"
          ]
        }
      ]
    },
    {
      "cell_type": "markdown",
      "source": [
        "2. Doubly Linked List\n",
        "\n",
        ". Each node has two pointers:\n",
        "\n",
        "    . prev → points to the previous node\n",
        "    \n",
        "    . next → points to the next node\n",
        "\n",
        ". Can be traversed both forward and backward.\n",
        "\n",
        ". Example:\n",
        "\n",
        "NULL ← [Prev|Data|Next] ↔ [Prev|Data|Next] → NULL"
      ],
      "metadata": {
        "id": "zNGrgBsM_53R"
      }
    },
    {
      "cell_type": "code",
      "source": [
        "class Node:\n",
        "    def __init__(self, data):\n",
        "        self.data = data\n",
        "        self.prev = None\n",
        "        self.next = None\n",
        "\n",
        "class DoublyLinkedList:\n",
        "    def __init__(self):\n",
        "        self.head = None\n",
        "\n",
        "    def insert(self, data):\n",
        "        new_node = Node(data)\n",
        "        if not self.head:\n",
        "            self.head = new_node\n",
        "        else:\n",
        "            temp = self.head\n",
        "            while temp.next:\n",
        "                temp = temp.next\n",
        "            temp.next = new_node\n",
        "            new_node.prev = temp\n",
        "\n",
        "    def display(self):\n",
        "        temp = self.head\n",
        "        while temp:\n",
        "            print(temp.data, end=\" ↔ \")\n",
        "            temp = temp.next\n",
        "        print(\"None\")\n",
        "\n",
        "# Example\n",
        "dll = DoublyLinkedList()\n",
        "dll.insert(10)\n",
        "dll.insert(20)\n",
        "dll.insert(30)\n",
        "dll.display()\n"
      ],
      "metadata": {
        "colab": {
          "base_uri": "https://localhost:8080/"
        },
        "id": "pA2WO3FoASoy",
        "outputId": "328468b1-a5c6-4cd7-fa4e-9eaec52ee29a"
      },
      "execution_count": 2,
      "outputs": [
        {
          "output_type": "stream",
          "name": "stdout",
          "text": [
            "10 ↔ 20 ↔ 30 ↔ None\n"
          ]
        }
      ]
    },
    {
      "cell_type": "markdown",
      "source": [
        "3. Circular Linked List\n",
        "\n",
        ". The last node points back to the first node (instead of NULL).\n",
        "\n",
        ". Can be singly or doubly circular.\n",
        "Traversal is continuous (no natural end).\n",
        "\n",
        ". Example (Singly Circular):\n",
        "\n",
        "Head → [Data|Next] → [Data|Next] ↘\n",
        "↑-------------------------"
      ],
      "metadata": {
        "id": "mwpOI8YoAYZw"
      }
    },
    {
      "cell_type": "code",
      "source": [
        "class Node:\n",
        "    def __init__(self, data):\n",
        "        self.data = data\n",
        "        self.next = None\n",
        "\n",
        "class CircularSinglyLinkedList:\n",
        "    def __init__(self):\n",
        "        self.head = None\n",
        "\n",
        "    def insert(self, data):\n",
        "        new_node = Node(data)\n",
        "        if not self.head:\n",
        "            self.head = new_node\n",
        "            new_node.next = self.head\n",
        "        else:\n",
        "            temp = self.head\n",
        "            while temp.next != self.head:\n",
        "                temp = temp.next\n",
        "            temp.next = new_node\n",
        "            new_node.next = self.head\n",
        "\n",
        "    def display(self):\n",
        "        if not self.head:\n",
        "            return\n",
        "        temp = self.head\n",
        "        while True:\n",
        "            print(temp.data, end=\" → \")\n",
        "            temp = temp.next\n",
        "            if temp == self.head:\n",
        "                break\n",
        "        print(\"(Back to Head)\")\n",
        "\n",
        "# Example\n",
        "csll = CircularSinglyLinkedList()\n",
        "csll.insert(10)\n",
        "csll.insert(20)\n",
        "csll.insert(30)\n",
        "csll.display()\n"
      ],
      "metadata": {
        "colab": {
          "base_uri": "https://localhost:8080/"
        },
        "id": "ddDdTnZAAhcs",
        "outputId": "5a151428-5e08-4609-ffc0-e199814ccf85"
      },
      "execution_count": 3,
      "outputs": [
        {
          "output_type": "stream",
          "name": "stdout",
          "text": [
            "10 → 20 → 30 → (Back to Head)\n"
          ]
        }
      ]
    },
    {
      "cell_type": "markdown",
      "source": [
        "4. Circular Doubly Linked List\n",
        "\n",
        ". A combination of circular and doubly linked.\n",
        "\n",
        ". Last node points to the first, and the first node’s prev points to the last.\n",
        "\n",
        ".Traversal possible in both directions infinitely."
      ],
      "metadata": {
        "id": "MTnIWqx2AkVV"
      }
    },
    {
      "cell_type": "code",
      "source": [
        "class Node:\n",
        "    def __init__(self, data):\n",
        "        self.data = data\n",
        "        self.prev = None\n",
        "        self.next = None\n",
        "\n",
        "class CircularDoublyLinkedList:\n",
        "    def __init__(self):\n",
        "        self.head = None\n",
        "\n",
        "    def insert(self, data):\n",
        "        new_node = Node(data)\n",
        "        if not self.head:\n",
        "            self.head = new_node\n",
        "            new_node.next = new_node\n",
        "            new_node.prev = new_node\n",
        "        else:\n",
        "            tail = self.head.prev\n",
        "            tail.next = new_node\n",
        "            new_node.prev = tail\n",
        "            new_node.next = self.head\n",
        "            self.head.prev = new_node\n",
        "\n",
        "    def display(self):\n",
        "        if not self.head:\n",
        "            return\n",
        "        temp = self.head\n",
        "        while True:\n",
        "            print(temp.data, end=\" ↔ \")\n",
        "            temp = temp.next\n",
        "            if temp == self.head:\n",
        "                break\n",
        "        print(\"(Back to Head)\")\n",
        "\n",
        "# Example\n",
        "cdll = CircularDoublyLinkedList()\n",
        "cdll.insert(10)\n",
        "cdll.insert(20)\n",
        "cdll.insert(30)\n",
        "cdll.display()\n"
      ],
      "metadata": {
        "colab": {
          "base_uri": "https://localhost:8080/"
        },
        "id": "bQcHMyK7A0Cl",
        "outputId": "f8d46ed5-889f-4476-acd9-784a94052768"
      },
      "execution_count": 4,
      "outputs": [
        {
          "output_type": "stream",
          "name": "stdout",
          "text": [
            "10 ↔ 20 ↔ 30 ↔ (Back to Head)\n"
          ]
        }
      ]
    },
    {
      "cell_type": "markdown",
      "source": [],
      "metadata": {
        "id": "yoMq3hhpBJca"
      }
    },
    {
      "cell_type": "markdown",
      "source": [
        "# Summary of Linked Lists in Python\n",
        "\n",
        ". Singly Linked List → One-way connection\n",
        "\n",
        ". Doubly Linked List → Two-way connection\n",
        "\n",
        ". Circular Singly Linked List → One-way, but last node points to head\n",
        "\n",
        ". Circular Doubly Linked List → Two-way, and circular"
      ],
      "metadata": {
        "id": "SOfgO0GzA3s-"
      }
    },
    {
      "cell_type": "markdown",
      "source": [
        "# 1. Music or Video Playlists (Singly/Doubly Linked List)\n",
        "\n",
        ". In apps like Spotify, YouTube, VLC, songs or videos are linked one after another.\n",
        "\n",
        ". You can move forward (next song) or backward (previous song).\n",
        "\n",
        ". A Doubly Linked List works well here."
      ],
      "metadata": {
        "id": "4w_GyykNBXqV"
      }
    },
    {
      "cell_type": "code",
      "source": [
        "# Node class for each song\n",
        "class Song:\n",
        "    def __init__(self, title):\n",
        "        self.title = title\n",
        "        self.prev = None\n",
        "        self.next = None\n",
        "\n",
        "# Playlist using Doubly Linked List\n",
        "class Playlist:\n",
        "    def __init__(self):\n",
        "        self.head = None\n",
        "        self.current = None\n",
        "\n",
        "    def add_song(self, title):\n",
        "        new_song = Song(title)\n",
        "        if not self.head:\n",
        "            self.head = new_song\n",
        "            self.current = new_song\n",
        "        else:\n",
        "            temp = self.head\n",
        "            while temp.next:\n",
        "                temp = temp.next\n",
        "            temp.next = new_song\n",
        "            new_song.prev = temp\n",
        "\n",
        "    def play_current(self):\n",
        "        if self.current:\n",
        "            print(f\"🎶 Now Playing: {self.current.title}\")\n",
        "        else:\n",
        "            print(\"Playlist is empty.\")\n",
        "\n",
        "    def next_song(self):\n",
        "        if self.current and self.current.next:\n",
        "            self.current = self.current.next\n",
        "            self.play_current()\n",
        "        else:\n",
        "            print(\"🚫 End of playlist.\")\n",
        "\n",
        "    def prev_song(self):\n",
        "        if self.current and self.current.prev:\n",
        "            self.current = self.current.prev\n",
        "            self.play_current()\n",
        "        else:\n",
        "            print(\"🚫 Start of playlist.\")\n",
        "\n",
        "    def show_playlist(self):\n",
        "        temp = self.head\n",
        "        print(\"📀 Playlist:\")\n",
        "        while temp:\n",
        "            print(f\" - {temp.title}\")\n",
        "            temp = temp.next\n",
        "\n",
        "\n",
        "# Example Usage\n",
        "playlist = Playlist()\n",
        "playlist.add_song(\"Song A\")\n",
        "playlist.add_song(\"Song B\")\n",
        "playlist.add_song(\"Song C\")\n",
        "playlist.add_song(\"Song D\")\n",
        "\n",
        "playlist.show_playlist()\n",
        "\n",
        "playlist.play_current()\n",
        "playlist.next_song()\n",
        "playlist.next_song()\n",
        "playlist.prev_song()\n"
      ],
      "metadata": {
        "colab": {
          "base_uri": "https://localhost:8080/"
        },
        "id": "3u1hSfVSBbtu",
        "outputId": "4795cd6f-bf8f-4e86-dd7a-b560a18711c2"
      },
      "execution_count": 5,
      "outputs": [
        {
          "output_type": "stream",
          "name": "stdout",
          "text": [
            "📀 Playlist:\n",
            " - Song A\n",
            " - Song B\n",
            " - Song C\n",
            " - Song D\n",
            "🎶 Now Playing: Song A\n",
            "🎶 Now Playing: Song B\n",
            "🎶 Now Playing: Song C\n",
            "🎶 Now Playing: Song B\n"
          ]
        }
      ]
    },
    {
      "cell_type": "markdown",
      "source": [
        "# 2. Undo/Redo Functionality (Doubly Linked List)\n",
        "\n",
        ". In Word, Photoshop, VS Code, when you hit Undo, you move to the previous state.\n",
        "\n",
        ".When you hit Redo, you move to the next state.\n",
        "\n",
        ".This is just moving left/right in a Doubly Linked List of actions."
      ],
      "metadata": {
        "id": "hNy6zZGiB14A"
      }
    },
    {
      "cell_type": "code",
      "source": [
        "# Node for each action\n",
        "class Action:\n",
        "    def __init__(self, description):\n",
        "        self.description = description\n",
        "        self.prev = None\n",
        "        self.next = None\n",
        "\n",
        "# History manager (like Word/VS Code editor)\n",
        "class History:\n",
        "    def __init__(self):\n",
        "        self.current = None  # Current action\n",
        "        self.head = None     # First action\n",
        "\n",
        "    def add_action(self, description):\n",
        "        new_action = Action(description)\n",
        "        if not self.head:  # First action\n",
        "            self.head = new_action\n",
        "            self.current = new_action\n",
        "        else:\n",
        "            # If we add a new action after undoing, clear redo history\n",
        "            if self.current.next:\n",
        "                self.current.next.prev = None\n",
        "                self.current.next = None\n",
        "\n",
        "            # Add action at the end\n",
        "            self.current.next = new_action\n",
        "            new_action.prev = self.current\n",
        "            self.current = new_action\n",
        "\n",
        "        print(f\"✅ Action done: {description}\")\n",
        "\n",
        "    def undo(self):\n",
        "        if self.current and self.current.prev:\n",
        "            print(f\"↩️ Undo: {self.current.description}\")\n",
        "            self.current = self.current.prev\n",
        "        else:\n",
        "            print(\"🚫 Nothing to undo.\")\n",
        "\n",
        "    def redo(self):\n",
        "        if self.current and self.current.next:\n",
        "            self.current = self.current.next\n",
        "            print(f\"🔁 Redo: {self.current.description}\")\n",
        "        else:\n",
        "            print(\"🚫 Nothing to redo.\")\n",
        "\n",
        "    def show_history(self):\n",
        "        temp = self.head\n",
        "        print(\"\\n📜 History:\")\n",
        "        while temp:\n",
        "            marker = \"⬅️ (current)\" if temp == self.current else \"\"\n",
        "            print(f\" - {temp.description} {marker}\")\n",
        "            temp = temp.next\n",
        "        print()\n",
        "\n",
        "\n",
        "# Example Usage\n",
        "editor = History()\n",
        "\n",
        "editor.add_action(\"Typed 'Hello'\")\n",
        "editor.add_action(\"Bolded 'Hello'\")\n",
        "editor.add_action(\"Added image\")\n",
        "\n",
        "editor.show_history()\n",
        "\n",
        "editor.undo()\n",
        "editor.undo()\n",
        "editor.redo()\n",
        "editor.add_action(\"Typed 'World'\")\n",
        "editor.show_history()\n"
      ],
      "metadata": {
        "colab": {
          "base_uri": "https://localhost:8080/"
        },
        "id": "bo04SOHRB8En",
        "outputId": "e5bcae99-9905-401b-e379-da92d3ab278d"
      },
      "execution_count": 7,
      "outputs": [
        {
          "output_type": "stream",
          "name": "stdout",
          "text": [
            "✅ Action done: Typed 'Hello'\n",
            "✅ Action done: Bolded 'Hello'\n",
            "✅ Action done: Added image\n",
            "\n",
            "📜 History:\n",
            " - Typed 'Hello' \n",
            " - Bolded 'Hello' \n",
            " - Added image ⬅️ (current)\n",
            "\n",
            "↩️ Undo: Added image\n",
            "↩️ Undo: Bolded 'Hello'\n",
            "🔁 Redo: Bolded 'Hello'\n",
            "✅ Action done: Typed 'World'\n",
            "\n",
            "📜 History:\n",
            " - Typed 'Hello' \n",
            " - Bolded 'Hello' \n",
            " - Typed 'World' ⬅️ (current)\n",
            "\n"
          ]
        }
      ]
    },
    {
      "cell_type": "markdown",
      "source": [
        "# 3. Image Viewer (Circular Linked List)\n",
        "\n",
        ".In photo galleries, after the last image, it goes back to the first image.\n",
        "\n",
        ".That’s a Circular Linked List.\n",
        "\n",
        ".You can also go backward or forward if implemented with a Circular Doubly Linked List."
      ],
      "metadata": {
        "id": "osLfQe8CCIcj"
      }
    },
    {
      "cell_type": "code",
      "source": [
        "# Node class for each image\n",
        "class ImageNode:\n",
        "    def __init__(self, filename):\n",
        "        self.filename = filename\n",
        "        self.prev = None\n",
        "        self.next = None\n",
        "\n",
        "# Circular Doubly Linked List for Image Viewer\n",
        "class ImageViewer:\n",
        "    def __init__(self):\n",
        "        self.head = None\n",
        "        self.current = None\n",
        "\n",
        "    def add_image(self, filename):\n",
        "        new_image = ImageNode(filename)\n",
        "        if not self.head:\n",
        "            # First image → points to itself (circular)\n",
        "            self.head = new_image\n",
        "            self.current = new_image\n",
        "            new_image.next = new_image\n",
        "            new_image.prev = new_image\n",
        "        else:\n",
        "            # Insert at the end (before head)\n",
        "            tail = self.head.prev\n",
        "            tail.next = new_image\n",
        "            new_image.prev = tail\n",
        "            new_image.next = self.head\n",
        "            self.head.prev = new_image\n",
        "\n",
        "    def show_current(self):\n",
        "        if self.current:\n",
        "            print(f\"🖼️ Viewing: {self.current.filename}\")\n",
        "        else:\n",
        "            print(\"🚫 No images in the viewer.\")\n",
        "\n",
        "    def next_image(self):\n",
        "        if self.current:\n",
        "            self.current = self.current.next\n",
        "            self.show_current()\n",
        "\n",
        "    def prev_image(self):\n",
        "        if self.current:\n",
        "            self.current = self.current.prev\n",
        "            self.show_current()\n",
        "\n",
        "    def show_all_images(self, count=10):\n",
        "        if not self.head:\n",
        "            print(\"🚫 No images.\")\n",
        "            return\n",
        "        print(\"\\n📂 Image List:\")\n",
        "        temp = self.head\n",
        "        i = 0\n",
        "        while True and i < count:  # prevent infinite loop\n",
        "            marker = \"⬅️ (current)\" if temp == self.current else \"\"\n",
        "            print(f\" - {temp.filename} {marker}\")\n",
        "            temp = temp.next\n",
        "            i += 1\n",
        "            if temp == self.head:\n",
        "                break\n",
        "        print()\n",
        "\n",
        "\n",
        "# Example Usage\n",
        "viewer = ImageViewer()\n",
        "viewer.add_image(\"Image1.jpg\")\n",
        "viewer.add_image(\"Image2.jpg\")\n",
        "viewer.add_image(\"Image3.jpg\")\n",
        "viewer.add_image(\"Image4.jpg\")\n",
        "\n",
        "viewer.show_all_images()\n",
        "viewer.show_current()\n",
        "\n",
        "viewer.next_image()\n",
        "viewer.next_image()\n",
        "viewer.next_image()\n",
        "viewer.next_image()   # Loops back to first image\n",
        "viewer.prev_image()   # Goes back to last image\n"
      ],
      "metadata": {
        "colab": {
          "base_uri": "https://localhost:8080/"
        },
        "id": "5zCAASZuCTNp",
        "outputId": "84b29cf0-4179-47d8-dc7f-7cf991f96031"
      },
      "execution_count": 8,
      "outputs": [
        {
          "output_type": "stream",
          "name": "stdout",
          "text": [
            "\n",
            "📂 Image List:\n",
            " - Image1.jpg ⬅️ (current)\n",
            " - Image2.jpg \n",
            " - Image3.jpg \n",
            " - Image4.jpg \n",
            "\n",
            "🖼️ Viewing: Image1.jpg\n",
            "🖼️ Viewing: Image2.jpg\n",
            "🖼️ Viewing: Image3.jpg\n",
            "🖼️ Viewing: Image4.jpg\n",
            "🖼️ Viewing: Image1.jpg\n",
            "🖼️ Viewing: Image4.jpg\n"
          ]
        }
      ]
    },
    {
      "cell_type": "markdown",
      "source": [
        "# 4. CPU Scheduling (Operating Systems)\n",
        "\n",
        ". Operating systems maintain a list of processes waiting for CPU.\n",
        "\n",
        ". In Round Robin scheduling, processes are arranged in a Circular Linked List, so each gets CPU in a cycle."
      ],
      "metadata": {
        "id": "w6LMhbbuCWDJ"
      }
    },
    {
      "cell_type": "code",
      "source": [
        "# Node for each process\n",
        "class Process:\n",
        "    def __init__(self, pid, burst_time):\n",
        "        self.pid = pid\n",
        "        self.burst_time = burst_time\n",
        "        self.next = None\n",
        "\n",
        "# Round Robin Scheduler (Circular Linked List)\n",
        "class RoundRobinScheduler:\n",
        "    def __init__(self, time_quantum):\n",
        "        self.head = None\n",
        "        self.time_quantum = time_quantum\n",
        "\n",
        "    def add_process(self, pid, burst_time):\n",
        "        new_process = Process(pid, burst_time)\n",
        "        if not self.head:\n",
        "            self.head = new_process\n",
        "            new_process.next = self.head\n",
        "        else:\n",
        "            temp = self.head\n",
        "            while temp.next != self.head:\n",
        "                temp = temp.next\n",
        "            temp.next = new_process\n",
        "            new_process.next = self.head\n",
        "\n",
        "    def schedule(self):\n",
        "        if not self.head:\n",
        "            print(\"🚫 No processes to schedule.\")\n",
        "            return\n",
        "\n",
        "        print(\"\\n🖥️ Round Robin CPU Scheduling:\")\n",
        "        temp = self.head\n",
        "\n",
        "        while True:\n",
        "            if temp.burst_time > 0:\n",
        "                # Run for time quantum or remaining burst time\n",
        "                run_time = min(self.time_quantum, temp.burst_time)\n",
        "                temp.burst_time -= run_time\n",
        "                print(f\"⚡ Process {temp.pid} ran for {run_time} units. Remaining: {temp.burst_time}\")\n",
        "\n",
        "            # Check if all processes are done\n",
        "            all_done = True\n",
        "            check = self.head\n",
        "            while True:\n",
        "                if check.burst_time > 0:\n",
        "                    all_done = False\n",
        "                    break\n",
        "                check = check.next\n",
        "                if check == self.head:\n",
        "                    break\n",
        "\n",
        "            if all_done:\n",
        "                print(\"\\n✅ All processes completed.\")\n",
        "                break\n",
        "\n",
        "            temp = temp.next\n"
      ],
      "metadata": {
        "id": "DvuZEWnyCfMV"
      },
      "execution_count": 9,
      "outputs": []
    },
    {
      "cell_type": "markdown",
      "source": [
        "# 5. Web Browsers (Back & Forward Navigation)\n",
        "\n",
        ". When you click links, pages are stored like nodes.\n",
        "\n",
        ". Back button → go to the previous node.\n",
        "\n",
        ".Forward button → go to the next node.\n",
        "\n",
        ". Internally handled using a Doubly Linked List."
      ],
      "metadata": {
        "id": "Sz1QOzZtCfll"
      }
    },
    {
      "cell_type": "code",
      "source": [
        "# Node for each webpage\n",
        "class Page:\n",
        "    def __init__(self, url):\n",
        "        self.url = url\n",
        "        self.prev = None\n",
        "        self.next = None\n",
        "\n",
        "# Browser using DLL\n",
        "class Browser:\n",
        "    def __init__(self):\n",
        "        self.current = None\n",
        "\n",
        "    def visit(self, url):\n",
        "        new_page = Page(url)\n",
        "        if self.current:\n",
        "            # Clear forward history\n",
        "            self.current.next = None\n",
        "            new_page.prev = self.current\n",
        "            self.current.next = new_page\n",
        "        self.current = new_page\n",
        "        print(f\"🌍 Visited: {url}\")\n",
        "\n",
        "    def back(self):\n",
        "        if self.current and self.current.prev:\n",
        "            self.current = self.current.prev\n",
        "            print(f\"⬅️ Back to: {self.current.url}\")\n",
        "        else:\n",
        "            print(\"🚫 No previous page.\")\n",
        "\n",
        "    def forward(self):\n",
        "        if self.current and self.current.next:\n",
        "            self.current = self.current.next\n",
        "            print(f\"➡️ Forward to: {self.current.url}\")\n",
        "        else:\n",
        "            print(\"🚫 No forward page.\")\n",
        "\n",
        "    def current_page(self):\n",
        "        if self.current:\n",
        "            print(f\"📌 Current Page: {self.current.url}\")\n",
        "        else:\n",
        "            print(\"🚫 No page loaded.\")\n"
      ],
      "metadata": {
        "id": "3QoAzJNoCnsW"
      },
      "execution_count": 18,
      "outputs": []
    },
    {
      "cell_type": "code",
      "source": [
        "browser = Browser()\n",
        "\n",
        "browser.visit(\"google.com\")\n",
        "browser.visit(\"wikipedia.org\")\n",
        "browser.visit(\"github.com\")\n",
        "\n",
        "browser.back()\n",
        "browser.back()\n",
        "browser.forward()\n",
        "browser.visit(\"stackoverflow.com\")  # Clears forward history\n",
        "browser.forward()  # Should show no forward page\n",
        "\n",
        "browser.current_page()\n"
      ],
      "metadata": {
        "colab": {
          "base_uri": "https://localhost:8080/"
        },
        "id": "UERlAlmyDmNy",
        "outputId": "ddcb48ef-fd00-454d-a469-b77a29c1861f"
      },
      "execution_count": 25,
      "outputs": [
        {
          "output_type": "stream",
          "name": "stdout",
          "text": [
            "🌍 Visited: google.com\n",
            "🌍 Visited: wikipedia.org\n",
            "🌍 Visited: github.com\n",
            "⬅️ Back to: wikipedia.org\n",
            "⬅️ Back to: google.com\n",
            "➡️ Forward to: wikipedia.org\n",
            "🌍 Visited: stackoverflow.com\n",
            "🚫 No forward page.\n",
            "📌 Current Page: stackoverflow.com\n"
          ]
        }
      ]
    },
    {
      "cell_type": "markdown",
      "source": [
        "# 6. Dynamic Memory Allocation (Low-level systems)\n",
        "\n",
        ". In C / OS kernels, free memory blocks are kept in a linked list.\n",
        "\n",
        ". When a process requests memory, the OS traverses the list and allocates from available blocks."
      ],
      "metadata": {
        "id": "h1vmXhGCCp3L"
      }
    },
    {
      "cell_type": "code",
      "source": [
        "# Node representing a free memory block\n",
        "class MemoryBlock:\n",
        "    def __init__(self, start, size):\n",
        "        self.start = start      # starting address\n",
        "        self.size = size        # block size\n",
        "        self.next = None\n",
        "\n",
        "# Free List Manager\n",
        "class MemoryManager:\n",
        "    def __init__(self, total_memory):\n",
        "        # Initially, one big free block\n",
        "        self.head = MemoryBlock(0, total_memory)\n",
        "\n",
        "    def allocate(self, size):\n",
        "        temp = self.head\n",
        "        prev = None\n",
        "\n",
        "        while temp:\n",
        "            if temp.size >= size:\n",
        "                allocated_address = temp.start\n",
        "                print(f\"✅ Allocated {size} units at address {allocated_address}\")\n",
        "\n",
        "                # Adjust the free block\n",
        "                temp.start += size\n",
        "                temp.size -= size\n",
        "\n",
        "                # If block fully used, remove it\n",
        "                if temp.size == 0:\n",
        "                    if prev:\n",
        "                        prev.next = temp.next\n",
        "                    else:\n",
        "                        self.head = temp.next\n",
        "                return allocated_address\n",
        "\n",
        "            prev = temp\n",
        "            temp = temp.next\n",
        "\n",
        "        print(\"🚫 Not enough memory!\")\n",
        "        return None\n",
        "\n",
        "    def free(self, address, size):\n",
        "        print(f\"♻️ Freed {size} units at address {address}\")\n",
        "        new_block = MemoryBlock(address, size)\n",
        "\n",
        "        # Insert into free list (sorted by address)\n",
        "        if not self.head or address < self.head.start:\n",
        "            new_block.next = self.head\n",
        "            self.head = new_block\n",
        "        else:\n",
        "            temp = self.head\n",
        "            while temp.next and temp.next.start < address:\n",
        "                temp = temp.next\n",
        "            new_block.next = temp.next\n",
        "            temp.next = new_block\n",
        "\n",
        "        self.coalesce()\n",
        "\n",
        "    def coalesce(self):\n",
        "        # Merge adjacent free blocks\n",
        "        temp = self.head\n",
        "        while temp and temp.next:\n",
        "            if temp.start + temp.size == temp.next.start:\n",
        "                temp.size += temp.next.size\n",
        "                temp.next = temp.next.next\n",
        "            else:\n",
        "                temp = temp.next\n",
        "\n",
        "    def show_free_list(self):\n",
        "        print(\"\\n📂 Free Memory Blocks:\")\n",
        "        temp = self.head\n",
        "        while temp:\n",
        "            print(f\" - Address {temp.start}, Size {temp.size}\")\n",
        "            temp = temp.next\n",
        "        print()\n"
      ],
      "metadata": {
        "id": "0MXSU7WGCusy"
      },
      "execution_count": 11,
      "outputs": []
    },
    {
      "cell_type": "code",
      "source": [
        "# Example Usage\n",
        "mm = MemoryManager(100)  # total memory = 100 units\n",
        "mm.show_free_list()\n",
        "\n",
        "# Allocate memory\n",
        "a1 = mm.allocate(30)\n",
        "a2 = mm.allocate(20)\n",
        "mm.show_free_list()\n",
        "\n",
        "# Free memory\n",
        "mm.free(a1, 30)\n",
        "mm.show_free_list()\n",
        "\n",
        "# Allocate again\n",
        "a3 = mm.allocate(50)\n",
        "mm.show_free_list()\n"
      ],
      "metadata": {
        "colab": {
          "base_uri": "https://localhost:8080/"
        },
        "id": "W7XqTGJTDbC7",
        "outputId": "da2ed3ee-83be-4e2c-a01c-95b1a7c5e4e0"
      },
      "execution_count": 13,
      "outputs": [
        {
          "output_type": "stream",
          "name": "stdout",
          "text": [
            "\n",
            "📂 Free Memory Blocks:\n",
            " - Address 0, Size 100\n",
            "\n",
            "✅ Allocated 30 units at address 0\n",
            "✅ Allocated 20 units at address 30\n",
            "\n",
            "📂 Free Memory Blocks:\n",
            " - Address 50, Size 50\n",
            "\n",
            "♻️ Freed 30 units at address 0\n",
            "\n",
            "📂 Free Memory Blocks:\n",
            " - Address 0, Size 30\n",
            " - Address 50, Size 50\n",
            "\n",
            "✅ Allocated 50 units at address 50\n",
            "\n",
            "📂 Free Memory Blocks:\n",
            " - Address 0, Size 30\n",
            "\n"
          ]
        }
      ]
    },
    {
      "cell_type": "markdown",
      "source": [
        "# 7. Train Coaches (Real-world Analogy) 🚆\n",
        "\n",
        ". Imagine train coaches connected one after another.\n",
        "\n",
        ". Add a new coach → just attach it at the end.\n",
        "\n",
        ". Remove a coach → detach it.\n",
        "\n",
        ".This is exactly how linked lists behave."
      ],
      "metadata": {
        "id": "BBS_9ZnyCvRz"
      }
    },
    {
      "cell_type": "code",
      "source": [
        "# Node = Train Coach\n",
        "class Coach:\n",
        "    def __init__(self, coach_id):\n",
        "        self.coach_id = coach_id\n",
        "        self.next = None\n",
        "\n",
        "# Train = Singly Linked List\n",
        "class Train:\n",
        "    def __init__(self):\n",
        "        self.head = None\n",
        "\n",
        "    def add_coach(self, coach_id):\n",
        "        new_coach = Coach(coach_id)\n",
        "        if not self.head:\n",
        "            self.head = new_coach\n",
        "        else:\n",
        "            temp = self.head\n",
        "            while temp.next:\n",
        "                temp = temp.next\n",
        "            temp.next = new_coach\n",
        "        print(f\"🚋 Coach {coach_id} added.\")\n",
        "\n",
        "    def remove_coach(self, coach_id):\n",
        "        temp = self.head\n",
        "        prev = None\n",
        "        while temp:\n",
        "            if temp.coach_id == coach_id:\n",
        "                if prev:\n",
        "                    prev.next = temp.next\n",
        "                else:\n",
        "                    self.head = temp.next\n",
        "                print(f\"❌ Coach {coach_id} removed.\")\n",
        "                return\n",
        "            prev = temp\n",
        "            temp = temp.next\n",
        "        print(f\"⚠️ Coach {coach_id} not found.\")\n",
        "\n",
        "    def show_train(self):\n",
        "        if not self.head:\n",
        "            print(\"🚂 Train is empty.\")\n",
        "            return\n",
        "        temp = self.head\n",
        "        print(\"🚂 Engine → \", end=\"\")\n",
        "        while temp:\n",
        "            print(f\"[Coach {temp.coach_id}]\", end=\" → \")\n",
        "            temp = temp.next\n",
        "        print(\"NULL\")\n"
      ],
      "metadata": {
        "id": "egED4JKeC37t"
      },
      "execution_count": 20,
      "outputs": []
    },
    {
      "cell_type": "code",
      "source": [
        "# Example Usage\n",
        "train = Train()\n",
        "\n",
        "train.add_coach(\"C1\")\n",
        "train.add_coach(\"C2\")\n",
        "train.add_coach(\"C3\")\n",
        "train.show_train()\n",
        "\n",
        "train.remove_coach(\"C2\")\n",
        "train.show_train()\n",
        "\n",
        "train.add_coach(\"C4\")\n",
        "train.show_train()\n"
      ],
      "metadata": {
        "colab": {
          "base_uri": "https://localhost:8080/"
        },
        "id": "VWX5AFH9Eisv",
        "outputId": "da165fdd-5bb3-4d11-f8dd-7e1890900568"
      },
      "execution_count": 21,
      "outputs": [
        {
          "output_type": "stream",
          "name": "stdout",
          "text": [
            "🚋 Coach C1 added.\n",
            "🚋 Coach C2 added.\n",
            "🚋 Coach C3 added.\n",
            "🚂 Engine → [Coach C1] → [Coach C2] → [Coach C3] → NULL\n",
            "❌ Coach C2 removed.\n",
            "🚂 Engine → [Coach C1] → [Coach C3] → NULL\n",
            "🚋 Coach C4 added.\n",
            "🚂 Engine → [Coach C1] → [Coach C3] → [Coach C4] → NULL\n"
          ]
        }
      ]
    }
  ]
}