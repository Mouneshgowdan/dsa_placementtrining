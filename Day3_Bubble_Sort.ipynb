{
  "nbformat": 4,
  "nbformat_minor": 0,
  "metadata": {
    "colab": {
      "provenance": [],
      "authorship_tag": "ABX9TyNfBzf/C4LEoWzy92FzJS/g",
      "include_colab_link": true
    },
    "kernelspec": {
      "name": "python3",
      "display_name": "Python 3"
    },
    "language_info": {
      "name": "python"
    }
  },
  "cells": [
    {
      "cell_type": "markdown",
      "metadata": {
        "id": "view-in-github",
        "colab_type": "text"
      },
      "source": [
        "<a href=\"https://colab.research.google.com/github/Mouneshgowdan/dsa_placementtrining/blob/main/Day3_Bubble_Sort.ipynb\" target=\"_parent\"><img src=\"https://colab.research.google.com/assets/colab-badge.svg\" alt=\"Open In Colab\"/></a>"
      ]
    },
    {
      "cell_type": "markdown",
      "source": [
        "# Sorting_Algorithms Examples and Problems\n",
        "\n",
        "# 1. what is Bubble Sort\n",
        "\n",
        "#  . Repeatedly compares adjacent elements and swaps if needed.\n",
        "#  .Time Complexity:Best: O(n) & Worst: O (n²) & Average Case:O(n²)\n",
        "#  .Space Complexity: O(1)\n",
        "\n",
        "\n",
        "  \n",
        "# Example Problem:\n",
        "#Sort [4, 10, 3, 5, 1].\n",
        "# Steps:\n",
        "# Build heap → [10, 5, 3, 4, 1]\n",
        "# Extract max → [10] + [5, 4, 3, 1]\n",
        "# Final sorted: [1, 3, 4, 5, 10]"
      ],
      "metadata": {
        "id": "efgWldXXFFQD"
      }
    },
    {
      "cell_type": "code",
      "execution_count": 1,
      "metadata": {
        "colab": {
          "base_uri": "https://localhost:8080/"
        },
        "id": "LjmkOvryE23p",
        "outputId": "df83aaa2-6d11-4a60-ec5d-cb2431314e3b"
      },
      "outputs": [
        {
          "output_type": "stream",
          "name": "stdout",
          "text": [
            "[1, 2, 3, 5, 7]\n"
          ]
        }
      ],
      "source": [
        "swap = 0\n",
        "l = [3,2,1,5,7]\n",
        "n = len(l)\n",
        "\n",
        "for i in range(n):\n",
        "    for j in range(0, n-i-1):\n",
        "        if l [j] > l[j+1]:\n",
        "            l[j], l[j+1] = l[j+1], l[j]\n",
        "            swap += 1\n",
        "print(l)"
      ]
    },
    {
      "cell_type": "markdown",
      "source": [
        "\n",
        "\n",
        "#1. student height arrangement A teacher has a list of student and they are randomly placced .write a code in such a way so that all the student stand in ascending line\n",
        "\n",
        "\n",
        "\n",
        "\n",
        "\n"
      ],
      "metadata": {
        "id": "kL04HD78FEKe"
      }
    },
    {
      "cell_type": "code",
      "source": [
        "def bubble_sort(heights):\n",
        "    n = len(heights)\n",
        "    for i in range(n):\n",
        "        for j in range(0, n - i - 1):\n",
        "            if heights[j] > heights[j + 1]:\n",
        "                # Swap if the element is greater than the next\n",
        "                heights[j], heights[j + 1] = heights[j + 1], heights[j]\n",
        "    return heights\n",
        "\n",
        "\n",
        "student_heights = [150, 165, 140, 172, 160, 155]\n",
        "\n",
        "print(\"Original heights:\", student_heights)\n",
        "sorted_heights = bubble_sort(student_heights)\n",
        "print(\"Students arranged in ascending order:\", sorted_heights)"
      ],
      "metadata": {
        "colab": {
          "base_uri": "https://localhost:8080/"
        },
        "id": "KYSFxkVmKEPo",
        "outputId": "f4941332-4cef-4114-8a46-793ab878fe5b"
      },
      "execution_count": 3,
      "outputs": [
        {
          "output_type": "stream",
          "name": "stdout",
          "text": [
            "Original heights: [150, 165, 140, 172, 160, 155]\n",
            "Students arranged in ascending order: [140, 150, 155, 160, 165, 172]\n"
          ]
        }
      ]
    },
    {
      "cell_type": "markdown",
      "source": [
        "\n",
        "#2. student height arrangement A teacher has a list of student and they are randomly placced .write a code in such a way so that all the student stand in descending line"
      ],
      "metadata": {
        "id": "WWqGGR4ZKu1J"
      }
    },
    {
      "cell_type": "code",
      "source": [
        "def bubble_sort_desc(arr):\n",
        "    n = len(arr)\n",
        "    for i in range(n):\n",
        "        for j in range(0, n-i-1):\n",
        "            if arr[j] < arr[j+1]:   # reverse condition\n",
        "                arr[j], arr[j+1] = arr[j+1], arr[j]\n",
        "    return arr\n",
        "\n",
        "student_heights = [158, 142, 165, 150, 170, 155]\n",
        "print(\"Descending:\", bubble_sort_desc(student_heights))\n"
      ],
      "metadata": {
        "colab": {
          "base_uri": "https://localhost:8080/"
        },
        "id": "L-sgahg8KvXQ",
        "outputId": "75f02f26-c43d-4c42-948a-b035f93a4214"
      },
      "execution_count": 4,
      "outputs": [
        {
          "output_type": "stream",
          "name": "stdout",
          "text": [
            "Descending: [170, 165, 158, 155, 150, 142]\n"
          ]
        }
      ]
    },
    {
      "cell_type": "markdown",
      "source": [
        "# 3. Arrange Students by Roll Number Using Buble Sort"
      ],
      "metadata": {
        "id": "kWLbaYq4LHCX"
      }
    },
    {
      "cell_type": "code",
      "source": [
        "roll_numbers = [105, 101, 110, 108, 102]\n",
        "roll_numbers.sort()   # Python built-in sort\n",
        "print(\"Roll numbers in ascending order:\", roll_numbers)\n"
      ],
      "metadata": {
        "colab": {
          "base_uri": "https://localhost:8080/"
        },
        "id": "duMs34CtLVhL",
        "outputId": "4811ab93-bd25-4841-c48a-8fee7a2b165b"
      },
      "execution_count": 5,
      "outputs": [
        {
          "output_type": "stream",
          "name": "stdout",
          "text": [
            "Roll numbers in ascending order: [101, 102, 105, 108, 110]\n"
          ]
        }
      ]
    },
    {
      "cell_type": "markdown",
      "source": [
        "# 4. Arrange Student Names (Alphabetical) Using Bubble Sort"
      ],
      "metadata": {
        "id": "n2XRbC-OLaH9"
      }
    },
    {
      "cell_type": "code",
      "source": [
        "names = [\"Zara\", \"Mike\", \"Adam\", \"John\"]\n",
        "names.sort()\n",
        "print(\"Names in alphabetical order:\", names)\n"
      ],
      "metadata": {
        "colab": {
          "base_uri": "https://localhost:8080/"
        },
        "id": "OBWrnmXALlW_",
        "outputId": "7afa9b25-c1b9-46f1-f810-773b65e69e64"
      },
      "execution_count": 6,
      "outputs": [
        {
          "output_type": "stream",
          "name": "stdout",
          "text": [
            "Names in alphabetical order: ['Adam', 'John', 'Mike', 'Zara']\n"
          ]
        }
      ]
    },
    {
      "cell_type": "markdown",
      "source": [
        "# 5. Arrange Students by Marks Using Bubble Sort"
      ],
      "metadata": {
        "id": "jRXfr1DyLtLw"
      }
    },
    {
      "cell_type": "code",
      "source": [
        "marks = [78, 95, 62, 89, 70, 56]\n",
        "marks.sort()\n",
        "print(\"Marks in ascending order:\", marks)\n"
      ],
      "metadata": {
        "colab": {
          "base_uri": "https://localhost:8080/"
        },
        "id": "CLOO4nnBL3_J",
        "outputId": "a0cfcb50-228d-454e-e381-0f3fc033388d"
      },
      "execution_count": 7,
      "outputs": [
        {
          "output_type": "stream",
          "name": "stdout",
          "text": [
            "Marks in ascending order: [56, 62, 70, 78, 89, 95]\n"
          ]
        }
      ]
    },
    {
      "cell_type": "markdown",
      "source": [
        "# 6. Arrange Cricket Team Scores A cricket team’s scores in recent matches are:\n",
        "# [250, 310, 180, 275, 299]\n",
        "# Arrange them in ascending order."
      ],
      "metadata": {
        "id": "qOayZwxGL8qY"
      }
    },
    {
      "cell_type": "code",
      "source": [
        "scores = [250, 310, 180, 275, 299]\n",
        "scores.sort()\n",
        "print(\"Scores in ascending order:\", scores)\n"
      ],
      "metadata": {
        "colab": {
          "base_uri": "https://localhost:8080/"
        },
        "id": "6V_YUiZKMKVo",
        "outputId": "03f1d407-ab35-4694-8c70-18d4d3c4fec4"
      },
      "execution_count": 8,
      "outputs": [
        {
          "output_type": "stream",
          "name": "stdout",
          "text": [
            "Scores in ascending order: [180, 250, 275, 299, 310]\n"
          ]
        }
      ]
    },
    {
      "cell_type": "markdown",
      "source": [
        "# 7. Arrange Employee Salaries Company employee salaries are:\n",
        "# [45000, 25000, 60000, 30000, 55000]\n",
        "# Arrange them from lowest to highest."
      ],
      "metadata": {
        "id": "YwdZmuBLMPJM"
      }
    },
    {
      "cell_type": "code",
      "source": [
        "salaries = [45000, 25000, 60000, 30000, 55000]\n",
        "salaries.sort()\n",
        "print(\"Salaries in ascending order:\", salaries)\n"
      ],
      "metadata": {
        "colab": {
          "base_uri": "https://localhost:8080/"
        },
        "id": "UFQ_sO1FMgvf",
        "outputId": "ad237bc4-1879-46f7-d4bc-db3df434ea94"
      },
      "execution_count": 9,
      "outputs": [
        {
          "output_type": "stream",
          "name": "stdout",
          "text": [
            "Salaries in ascending order: [25000, 30000, 45000, 55000, 60000]\n"
          ]
        }
      ]
    }
  ]
}