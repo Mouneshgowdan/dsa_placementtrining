        "  C\t  D   \t100\n",
        "\n",
        "Nodes = Airports: A, B, C, D\n",
        "\n",
        "Edges = Direct flights\n",
        "\n",
        "Weights = Cost of flight"
      ],
      "metadata": {
        "id": "q-E8u1SXRsuq"
      }
    },
    {
      "cell_type": "code",
      "source": [
        "import heapq\n",
        "\n",
        "# Graph represented as adjacency list\n",
        "# Each node has a list of (neighbor, cost)\n",
        "graph = {\n",
        "    'A': [('B', 100), ('C', 300)],\n",
        "    'B': [('C', 50), ('D', 200)],\n",
        "    'C': [('D', 100)],\n",
        "    'D': []\n",
        "}\n",
        "\n",
        "def dijkstra(graph, start, target):\n",
        "    # Priority queue: (cost, node, path)\n",
        "    pq = [(0, start, [start])]\n",
        "    visited = set()\n",
        "\n",
        "    while pq:\n",
        "        (cost, node, path) = heapq.heappop(pq)\n",
        "\n",
        "        if node in visited:\n",
        "            continue\n",
        "        visited.add(node)\n",
        "\n",
        "        # If we reached the target city\n",
        "        if node == target:\n",
        "            return cost, path\n",
        "\n",
        "        for neighbor, weight in graph[node]:\n",
        "            if neighbor not in visited:\n",
        "                heapq.heappush(pq, (cost + weight, neighbor, path + [neighbor]))\n",
        "\n",
        "    return float(\"inf\"), []\n",
        "\n",
        "# Example: Find cheapest flight from A to D\n",
        "cost, path = dijkstra(graph, 'A', 'D')\n",
        "print(f\"Cheapest cost: {cost}\")\n",
        "print(f\"Path taken: {' -> '.join(path)}\")\n"
      ],
      "metadata": {
        "colab": {
          "base_uri": "https://localhost:8080/"
        },
        "id": "UBW3GfEQR1LR",
        "outputId": "cc79e8f9-0c40-4847-e88a-6cfc9ada5116"
      },
      "execution_count": 1,
      "outputs": [
        {
          "output_type": "stream",
          "name": "stdout",
          "text": [
            "Cheapest cost: 250\n",
            "Path taken: A -> B -> C -> D\n"
          ]
        }
      ]
    },
    {
      "cell_type": "markdown",
      "source": [
        "### 4. Game Map Pathfinding (Shortest Path)\n",
        "\n",
        "Imagine a game where a player moves between locations (nodes), and AI enemies need to chase them."
      ],
      "metadata": {
        "id": "-Ke1B7UaSRQo"
      }
    },
    {
      "cell_type": "code",
      "source": [
        "from collections import deque\n",
        "\n",
        "# Graph: Locations in a game map\n",
        "game_map = {\n",
        "    'Start': ['A', 'B'],\n",
        "    'A': ['C', 'D'],\n",
        "    'B': ['D'],\n",
        "    'C': ['Goal'],\n",
        "    'D': ['Goal'],\n",
        "    'Goal': []\n",
        "}\n",
        "\n",
        "def bfs_shortest_path(graph, start, goal):\n",
        "    queue = deque([(start, [start])])\n",
        "    visited = set()\n",
        "\n",
        "    while queue:\n",
        "        node, path = queue.popleft()\n",
        "\n",
        "        if node == goal:\n",
        "            return path\n",
        "\n",
        "        for neighbor in graph[node]:\n",
        "            if neighbor not in visited:\n",
        "                visited.add(neighbor)\n",
        "                queue.append((neighbor, path + [neighbor]))\n",
        "    return None\n",
        "\n",
        "path = bfs_shortest_path(game_map, 'Start', 'Goal')\n",
        "print(\"Shortest path in Game Map 🎮:\", \" -> \".join(path))\n"
      ],
      "metadata": {
        "colab": {
          "base_uri": "https://localhost:8080/"
        },
        "id": "hKZg_h5gSXJX",
        "outputId": "41e5cf3f-e686-4afb-975f-c9b4c491c9bf"
      },
      "execution_count": 2,
      "outputs": [
        {
          "output_type": "stream",
          "name": "stdout",
          "text": [
            "Shortest path in Game Map 🎮: Start -> A -> C -> Goal\n"
          ]
        }
      ]
    },
    {
      "cell_type": "markdown",
      "source": [
        "### 5. Social Network (Friend Suggestions)\n",
        "\n",
        "Nodes = Users, Edges = Friendships.\n",
        "We can use BFS to suggest friends-of-friends."
      ],
      "metadata": {
        "id": "GrFBjFnSSdWQ"
      }
    },
    {
      "cell_type": "code",
      "source": [
        "# Social network graph\n",
        "social_network = {\n",
        "    'Alice': ['Bob', 'Charlie'],\n",
        "    'Bob': ['Alice', 'David'],\n",
        "    'Charlie': ['Alice', 'Eve'],\n",
        "    'David': ['Bob'],\n",
        "    'Eve': ['Charlie']\n",
        "}\n",
        "\n",
        "def suggest_friends(graph, person):\n",
        "    friends = set(graph[person])\n",
        "    suggestions = set()\n",
        "\n",
        "    for friend in friends:\n",
        "        for fof in graph[friend]:  # friend of friend\n",
        "            if fof != person and fof not in friends:\n",
        "                suggestions.add(fof)\n",
        "\n",
        "    return suggestions\n",
        "\n",
        "print(\"Friend suggestions for Alice 👥:\", suggest_friends(social_network, 'Alice'))\n"
      ],
      "metadata": {
        "colab": {
          "base_uri": "https://localhost:8080/"
        },
        "id": "Aw1bEjRRSsrh",
        "outputId": "c2203f94-fa6c-4816-e17e-6364db25fd5f"
      },
      "execution_count": 3,
      "outputs": [
        {
          "output_type": "stream",
          "name": "stdout",
          "text": [
            "Friend suggestions for Alice 👥: {'Eve', 'David'}\n"
          ]
        }
      ]
    }
  ]
}
