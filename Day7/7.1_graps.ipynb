{
  "nbformat": 4,
  "nbformat_minor": 0,
  "metadata": {
    "colab": {
      "provenance": [],
      "authorship_tag": "ABX9TyPBnrDDfS+ITx2JkTe0xdm3",
      "include_colab_link": true
    },
    "kernelspec": {
      "name": "python3",
      "display_name": "Python 3"
    },
    "language_info": {
      "name": "python"
    }
  },
  "cells": [
    {
      "cell_type": "markdown",
      "metadata": {
        "id": "view-in-github",
        "colab_type": "text"
      },
      "source": [
        "<a href=\"https://colab.research.google.com/github/Mouneshgowdan/dsa_placementtrining/blob/main/7.1_graps.ipynb\" target=\"_parent\"><img src=\"https://colab.research.google.com/assets/colab-badge.svg\" alt=\"Open In Colab\"/></a>"
      ]
    },
    {
      "cell_type": "markdown",
      "source": [
        "# Graphs_Example and Problems\n",
        "\n",
        "### 1.What is Graphs.?\n",
        "\n",
        "A Graph is a data structure used to represent relationships between objects.\n",
        "\n",
        "It consists of:\n",
        "\n",
        "* Vertices (Nodes): The objects (e.g., cities, people, webpages).\n",
        "\n",
        "* Edges: The connections/links between nodes (e.g., roads, friendships, hyperlinks)."
      ],
      "metadata": {
        "id": "mQqcaBKJAEbV"
      }
    },
    {
      "cell_type": "markdown",
      "source": [
        "### Types of Graphs\n",
        "\n",
        "1. Directed Graph (Digraph): Edges have a direction → A → B.\n",
        "\n",
        "2. Undirected Graph: Edges don’t have direction (A—B).\n",
        "\n",
        "3. Weighted Graph: Edges have weights/costs (e.g., distance between cities).\n",
        "\n",
        "4. Unweighted Graph: Edges don’t have weights.\n",
        "\n",
        "5. Cyclic Graph: Contains cycles (loops).\n",
        "\n",
        "6. Acyclic Graph: No cycles (like a tree)."
      ],
      "metadata": {
        "id": "dB9lFrutCx7V"
      }
    },
    {
      "cell_type": "markdown",
      "source": [
        "### Graph Representation\n",
        "\n",
        "There are mainly two ways to represent graphs:\n",
        "\n",
        "1. Adjacency Matrix\n",
        "A 2D array where matrix[i][j] = 1 (or weight) if there is an edge between i and j."
      ],
      "metadata": {
        "id": "UUUou9K1F2jD"
      }
    },
    {
      "cell_type": "code",
      "source": [
        "# Adjacency Matrix representation\n",
        "graph = [\n",
        "    [0, 1, 0, 1],  # Connections for node 0\n",
        "    [1, 0, 1, 0],  # Connections for node 1\n",
        "    [0, 1, 0, 1],  # Connections for node 2\n",
        "    [1, 0, 1, 0]   # Connections for node 3\n",
        "]\n",
        "\n",
        "print(\"Adjacency Matrix Representation:\")\n",
        "for row in graph:\n",
        "    print(row)\n"
      ],
      "metadata": {
        "colab": {
          "base_uri": "https://localhost:8080/"
        },
        "id": "5DPSPsW0F-_G",
        "outputId": "51f17679-f8be-4b71-a777-aaf3ff191adc"
      },
      "execution_count": null,
      "outputs": [
        {
          "output_type": "stream",
          "name": "stdout",
          "text": [
            "Adjacency Matrix Representation:\n",
            "[0, 1, 0, 1]\n",
            "[1, 0, 1, 0]\n",
            "[0, 1, 0, 1]\n",
            "[1, 0, 1, 0]\n"
          ]
        }
      ]
    },
    {
      "cell_type": "markdown",
      "source": [
        "### 2. Adjacency List (More common in Python)\n",
        "\n",
        "A dictionary where each key is a node, and values are lists of neighbors.\n"
      ],
      "metadata": {
        "id": "v2nwQrh6GD8E"
      }
    },
    {
      "cell_type": "code",
      "source": [
        "# Adjacency List representation\n",
        "graph = {\n",
        "    \"A\": [\"B\", \"C\"],\n",
        "    \"B\": [\"A\", \"D\"],\n",
        "    \"C\": [\"A\", \"D\"],\n",
        "    \"D\": [\"B\", \"C\"]\n",
        "}\n",
        "\n",
        "print(\"Adjacency List Representation:\")\n",
        "for node in graph:\n",
        "    print(f\"{node} -> {graph[node]}\")\n"
      ],
      "metadata": {
        "colab": {
          "base_uri": "https://localhost:8080/"
        },
        "id": "i8wsRkvlGJJ6",
        "outputId": "fd0ef5d8-1254-4237-fac3-c91c1c2ef1a0"
      },
      "execution_count": null,
      "outputs": [
        {
          "output_type": "stream",
          "name": "stdout",
          "text": [
            "Adjacency List Representation:\n",
            "A -> ['B', 'C']\n",
            "B -> ['A', 'D']\n",
            "C -> ['A', 'D']\n",
            "D -> ['B', 'C']\n"
          ]
        }
      ]
    },
    {
      "cell_type": "markdown",
      "source": [
        "# Real-world Examples of Graphs\n"
      ],
      "metadata": {
        "id": "KGQU3LUwGR63"
      }
    },
    {
      "cell_type": "markdown",
      "source": [
        "1.Social Network as a Graph\n",
        "\n",
        "* Users → Nodes (Vertices)\n",
        "\n",
        "* Friendships → Edges (Connections)\n",
        "\n",
        "### Example Network:\n",
        "\n",
        "* Suppose we have users: Alice, Bob, Charlie, and David\n",
        "\n",
        "    Alice is friends with Bob and Charlie\n",
        "\n",
        "    Bob is friends with Alice and David\n",
        "\n",
        "    Charlie is friends with Alice and David\n",
        "\n",
        "    David is friends with Bob and Charlie"
      ],
      "metadata": {
        "id": "FAG4OmfAGVZ0"
      }
    },
    {
      "cell_type": "code",
      "source": [
        "# Social Network Graph using Adjacency List\n",
        "social_network = {\n",
        "    \"Alice\": [\"Bob\", \"Charlie\"],\n",
        "    \"Bob\": [\"Alice\", \"David\"],\n",
        "    \"Charlie\": [\"Alice\", \"David\"],\n",
        "    \"David\": [\"Bob\", \"Charlie\"]\n",
        "}\n",
        "\n",
        "print(\"Social Network (Adjacency List):\")\n",
        "for user, friends in social_network.items():\n",
        "    print(f\"{user} -> {friends}\")\n"
      ],
      "metadata": {
        "colab": {
          "base_uri": "https://localhost:8080/"
        },
        "id": "efVtpBmRIj3l",
        "outputId": "54cf4bb8-e200-459f-83d9-a62cc4ab487b"
      },
      "execution_count": null,
      "outputs": [
        {
          "output_type": "stream",
          "name": "stdout",
          "text": [
            "Social Network (Adjacency List):\n",
            "Alice -> ['Bob', 'Charlie']\n",
            "Bob -> ['Alice', 'David']\n",
            "Charlie -> ['Alice', 'David']\n",
            "David -> ['Bob', 'Charlie']\n"
          ]
        }
      ]
    },
    {
      "cell_type": "markdown",
      "source": [
        "# Maps as Graphs\n",
        "\n",
        "* Cities → Nodes (Vertices)\n",
        "\n",
        "* Roads → Edges (Connections between cities)\n",
        "\n",
        "* Distance / Travel Time → Edge Weights\n"
      ],
      "metadata": {
        "id": "ycrTaP8DJBY5"
      }
    },
    {
      "cell_type": "code",
      "source": [
        "# Graph: Cities and roads with distances\n",
        "roads = {\n",
        "    \"A\": [(\"B\", 5), (\"C\", 10)],\n",
        "    \"B\": [(\"A\", 5), (\"D\", 7)],\n",
        "    \"C\": [(\"A\", 10), (\"D\", 3)],\n",
        "    \"D\": [(\"B\", 7), (\"C\", 3)]\n",
        "}\n",
        "\n",
        "print(\"Map Graph (with distances):\")\n",
        "for city, connections in roads.items():\n",
        "    print(f\"{city} -> {connections}\")\n",
        "\n",
        "\n",
        "#2. Shortest Path Example (Dijkstra’s Algorithm)Let’s find the shortest path from A → D.\n",
        "\n",
        "    import heapq\n",
        "\n",
        "def dijkstra(graph, start):\n",
        "    distances = {city: float(\"inf\") for city in graph}\n",
        "    distances[start] = 0\n",
        "    pq = [(0, start)]  # priority queue\n",
        "\n",
        "    while pq:\n",
        "        curr_dist, city = heapq.heappop(pq)\n",
        "\n",
        "        if curr_dist > distances[city]:\n",
        "            continue\n",
        "\n",
        "        for neighbor, weight in graph[city]:\n",
        "            distance = curr_dist + weight\n",
        "            if distance < distances[neighbor]:\n",
        "                distances[neighbor] = distance\n",
        "                heapq.heappush(pq, (distance, neighbor))\n",
        "\n",
        "    return distances\n",
        "\n",
        "# Shortest distances from A\n",
        "shortest_paths = dijkstra(roads, \"A\")\n",
        "print(\"Shortest distances from A:\", shortest_paths)\n",
        "\n"
      ],
      "metadata": {
        "colab": {
          "base_uri": "https://localhost:8080/"
        },
        "id": "P6MDlxknJLBC",
        "outputId": "f9b5cf0f-b56d-4d61-b046-129f039a3c0e"
      },
      "execution_count": null,
      "outputs": [
        {
          "output_type": "stream",
          "name": "stdout",
          "text": [
            "Map Graph (with distances):\n",
            "A -> [('B', 5), ('C', 10)]\n",
            "B -> [('A', 5), ('D', 7)]\n",
            "C -> [('A', 10), ('D', 3)]\n",
            "D -> [('B', 7), ('C', 3)]\n",
            "Shortest distances from A: {'A': 0, 'B': 5, 'C': 10, 'D': 12}\n"
          ]
        }
      ]
    },
    {
      "cell_type": "markdown",
      "source": [
        "### 3. Airline Routes ✈️\n",
        "\n",
        "* Nodes = Airports\n",
        "\n",
        "\n",
        "* Edges = Direct flights\n",
        "\n",
        "* Weights = Distance / Ticket Price / Travel Time\n",
        "\n",
        "   👉 Problem: Find the cheapest flight or shortest route between two cities.\n",
        "\n",
        "\n",
        "   Problem Setup\n",
        "\n",
        "Suppose we have these airports and flights:\n",
        "\n",
        "From  To  Cost\n",
        "\n",
        "  A\t  B\t   100\n",
        "  \n",
        "  A\t  C\t   300\n",
        "\n",
        "  B\t  C\t   50\n",
        "\n",
        "  B\t  D\t    200\n",
        "\n",
        "  C\t  D   \t100\n",
        "\n",
        "Nodes = Airports: A, B, C, D\n",
        "\n",
        "Edges = Direct flights\n",
        "\n",
        "Weights = Cost of flight"
      ],
      "metadata": {
        "id": "q-E8u1SXRsuq"
      }
    },
    {
      "cell_type": "code",
      "source": [
        "import heapq\n",
        "\n",
        "# Graph represented as adjacency list\n",
        "# Each node has a list of (neighbor, cost)\n",
        "graph = {\n",
        "    'A': [('B', 100), ('C', 300)],\n",
        "    'B': [('C', 50), ('D', 200)],\n",
        "    'C': [('D', 100)],\n",
        "    'D': []\n",
        "}\n",
        "\n",
        "def dijkstra(graph, start, target):\n",
        "    # Priority queue: (cost, node, path)\n",
        "    pq = [(0, start, [start])]\n",
        "    visited = set()\n",
        "\n",
        "    while pq:\n",
        "        (cost, node, path) = heapq.heappop(pq)\n",
        "\n",
        "        if node in visited:\n",
        "            continue\n",
        "        visited.add(node)\n",
        "\n",
        "        # If we reached the target city\n",
        "        if node == target:\n",
        "            return cost, path\n",
        "\n",
        "        for neighbor, weight in graph[node]:\n",
        "            if neighbor not in visited:\n",
        "                heapq.heappush(pq, (cost + weight, neighbor, path + [neighbor]))\n",
        "\n",
        "    return float(\"inf\"), []\n",
        "\n",
        "# Example: Find cheapest flight from A to D\n",
        "cost, path = dijkstra(graph, 'A', 'D')\n",
        "print(f\"Cheapest cost: {cost}\")\n",
        "print(f\"Path taken: {' -> '.join(path)}\")\n"
      ],
      "metadata": {
        "colab": {
          "base_uri": "https://localhost:8080/"
        },
        "id": "UBW3GfEQR1LR",
        "outputId": "cc79e8f9-0c40-4847-e88a-6cfc9ada5116"
      },
      "execution_count": 1,
      "outputs": [
        {
          "output_type": "stream",
          "name": "stdout",
          "text": [
            "Cheapest cost: 250\n",
            "Path taken: A -> B -> C -> D\n"
          ]
        }
      ]
    },
    {
      "cell_type": "markdown",
      "source": [
        "### 4. Game Map Pathfinding (Shortest Path)\n",
        "\n",
        "Imagine a game where a player moves between locations (nodes), and AI enemies need to chase them."
      ],
      "metadata": {
        "id": "-Ke1B7UaSRQo"
      }
    },
    {
      "cell_type": "code",
      "source": [
        "from collections import deque\n",
        "\n",
        "# Graph: Locations in a game map\n",
        "game_map = {\n",
        "    'Start': ['A', 'B'],\n",
        "    'A': ['C', 'D'],\n",
        "    'B': ['D'],\n",
        "    'C': ['Goal'],\n",
        "    'D': ['Goal'],\n",
        "    'Goal': []\n",
        "}\n",
        "\n",
        "def bfs_shortest_path(graph, start, goal):\n",
        "    queue = deque([(start, [start])])\n",
        "    visited = set()\n",
        "\n",
        "    while queue:\n",
        "        node, path = queue.popleft()\n",
        "\n",
        "        if node == goal:\n",
        "            return path\n",
        "\n",
        "        for neighbor in graph[node]:\n",
        "            if neighbor not in visited:\n",
        "                visited.add(neighbor)\n",
        "                queue.append((neighbor, path + [neighbor]))\n",
        "    return None\n",
        "\n",
        "path = bfs_shortest_path(game_map, 'Start', 'Goal')\n",
        "print(\"Shortest path in Game Map 🎮:\", \" -> \".join(path))\n"
      ],
      "metadata": {
        "colab": {
          "base_uri": "https://localhost:8080/"
        },
        "id": "hKZg_h5gSXJX",
        "outputId": "41e5cf3f-e686-4afb-975f-c9b4c491c9bf"
      },
      "execution_count": 2,
      "outputs": [
        {
          "output_type": "stream",
          "name": "stdout",
          "text": [
            "Shortest path in Game Map 🎮: Start -> A -> C -> Goal\n"
          ]
        }
      ]
    },
    {
      "cell_type": "markdown",
      "source": [
        "### 5. Social Network (Friend Suggestions)\n",
        "\n",
        "Nodes = Users, Edges = Friendships.\n",
        "We can use BFS to suggest friends-of-friends."
      ],
      "metadata": {
        "id": "GrFBjFnSSdWQ"
      }
    },
    {
      "cell_type": "code",
      "source": [
        "# Social network graph\n",
        "social_network = {\n",
        "    'Alice': ['Bob', 'Charlie'],\n",
        "    'Bob': ['Alice', 'David'],\n",
        "    'Charlie': ['Alice', 'Eve'],\n",
        "    'David': ['Bob'],\n",
        "    'Eve': ['Charlie']\n",
        "}\n",
        "\n",
        "def suggest_friends(graph, person):\n",
        "    friends = set(graph[person])\n",
        "    suggestions = set()\n",
        "\n",
        "    for friend in friends:\n",
        "        for fof in graph[friend]:  # friend of friend\n",
        "            if fof != person and fof not in friends:\n",
        "                suggestions.add(fof)\n",
        "\n",
        "    return suggestions\n",
        "\n",
        "print(\"Friend suggestions for Alice 👥:\", suggest_friends(social_network, 'Alice'))\n"
      ],
      "metadata": {
        "colab": {
          "base_uri": "https://localhost:8080/"
        },
        "id": "Aw1bEjRRSsrh",
        "outputId": "c2203f94-fa6c-4816-e17e-6364db25fd5f"
      },
      "execution_count": 3,
      "outputs": [
        {
          "output_type": "stream",
          "name": "stdout",
          "text": [
            "Friend suggestions for Alice 👥: {'Eve', 'David'}\n"
          ]
        }
      ]
    }
  ]
}