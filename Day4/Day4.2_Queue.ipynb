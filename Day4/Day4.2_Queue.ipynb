{
  "nbformat": 4,
  "nbformat_minor": 0,
  "metadata": {
    "colab": {
      "provenance": [],
      "authorship_tag": "ABX9TyPrB+r3lKvcH4xUzFZYEBUi",
      "include_colab_link": true
    },
    "kernelspec": {
      "name": "python3",
      "display_name": "Python 3"
    },
    "language_info": {
      "name": "python"
    }
  },
  "cells": [
    {
      "cell_type": "markdown",
      "metadata": {
        "id": "view-in-github",
        "colab_type": "text"
      },
      "source": [
        "<a href=\"https://colab.research.google.com/github/Mouneshgowdan/dsa_placementtrining/blob/main/Day4.2_Queue.ipynb\" target=\"_parent\"><img src=\"https://colab.research.google.com/assets/colab-badge.svg\" alt=\"Open In Colab\"/></a>"
      ]
    },
    {
      "cell_type": "markdown",
      "source": [
        "# Queue Examples and Problems\n",
        "\n",
        "# 1.What is Stack ?\n",
        "\n",
        ". A Queue in Python is a linear data structure that follows the FIFO (First In, First Out) principle :\n",
        "\n",
        ". The first element added is the first\n",
        "one to be removed.\n",
        "\n",
        ". Think of it like people standing in line at a ticket counter  — the person who comes first gets served first.\n",
        "\n",
        "# * Key Features of a Queue:\n",
        "\n",
        ". FIFO order: First element inserted is the first removed.\n",
        "\n",
        ". Two main operations:\n",
        "\n",
        ". enqueue: Add an item to the queue (rear).\n",
        "\n",
        ". dequeue: Remove an item from the queue (front)."
      ],
      "metadata": {
        "id": "yuXF3mvXynJq"
      }
    },
    {
      "cell_type": "markdown",
      "source": [
        "# Example 1  \n",
        "\n",
        "  Queue using List"
      ],
      "metadata": {
        "id": "SO8F8cMD0_R0"
      }
    },
    {
      "cell_type": "code",
      "source": [
        "# Queue implementation using List (FIFO)\n",
        "\n",
        "class Queue:\n",
        "    def __init__(self):\n",
        "        self.queue = []\n",
        "\n",
        "    def enqueue(self, item):\n",
        "        self.queue.append(item)\n",
        "\n",
        "    def dequeue(self):\n",
        "        if len(self.queue) < 1:\n",
        "            return None\n",
        "        return self.queue.pop(0)\n",
        "\n",
        "    def display(self):\n",
        "        print(\"Queue:\", self.queue)\n",
        "\n",
        "    def size(self):\n",
        "        return len(self.queue)\n",
        "\n",
        "\n",
        "# Example\n",
        "q = Queue()\n",
        "q.enqueue(10)\n",
        "q.enqueue(20)\n",
        "q.enqueue(30)\n",
        "q.display()\n",
        "\n",
        "print(\"Dequeued:\", q.dequeue())\n",
        "q.display()\n"
      ],
      "metadata": {
        "colab": {
          "base_uri": "https://localhost:8080/"
        },
        "id": "pRS0rxB102-D",
        "outputId": "f19c81c4-d739-4454-8ac2-8ac850793886"
      },
      "execution_count": 1,
      "outputs": [
        {
          "output_type": "stream",
          "name": "stdout",
          "text": [
            "Queue: [10, 20, 30]\n",
            "Dequeued: 10\n",
            "Queue: [20, 30]\n"
          ]
        }
      ]
    },
    {
      "cell_type": "markdown",
      "source": [
        "# Example 2\n",
        "\n",
        "Queue using collections.deque (better performance)"
      ],
      "metadata": {
        "id": "0kVZklNj1KNh"
      }
    },
    {
      "cell_type": "code",
      "source": [
        "from collections import deque\n",
        "\n",
        "class Queue:\n",
        "    def __init__(self):\n",
        "        self.queue = deque()\n",
        "\n",
        "    def enqueue(self, item):\n",
        "        self.queue.append(item)\n",
        "\n",
        "    def dequeue(self):\n",
        "        if len(self.queue) < 1:\n",
        "            return None\n",
        "        return self.queue.popleft()\n",
        "\n",
        "    def display(self):\n",
        "        print(\"Queue:\", list(self.queue))\n",
        "\n",
        "    def size(self):\n",
        "        return len(self.queue)\n",
        "\n",
        "\n",
        "# Example\n",
        "q = Queue()\n",
        "q.enqueue(\"A\")\n",
        "q.enqueue(\"B\")\n",
        "q.enqueue(\"C\")\n",
        "q.display()\n",
        "\n",
        "print(\"Dequeued:\", q.dequeue())\n",
        "q.display()\n"
      ],
      "metadata": {
        "colab": {
          "base_uri": "https://localhost:8080/"
        },
        "id": "7g5jdq4C1Svp",
        "outputId": "49699926-ed9d-4ea0-d9e3-0b1608945321"
      },
      "execution_count": 2,
      "outputs": [
        {
          "output_type": "stream",
          "name": "stdout",
          "text": [
            "Queue: ['A', 'B', 'C']\n",
            "Dequeued: A\n",
            "Queue: ['B', 'C']\n"
          ]
        }
      ]
    },
    {
      "cell_type": "markdown",
      "source": [
        "# Example 3\n",
        "\n",
        "Queue using queue.Queue (for multithreading)"
      ],
      "metadata": {
        "id": "Rh5tYdtM1W29"
      }
    },
    {
      "cell_type": "code",
      "source": [
        "from queue import Queue\n",
        "\n",
        "# Create a Queue\n",
        "q = Queue()\n",
        "\n",
        "# Enqueue\n",
        "q.put(100)\n",
        "q.put(200)\n",
        "q.put(300)\n",
        "\n",
        "# Dequeue\n",
        "print(\"Dequeued:\", q.get())\n",
        "print(\"Dequeued:\", q.get())\n",
        "\n",
        "print(\"Is Queue Empty?\", q.empty())\n"
      ],
      "metadata": {
        "colab": {
          "base_uri": "https://localhost:8080/"
        },
        "id": "zbY090E_1bSW",
        "outputId": "659950c6-d659-4fc5-cd9e-901d591c82d2"
      },
      "execution_count": 3,
      "outputs": [
        {
          "output_type": "stream",
          "name": "stdout",
          "text": [
            "Dequeued: 100\n",
            "Dequeued: 200\n",
            "Is Queue Empty? False\n"
          ]
        }
      ]
    },
    {
      "cell_type": "markdown",
      "source": [
        "# 1. Print Job Scheduling Using Queue"
      ],
      "metadata": {
        "id": "JMXl1Baq1eRy"
      }
    },
    {
      "cell_type": "code",
      "source": [
        "from queue import Queue\n",
        "import time\n",
        "\n",
        "# Create a queue for print jobs\n",
        "print_queue = Queue()\n",
        "\n",
        "# Adding jobs\n",
        "print_queue.put(\"Document1.pdf\")\n",
        "print_queue.put(\"Document2.docx\")\n",
        "print_queue.put(\"Image.png\")\n",
        "\n",
        "print(\"Printing jobs in order:\")\n",
        "\n",
        "while not print_queue.empty():\n",
        "    job = print_queue.get()\n",
        "    print(f\"Printing: {job}\")\n",
        "    time.sleep(1)  # simulate printing time\n"
      ],
      "metadata": {
        "colab": {
          "base_uri": "https://localhost:8080/"
        },
        "id": "r2DyDlB27ybq",
        "outputId": "c4f0cd37-6958-490e-f150-83a9dc4a8a5c"
      },
      "execution_count": 1,
      "outputs": [
        {
          "output_type": "stream",
          "name": "stdout",
          "text": [
            "🖨️ Printing jobs in order:\n",
            "Printing: Document1.pdf\n",
            "Printing: Document2.docx\n",
            "Printing: Image.png\n"
          ]
        }
      ]
    },
    {
      "cell_type": "markdown",
      "source": [
        "# 2. Call Center Waiting Line Using Queue"
      ],
      "metadata": {
        "id": "IWBq5WYK71Wo"
      }
    },
    {
      "cell_type": "code",
      "source": [
        "from collections import deque\n",
        "\n",
        "# Queue for callers\n",
        "call_queue = deque()\n",
        "\n",
        "# Callers entering the queue\n",
        "call_queue.append(\"Caller 1\")\n",
        "call_queue.append(\"Caller 2\")\n",
        "call_queue.append(\"Caller 3\")\n",
        "\n",
        "print(\"Serving callers:\")\n",
        "\n",
        "while call_queue:\n",
        "    caller = call_queue.popleft()\n",
        "    print(f\"Serving {caller}\")\n"
      ],
      "metadata": {
        "colab": {
          "base_uri": "https://localhost:8080/"
        },
        "id": "XBoKmsTG7-lO",
        "outputId": "f9566e53-4ee5-4371-abac-8c654a0e2c8b"
      },
      "execution_count": 2,
      "outputs": [
        {
          "output_type": "stream",
          "name": "stdout",
          "text": [
            "📞 Serving callers:\n",
            "Serving Caller 1\n",
            "Serving Caller 2\n",
            "Serving Caller 3\n"
          ]
        }
      ]
    },
    {
      "cell_type": "markdown",
      "source": [
        "# 3. OS Process Scheduling Using Queue"
      ],
      "metadata": {
        "id": "ZfjJs9X68CEq"
      }
    },
    {
      "cell_type": "code",
      "source": [
        "from queue import Queue\n",
        "\n",
        "# Queue for processes\n",
        "process_queue = Queue()\n",
        "\n",
        "# Adding processes\n",
        "process_queue.put(\"Process A\")\n",
        "process_queue.put(\"Process B\")\n",
        "process_queue.put(\"Process C\")\n",
        "\n",
        "print(\" CPU Scheduling:\")\n",
        "\n",
        "while not process_queue.empty():\n",
        "    process = process_queue.get()\n",
        "    print(f\"Running {process}\")\n"
      ],
      "metadata": {
        "colab": {
          "base_uri": "https://localhost:8080/"
        },
        "id": "a27Ld5pq8NT4",
        "outputId": "0723b4d0-e449-4f2f-af45-37f9234c5c86"
      },
      "execution_count": 3,
      "outputs": [
        {
          "output_type": "stream",
          "name": "stdout",
          "text": [
            "💻 CPU Scheduling:\n",
            "Running Process A\n",
            "Running Process B\n",
            "Running Process C\n"
          ]
        }
      ]
    },
    {
      "cell_type": "markdown",
      "source": [
        "# 4. Elevator System\n",
        "\n",
        "Requests for an elevator are stored in a queue. The system serves requests in the order received."
      ],
      "metadata": {
        "id": "G27rZ_Er8zcH"
      }
    },
    {
      "cell_type": "code",
      "source": [
        "from queue import Queue\n",
        "import time\n",
        "\n",
        "# Elevator request queue\n",
        "elevator_requests = Queue()\n",
        "\n",
        "# People requesting elevator\n",
        "elevator_requests.put(\"Floor 3\")\n",
        "elevator_requests.put(\"Floor 7\")\n",
        "elevator_requests.put(\"Floor 1\")\n",
        "elevator_requests.put(\"Floor 5\")\n",
        "\n",
        "print(\" Elevator starting at Ground Floor\")\n",
        "\n",
        "# Serve requests in FIFO order\n",
        "while not elevator_requests.empty():\n",
        "    request = elevator_requests.get()\n",
        "    print(f\" Elevator moving to {request}...\")\n",
        "    time.sleep(1)  # simulate travel time\n",
        "    print(f\"Reached {request}\")\n"
      ],
      "metadata": {
        "colab": {
          "base_uri": "https://localhost:8080/"
        },
        "id": "UOEDlXCd848I",
        "outputId": "56af52b7-81fa-4d67-dd12-708ab111e4cc"
      },
      "execution_count": 5,
      "outputs": [
        {
          "output_type": "stream",
          "name": "stdout",
          "text": [
            "🏢 Elevator starting at Ground Floor\n",
            " Elevator moving to Floor 3...\n",
            "Reached Floor 3\n",
            " Elevator moving to Floor 7...\n",
            "Reached Floor 7\n",
            " Elevator moving to Floor 1...\n",
            "Reached Floor 1\n",
            " Elevator moving to Floor 5...\n",
            "Reached Floor 5\n"
          ]
        }
      ]
    },
    {
      "cell_type": "markdown",
      "source": [
        "# 5. Traffic Signal System\n",
        "\n",
        "Cars at a red light line up, and the first car moves out first when it turns green."
      ],
      "metadata": {
        "id": "Azy1TDd29I7y"
      }
    },
    {
      "cell_type": "code",
      "source": [
        "from collections import deque\n",
        "import time\n",
        "\n",
        "# Queue for cars at the traffic signal\n",
        "traffic_queue = deque()\n",
        "\n",
        "# Cars arriving at the signal\n",
        "traffic_queue.append(\"Car A\")\n",
        "traffic_queue.append(\"Car B\")\n",
        "traffic_queue.append(\"Car C\")\n",
        "traffic_queue.append(\"Car D\")\n",
        "\n",
        "print(\" Traffic Signal is RED. Cars are waiting...\")\n",
        "\n",
        "time.sleep(2)\n",
        "print(\"\\n Signal turns GREEN! Cars can move...\\n\")\n",
        "\n",
        "# Cars pass the signal in FIFO order\n",
        "while traffic_queue:\n",
        "    car = traffic_queue.popleft()\n",
        "    print(f\" {car} passed the signal.\")\n",
        "    time.sleep(1)  # simulate car passing\n"
      ],
      "metadata": {
        "colab": {
          "base_uri": "https://localhost:8080/"
        },
        "id": "-YbVH5ES9OuF",
        "outputId": "681bf1a3-d964-4ac7-e472-86b19e08d168"
      },
      "execution_count": 7,
      "outputs": [
        {
          "output_type": "stream",
          "name": "stdout",
          "text": [
            " Traffic Signal is RED. Cars are waiting...\n",
            "\n",
            " Signal turns GREEN! Cars can move...\n",
            "\n",
            " Car A passed the signal.\n",
            " Car B passed the signal.\n",
            " Car C passed the signal.\n",
            " Car D passed the signal.\n"
          ]
        }
      ]
    },
    {
      "cell_type": "markdown",
      "source": [
        "# 6. Restaurant Order Processing\n",
        "\n",
        "Orders are taken from customers and sent to the kitchen. Chefs prepare them in the same order."
      ],
      "metadata": {
        "id": "vScB9E6d9me8"
      }
    },
    {
      "cell_type": "code",
      "source": [
        "from queue import Queue\n",
        "import time\n",
        "\n",
        "# Queue for restaurant orders\n",
        "order_queue = Queue()\n",
        "\n",
        "# Customers placing orders\n",
        "order_queue.put(\"Order 1: Burger \")\n",
        "order_queue.put(\"Order 2: Pizza \")\n",
        "order_queue.put(\"Order 3: Pasta \")\n",
        "order_queue.put(\"Order 4: Sandwich \")\n",
        "\n",
        "print(\" Orders received from customers...\")\n",
        "\n",
        "time.sleep(1)\n",
        "print(\"\\n Kitchen starts preparing orders...\\n\")\n",
        "\n",
        "# Process orders in FIFO order\n",
        "while not order_queue.empty():\n",
        "    order = order_queue.get()\n",
        "    print(f\" Preparing {order}\")\n",
        "    time.sleep(2)  # simulate cooking time\n",
        "    print(f\" {order} is ready!\\n\")\n"
      ],
      "metadata": {
        "colab": {
          "base_uri": "https://localhost:8080/"
        },
        "id": "AmjJg9Yz9qWE",
        "outputId": "7f15c7b0-3afd-42d3-acc6-2bee2a7ed92b"
      },
      "execution_count": 9,
      "outputs": [
        {
          "output_type": "stream",
          "name": "stdout",
          "text": [
            " Orders received from customers...\n",
            "\n",
            " Kitchen starts preparing orders...\n",
            "\n",
            " Preparing Order 1: Burger \n",
            " Order 1: Burger  is ready!\n",
            "\n",
            " Preparing Order 2: Pizza \n",
            " Order 2: Pizza  is ready!\n",
            "\n",
            " Preparing Order 3: Pasta \n",
            " Order 3: Pasta  is ready!\n",
            "\n",
            " Preparing Order 4: Sandwich \n",
            " Order 4: Sandwich  is ready!\n",
            "\n"
          ]
        }
      ]
    },
    {
      "cell_type": "markdown",
      "source": [
        "# 7. Task Scheduling in Cloud Computing\n",
        "\n",
        "Jobs submitted to a server are processed in order of arrival."
      ],
      "metadata": {
        "id": "gY2Dbb4X9vNw"
      }
    },
    {
      "cell_type": "code",
      "source": [
        "from queue import Queue\n",
        "import time\n",
        "\n",
        "# Queue for cloud jobs\n",
        "task_queue = Queue()\n",
        "\n",
        "# Users submitting jobs\n",
        "task_queue.put(\"Job 1: Data Analysis \")\n",
        "task_queue.put(\"Job 2: Machine Learning Training \")\n",
        "task_queue.put(\"Job 3: Image Processing \")\n",
        "task_queue.put(\"Job 4: Database Backup \")\n",
        "\n",
        "print(\" Jobs submitted to the cloud server...\\n\")\n",
        "time.sleep(1)\n",
        "\n",
        "print(\"  Server starts processing tasks...\\n\")\n",
        "\n",
        "# Server processes jobs in FIFO order\n",
        "while not task_queue.empty():\n",
        "    task = task_queue.get()\n",
        "    print(f\" Running {task}\")\n",
        "    time.sleep(2)  # simulate execution time\n",
        "    print(f\"  {task} completed!\\n\")\n"
      ],
      "metadata": {
        "colab": {
          "base_uri": "https://localhost:8080/"
        },
        "id": "8wYb4fr899eP",
        "outputId": "46d76800-f0dc-431a-91fc-1907b77fcae7"
      },
      "execution_count": 10,
      "outputs": [
        {
          "output_type": "stream",
          "name": "stdout",
          "text": [
            " Jobs submitted to the cloud server...\n",
            "\n",
            "  Server starts processing tasks...\n",
            "\n",
            " Running Job 1: Data Analysis \n",
            "  Job 1: Data Analysis  completed!\n",
            "\n",
            " Running Job 2: Machine Learning Training \n",
            "  Job 2: Machine Learning Training  completed!\n",
            "\n",
            " Running Job 3: Image Processing \n",
            "  Job 3: Image Processing  completed!\n",
            "\n",
            " Running Job 4: Database Backup \n",
            "  Job 4: Database Backup  completed!\n",
            "\n"
          ]
        }
      ]
    }
  ]
}
