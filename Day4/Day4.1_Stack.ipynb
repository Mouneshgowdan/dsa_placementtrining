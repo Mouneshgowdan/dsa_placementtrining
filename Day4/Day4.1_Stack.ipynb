{
  "nbformat": 4,
  "nbformat_minor": 0,
  "metadata": {
    "colab": {
      "provenance": [],
      "authorship_tag": "ABX9TyMo49e1wo5aJ7tgdnap4CYM",
      "include_colab_link": true
    },
    "kernelspec": {
      "name": "python3",
      "display_name": "Python 3"
    },
    "language_info": {
      "name": "python"
    }
  },
  "cells": [
    {
      "cell_type": "markdown",
      "metadata": {
        "id": "view-in-github",
        "colab_type": "text"
      },
      "source": [
        "<a href=\"https://colab.research.google.com/github/Mouneshgowdan/dsa_placementtrining/blob/main/Day4.1_Stack.ipynb\" target=\"_parent\"><img src=\"https://colab.research.google.com/assets/colab-badge.svg\" alt=\"Open In Colab\"/></a>"
      ]
    },
    {
      "cell_type": "markdown",
      "source": [
        "# Stack Examples and Problems\n",
        "#1. What is Stack ?\n",
        "\n",
        ". A stack in Python is a linear data structure that follows the LIFO (Last In, First Out) principle.\n",
        "\n",
        "\n",
        ". This means the last element added (pushed) to the stack will be the first one to be removed (popped).\n",
        "\n",
        "\n",
        "\n",
        "#* Key Operations in a Stack:\n",
        "\n",
        ". Push → Add an element to the top of the stack.\n",
        "\n",
        ". Pop → Remove the top element from the stack.\n",
        "\n",
        ". Peek / Top → View the top element without removing it.\n",
        "\n",
        ". isEmpty → Check whether the stack is empty.\n",
        "\n",
        "# Time Complexity\n",
        "\n",
        ". Stack is super efficient for push/pop/peek operations → all O(1).\n",
        "\n",
        ". Space Complexity = O(n)\n"
      ],
      "metadata": {
        "id": "DL6nMa-AExmL"
      }
    },
    {
      "cell_type": "code",
      "source": [
        "class Stack:\n",
        "    def __init__(self):\n",
        "        self.stack = []\n",
        "\n",
        "    # Push element\n",
        "    def push(self, item):\n",
        "        self.stack.append(item)\n",
        "        print(f\"{item} pushed to stack\")\n",
        "\n",
        "    # Pop element\n",
        "    def pop(self):\n",
        "        if not self.is_empty():\n",
        "            return self.stack.pop()\n",
        "        else:\n",
        "            return \"Stack is empty!\"\n",
        "\n",
        "    # Peek (top element)\n",
        "    def peek(self):\n",
        "        if not self.is_empty():\n",
        "            return self.stack[-1]\n",
        "        else:\n",
        "            return \"Stack is empty!\"\n",
        "\n",
        "    # Check if stack is empty\n",
        "    def is_empty(self):\n",
        "        return len(self.stack) == 0\n",
        "\n",
        "    # Display stack\n",
        "    def display(self):\n",
        "        print(\"Stack:\", self.stack)\n",
        "\n",
        "\n",
        "# ---------------------------\n",
        "# Example usage:\n",
        "s = Stack()\n",
        "s.push(10)\n",
        "s.push(20)\n",
        "s.push(30)\n",
        "s.display()\n",
        "\n",
        "print(\"Top element:\", s.peek())\n",
        "print(\"Popped:\", s.pop())\n",
        "s.display()\n",
        "print(\"Is empty?\", s.is_empty())\n"
      ],
      "metadata": {
        "colab": {
          "base_uri": "https://localhost:8080/"
        },
        "id": "fSgCjeDqFuEP",
        "outputId": "5f6fa154-8555-40a7-e1fd-cb7a7c98e02b"
      },
      "execution_count": 1,
      "outputs": [
        {
          "output_type": "stream",
          "name": "stdout",
          "text": [
            "10 pushed to stack\n",
            "20 pushed to stack\n",
            "30 pushed to stack\n",
            "Stack: [10, 20, 30]\n",
            "Top element: 30\n",
            "Popped: 30\n",
            "Stack: [10, 20]\n",
            "Is empty? False\n"
          ]
        }
      ]
    },
    {
      "cell_type": "markdown",
      "source": [
        "# 1. Browser History (Back Button)\n",
        "\n",
        ". Each time you visit a page, it gets pushed onto a stack.\n",
        "\n",
        ". When you click \"Back\", the last page is popped from the stack."
      ],
      "metadata": {
        "id": "4t5pCGbeG44P"
      }
    },
    {
      "cell_type": "code",
      "source": [
        "class BrowserHistory:\n",
        "    def __init__(self):\n",
        "        self.history = []  # stack for storing pages\n",
        "\n",
        "    # Visit a page (Push to stack)\n",
        "    def visit(self, url):\n",
        "        self.history.append(url)\n",
        "        print(f\"Visited: {url}\")\n",
        "\n",
        "    # Go back (Pop from stack)\n",
        "    def back(self):\n",
        "        if len(self.history) > 1:\n",
        "            last_page = self.history.pop()\n",
        "            print(f\"Back from: {last_page}\")\n",
        "            print(f\"Current page: {self.history[-1]}\")\n",
        "        else:\n",
        "            print(\"No previous page to go back to!\")\n",
        "\n",
        "    # Show current page\n",
        "    def current_page(self):\n",
        "        if self.history:\n",
        "            print(f\"Current page: {self.history[-1]}\")\n",
        "        else:\n",
        "            print(\"No pages visited yet!\")\n",
        "\n",
        "    # Show entire history\n",
        "    def show_history(self):\n",
        "        print(\"History:\", self.history)\n",
        "\n",
        "\n",
        "# ---------------------------\n",
        "# Example Usage\n",
        "browser = BrowserHistory()\n",
        "\n",
        "browser.visit(\"google.com\")\n",
        "browser.visit(\"wikipedia.org\")\n",
        "browser.visit(\"github.com\")\n",
        "\n",
        "browser.current_page()\n",
        "\n",
        "browser.back()   # go back to wikipedia\n",
        "browser.back()   # go back to google\n",
        "browser.back()   # no page to go back\n"
      ],
      "metadata": {
        "colab": {
          "base_uri": "https://localhost:8080/"
        },
        "id": "i32o807lHKRM",
        "outputId": "57559aef-a181-422c-f603-59a3cf420dfd"
      },
      "execution_count": 2,
      "outputs": [
        {
          "output_type": "stream",
          "name": "stdout",
          "text": [
            "Visited: google.com\n",
            "Visited: wikipedia.org\n",
            "Visited: github.com\n",
            "Current page: github.com\n",
            "Back from: github.com\n",
            "Current page: wikipedia.org\n",
            "Back from: wikipedia.org\n",
            "Current page: google.com\n",
            "No previous page to go back to!\n"
          ]
        }
      ]
    },
    {
      "cell_type": "markdown",
      "source": [
        "# 2. Undo/Redo in Text Editors (MS Word, Notepad, Google Docs)\n",
        "\n",
        ". Every action you do (typing, deleting, formatting) is stored in a stack.\n",
        "\n",
        ". When you press Undo (Ctrl+Z) → the last action is popped.\n",
        "\n",
        ". For Redo, another stack is used."
      ],
      "metadata": {
        "id": "G-2HCqhkHQrD"
      }
    },
    {
      "cell_type": "code",
      "source": [
        "class TextEditor:\n",
        "    def __init__(self):\n",
        "        self.undo_stack = []  # stack for undo\n",
        "        self.redo_stack = []  # stack for redo\n",
        "\n",
        "    # Perform an action\n",
        "    def perform_action(self, action):\n",
        "        self.undo_stack.append(action)  # push to undo stack\n",
        "        self.redo_stack.clear()  # clear redo stack when new action is performed\n",
        "        print(f\"Action performed: {action}\")\n",
        "\n",
        "    # Undo last action\n",
        "    def undo(self):\n",
        "        if not self.undo_stack:\n",
        "            print(\"Nothing to undo!\")\n",
        "            return\n",
        "        action = self.undo_stack.pop()\n",
        "        self.redo_stack.append(action)\n",
        "        print(f\"Undo: {action}\")\n",
        "\n",
        "    # Redo last undone action\n",
        "    def redo(self):\n",
        "        if not self.redo_stack:\n",
        "            print(\"Nothing to redo!\")\n",
        "            return\n",
        "        action = self.redo_stack.pop()\n",
        "        self.undo_stack.append(action)\n",
        "        print(f\"Redo: {action}\")\n",
        "\n",
        "    # Show history\n",
        "    def show_history(self):\n",
        "        print(\"Undo Stack:\", self.undo_stack)\n",
        "        print(\"Redo Stack:\", self.redo_stack)\n",
        "\n",
        "\n",
        "# ---------------------------\n",
        "# Example Usage\n",
        "editor = TextEditor()\n",
        "\n",
        "editor.perform_action(\"Type 'Hello'\")\n",
        "editor.perform_action(\"Type ' World'\")\n",
        "editor.perform_action(\"Bold Text\")\n",
        "\n",
        "editor.undo()   # Undo \"Bold Text\"\n",
        "editor.undo()   # Undo \"Type ' World'\"\n",
        "editor.redo()   # Redo \"Type ' World'\"\n",
        "\n",
        "editor.show_history()\n"
      ],
      "metadata": {
        "colab": {
          "base_uri": "https://localhost:8080/"
        },
        "id": "bU0PNOlZHcQr",
        "outputId": "332766cc-f9c2-4e5b-9321-faac7286b063"
      },
      "execution_count": 3,
      "outputs": [
        {
          "output_type": "stream",
          "name": "stdout",
          "text": [
            "Action performed: Type 'Hello'\n",
            "Action performed: Type ' World'\n",
            "Action performed: Bold Text\n",
            "Undo: Bold Text\n",
            "Undo: Type ' World'\n",
            "Redo: Type ' World'\n",
            "Undo Stack: [\"Type 'Hello'\", \"Type ' World'\"]\n",
            "Redo Stack: ['Bold Text']\n"
          ]
        }
      ]
    },
    {
      "cell_type": "markdown",
      "source": [
        "# 3. Call Stack in Programming (Function Calls)\n",
        "\n",
        ". When a function is called, it’s pushed onto the call stack.\n",
        "\n",
        ". When it finishes, it’s popped.\n",
        "\n",
        ". Example: recursion heavily depends on stacks."
      ],
      "metadata": {
        "id": "bfOzEYdOHlk_"
      }
    },
    {
      "cell_type": "code",
      "source": [
        "def factorial(n, depth=0):\n",
        "    # Simulate pushing function call to stack\n",
        "    print(\"  \" * depth + f\"→ Call: factorial({n})\")\n",
        "\n",
        "    if n == 0 or n == 1:\n",
        "        print(\"  \" * depth + f\"← Return: 1 (base case)\")\n",
        "        return 1\n",
        "\n",
        "    # Recursive call\n",
        "    result = n * factorial(n - 1, depth + 1)\n",
        "\n",
        "    # Simulate popping after return\n",
        "    print(\"  \" * depth + f\"← Return: {result}\")\n",
        "    return result\n",
        "\n",
        "\n",
        "# Example Usage\n",
        "print(\"Final Answer:\", factorial(5))\n"
      ],
      "metadata": {
        "colab": {
          "base_uri": "https://localhost:8080/"
        },
        "id": "_yP_Lvy7H5gs",
        "outputId": "c587e6ae-8dd5-46d3-8ef4-26d6fdfa70dc"
      },
      "execution_count": 4,
      "outputs": [
        {
          "output_type": "stream",
          "name": "stdout",
          "text": [
            "→ Call: factorial(5)\n",
            "  → Call: factorial(4)\n",
            "    → Call: factorial(3)\n",
            "      → Call: factorial(2)\n",
            "        → Call: factorial(1)\n",
            "        ← Return: 1 (base case)\n",
            "      ← Return: 2\n",
            "    ← Return: 6\n",
            "  ← Return: 24\n",
            "← Return: 120\n",
            "Final Answer: 120\n"
          ]
        }
      ]
    },
    {
      "cell_type": "markdown",
      "source": [
        "# 4. Plates in a Canteen (Physical Analogy)\n",
        "\n",
        ". Plates are stacked one above the other.\n",
        ". You can only take the top plate first (LIFO).\n",
        "\n",
        ". New plates are always pushed on top."
      ],
      "metadata": {
        "id": "Nj3ywVHZIAia"
      }
    },
    {
      "cell_type": "code",
      "source": [
        "class PlateStack:\n",
        "    def __init__(self):\n",
        "        self.stack = []\n",
        "\n",
        "    # Add a plate (Push)\n",
        "    def add_plate(self, plate):\n",
        "        self.stack.append(plate)\n",
        "        print(f\"Plate {plate} added on top.\")\n",
        "\n",
        "    # Remove a plate (Pop)\n",
        "    def remove_plate(self):\n",
        "        if not self.is_empty():\n",
        "            plate = self.stack.pop()\n",
        "            print(f\"Plate {plate} removed from top.\")\n",
        "        else:\n",
        "            print(\"No plates left to remove!\")\n",
        "\n",
        "    # View top plate (Peek)\n",
        "    def top_plate(self):\n",
        "        if not self.is_empty():\n",
        "            print(f\"Top plate is: {self.stack[-1]}\")\n",
        "        else:\n",
        "            print(\"No plates in the stack!\")\n",
        "\n",
        "    # Check if empty\n",
        "    def is_empty(self):\n",
        "        return len(self.stack) == 0\n",
        "\n",
        "    # Display plates\n",
        "    def display(self):\n",
        "        print(\"Plates stack (bottom → top):\", self.stack)\n",
        "\n",
        "\n",
        "# ---------------------------\n",
        "# Example Usage\n",
        "canteen = PlateStack()\n",
        "\n",
        "canteen.add_plate(\"Plate 1\")\n",
        "canteen.add_plate(\"Plate 2\")\n",
        "canteen.add_plate(\"Plate 3\")\n",
        "\n",
        "canteen.display()\n",
        "canteen.top_plate()\n",
        "\n",
        "canteen.remove_plate()  # removes Plate 3\n",
        "canteen.display()\n"
      ],
      "metadata": {
        "colab": {
          "base_uri": "https://localhost:8080/"
        },
        "id": "gtLBfRNGIM6j",
        "outputId": "ea8c7558-df0d-4b9a-dfa8-86388b78f727"
      },
      "execution_count": 5,
      "outputs": [
        {
          "output_type": "stream",
          "name": "stdout",
          "text": [
            "Plate Plate 1 added on top.\n",
            "Plate Plate 2 added on top.\n",
            "Plate Plate 3 added on top.\n",
            "Plates stack (bottom → top): ['Plate 1', 'Plate 2', 'Plate 3']\n",
            "Top plate is: Plate 3\n",
            "Plate Plate 3 removed from top.\n",
            "Plates stack (bottom → top): ['Plate 1', 'Plate 2']\n"
          ]
        }
      ]
    },
    {
      "cell_type": "markdown",
      "source": [
        "# 5.Backtracking Problems (Maze, Puzzles, Games)\n",
        "\n",
        ". When solving a maze, you push each step.\n",
        "\n",
        ". If you hit a dead end, you pop steps to go back."
      ],
      "metadata": {
        "id": "aF-A23YmITGH"
      }
    },
    {
      "cell_type": "code",
      "source": [
        "# Maze representation:\n",
        "# 0 = open path, 1 = wall, S = start, E = end\n",
        "\n",
        "maze = [\n",
        "    [\"S\", 0, 1, 0, \"E\"],\n",
        "    [1,   0, 1, 0,  1 ],\n",
        "    [0,   0, 0, 0,  1 ],\n",
        "    [0,   1, 1, 0,  0 ],\n",
        "    [0,   0, 0, 1,  0 ]\n",
        "]\n",
        "\n",
        "start = (0, 0)  # \"S\" position\n",
        "end   = (0, 4)  # \"E\" position\n",
        "\n",
        "\n",
        "def solve_maze(maze, start, end):\n",
        "    stack = [start]  # push start position\n",
        "    visited = set()\n",
        "\n",
        "    while stack:\n",
        "        x, y = stack[-1]  # look at top of stack (current position)\n",
        "\n",
        "        if (x, y) == end:\n",
        "            return stack  # path found\n",
        "\n",
        "        visited.add((x, y))\n",
        "\n",
        "        # possible moves (up, down, left, right)\n",
        "        moves = [(x-1, y), (x+1, y), (x, y-1), (x, y+1)]\n",
        "\n",
        "        moved = False\n",
        "        for nx, ny in moves:\n",
        "            if (0 <= nx < len(maze) and 0 <= ny < len(maze[0])  # inside maze\n",
        "                and maze[nx][ny] != 1                           # not a wall\n",
        "                and (nx, ny) not in visited):                   # not visited\n",
        "                stack.append((nx, ny))  # push new step\n",
        "                moved = True\n",
        "                break\n",
        "\n",
        "        if not moved:\n",
        "            stack.pop()  # dead end → backtrack\n",
        "\n",
        "    return None  # no path found\n",
        "\n",
        "\n",
        "# ---------------------------\n",
        "# Example usage\n",
        "path = solve_maze(maze, start, end)\n",
        "\n",
        "if path:\n",
        "    print(\"Path to exit:\", path)\n",
        "else:\n",
        "    print(\"No path found!\")\n"
      ],
      "metadata": {
        "colab": {
          "base_uri": "https://localhost:8080/"
        },
        "id": "iFvxQT3oIaBU",
        "outputId": "c97065cf-2db5-446f-91bf-c2f46fd7efb2"
      },
      "execution_count": 6,
      "outputs": [
        {
          "output_type": "stream",
          "name": "stdout",
          "text": [
            "Path to exit: [(0, 0), (0, 1), (1, 1), (2, 1), (2, 2), (2, 3), (1, 3), (0, 3), (0, 4)]\n"
          ]
        }
      ]
    },
    {
      "cell_type": "markdown",
      "source": [
        "# 6. Sudoku solvers Using Stack\n",
        "\n",
        ".Use a stack to store positions (row, col, num) we try.\n",
        "\n",
        ".Push a guess onto the stack when placing a number.\n",
        "\n",
        ".If we hit a dead end (no valid number), pop from the stack and try the next possible number."
      ],
      "metadata": {
        "id": "TAu6-OTRIyk2"
      }
    },
    {
      "cell_type": "code",
      "source": [
        "N = 9  # 9x9 Sudoku\n",
        "\n",
        "# Function to print Sudoku board\n",
        "def print_board(board):\n",
        "    for row in board:\n",
        "        print(row)\n",
        "    print()\n",
        "\n",
        "# Check if placing num at (row, col) is valid\n",
        "def is_valid(board, row, col, num):\n",
        "    # Row check\n",
        "    if num in board[row]:\n",
        "        return False\n",
        "\n",
        "    # Column check\n",
        "    for r in range(N):\n",
        "        if board[r][col] == num:\n",
        "            return False\n",
        "\n",
        "    # 3x3 subgrid check\n",
        "    start_row, start_col = 3 * (row // 3), 3 * (col // 3)\n",
        "    for r in range(start_row, start_row + 3):\n",
        "        for c in range(start_col, start_col + 3):\n",
        "            if board[r][c] == num:\n",
        "                return False\n",
        "\n",
        "    return True\n",
        "\n",
        "# Solve Sudoku using an explicit stack\n",
        "def solve_sudoku_stack(board):\n",
        "    stack = []  # stack to store (row, col, num) guesses\n",
        "    row, col = 0, 0\n",
        "\n",
        "    while row < N:\n",
        "        if board[row][col] == 0:\n",
        "            placed = False\n",
        "            # Try numbers 1–9\n",
        "            for num in range(1, 10):\n",
        "                if is_valid(board, row, col, num):\n",
        "                    board[row][col] = num\n",
        "                    stack.append((row, col, num))  # push choice\n",
        "                    placed = True\n",
        "                    break\n",
        "\n",
        "            if not placed:  # backtrack\n",
        "                if not stack:\n",
        "                    return False  # no solution\n",
        "                row, col, prev_num = stack.pop()  # pop last guess\n",
        "                board[row][col] = 0  # reset cell\n",
        "\n",
        "                # try next number at same cell\n",
        "                for num in range(prev_num + 1, 10):\n",
        "                    if is_valid(board, row, col, num):\n",
        "                        board[row][col] = num\n",
        "                        stack.append((row, col, num))\n",
        "                        break\n",
        "                else:\n",
        "                    continue  # still invalid → keep backtracking\n",
        "        # Move to next cell\n",
        "        if col == N - 1:\n",
        "            row += 1\n",
        "            col = 0\n",
        "        else:\n",
        "            col += 1\n",
        "    return True\n",
        "\n",
        "\n",
        "# ---------------------------\n",
        "# Example Sudoku (0 = empty)\n",
        "sudoku_board = [\n",
        "    [5, 3, 0, 0, 7, 0, 0, 0, 0],\n",
        "    [6, 0, 0, 1, 9, 5, 0, 0, 0],\n",
        "    [0, 9, 8, 0, 0, 0, 0, 6, 0],\n",
        "    [8, 0, 0, 0, 6, 0, 0, 0, 3],\n",
        "    [4, 0, 0, 8, 0, 3, 0, 0, 1],\n",
        "    [7, 0, 0, 0, 2, 0, 0, 0, 6],\n",
        "    [0, 6, 0, 0, 0, 0, 2, 8, 0],\n",
        "    [0, 0, 0, 4, 1, 9, 0, 0, 5],\n",
        "    [0, 0, 0, 0, 8, 0, 0, 7, 9]\n",
        "]\n",
        "\n",
        "print(\"Original Sudoku:\")\n",
        "print_board(sudoku_board)\n",
        "\n",
        "if solve_sudoku_stack(sudoku_board):\n",
        "    print(\"Solved Sudoku:\")\n",
        "    print_board(sudoku_board)\n",
        "else:\n",
        "    print(\"No solution exists!\")\n"
      ],
      "metadata": {
        "colab": {
          "base_uri": "https://localhost:8080/"
        },
        "id": "aHLjLjyiJAjC",
        "outputId": "e1acb69a-471a-4544-cbc2-3d63003267ed"
      },
      "execution_count": null,
      "outputs": [
        {
          "output_type": "stream",
          "name": "stdout",
          "text": [
            "Original Sudoku:\n",
            "[5, 3, 0, 0, 7, 0, 0, 0, 0]\n",
            "[6, 0, 0, 1, 9, 5, 0, 0, 0]\n",
            "[0, 9, 8, 0, 0, 0, 0, 6, 0]\n",
            "[8, 0, 0, 0, 6, 0, 0, 0, 3]\n",
            "[4, 0, 0, 8, 0, 3, 0, 0, 1]\n",
            "[7, 0, 0, 0, 2, 0, 0, 0, 6]\n",
            "[0, 6, 0, 0, 0, 0, 2, 8, 0]\n",
            "[0, 0, 0, 4, 1, 9, 0, 0, 5]\n",
            "[0, 0, 0, 0, 8, 0, 0, 7, 9]\n",
            "\n"
          ]
        }
      ]
    }
  ]
}
