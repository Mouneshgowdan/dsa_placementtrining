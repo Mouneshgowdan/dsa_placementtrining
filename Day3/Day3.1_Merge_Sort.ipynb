{
  "nbformat": 4,
  "nbformat_minor": 0,
  "metadata": {
    "colab": {
      "provenance": [],
      "authorship_tag": "ABX9TyPF/Bjr0S+MmmLeR9VhPmNT",
      "include_colab_link": true
    },
    "kernelspec": {
      "name": "python3",
      "display_name": "Python 3"
    },
    "language_info": {
      "name": "python"
    }
  },
  "cells": [
    {
      "cell_type": "markdown",
      "metadata": {
        "id": "view-in-github",
        "colab_type": "text"
      },
      "source": [
        "<a href=\"https://colab.research.google.com/github/Mouneshgowdan/dsa_placementtrining/blob/main/Day3.1_Merge_Sort.ipynb\" target=\"_parent\"><img src=\"https://colab.research.google.com/assets/colab-badge.svg\" alt=\"Open In Colab\"/></a>"
      ]
    },
    {
      "cell_type": "markdown",
      "source": [
        "# Merge Sort Algorithm Examples and Problems\n",
        "\n",
        "\n",
        "# 1.What is Merge Sort Algorithm\n",
        "Merge Sort is a divide and conquer sorting algorithm.\n",
        "It works by repeatedly dividing the array into two halves, sorting each half, and then merging the sorted halves back together.\n",
        "\n",
        "# * Steps of Merge Sort\n",
        "  . Divide: Split the array into two halves until each subarray has one element.\n",
        "\n",
        "  . Conquer: Recursively sort the two halves.\n",
        "\n",
        "  . Merge: Combine the two sorted halves into a single sorted array.\n",
        "\n",
        "\n",
        "# Time Complexity:\n",
        "\n",
        ". Best case = O(n log n)\n",
        "\n",
        ". Average case = O(n log n)\n",
        "\n",
        ". Worst case = O(n log n)\n",
        "\n",
        ". Space Complexity: O(n) (needs extra space for merging)"
      ],
      "metadata": {
        "id": "JQiceEg6HqUG"
      }
    },
    {
      "cell_type": "markdown",
      "source": [
        "# Example\n",
        "Array: [38, 27, 43, 3, 9, 82, 10]\n",
        "\n",
        "1 . Split → [38, 27, 43] and [3, 9, 82, 10]\n",
        "\n",
        "2 . Keep splitting until single elements remain\n",
        "\n",
        "→ [38] [27] [43] [3] [9] [82] [10]\n",
        "\n",
        "3 . Merge step-by-step while sorting:\n",
        "\n",
        "→ [27, 38] [43] [3, 9] [10, 82]\n",
        "\n",
        "→ [27, 38, 43] [3, 9, 10, 82]\n",
        "\n",
        "→ [3, 9, 10, 27, 38, 43, 82]"
      ],
      "metadata": {
        "id": "KvMZISuUI2dR"
      }
    },
    {
      "cell_type": "code",
      "source": [
        "def merge_sort(arr):\n",
        "    # Base case: if array has 1 or 0 elements, it's already sorted\n",
        "    if len(arr) <= 1:\n",
        "        return arr\n",
        "\n",
        "    # Step 1: Divide - Find the middle point\n",
        "    mid = len(arr) // 2\n",
        "    left_half = arr[:mid]\n",
        "    right_half = arr[mid:]\n",
        "\n",
        "    # Step 2: Conquer - Recursively sort both halves\n",
        "    left_sorted = merge_sort(left_half)\n",
        "    right_sorted = merge_sort(right_half)\n",
        "\n",
        "    # Step 3: Merge - Merge the two sorted halves\n",
        "    return merge(left_sorted, right_sorted)\n",
        "\n",
        "\n",
        "def merge(left, right):\n",
        "    result = []\n",
        "    i = j = 0\n",
        "\n",
        "    # Compare elements from both halves and merge in sorted order\n",
        "    while i < len(left) and j < len(right):\n",
        "        if left[i] <= right[j]:\n",
        "            result.append(left[i])\n",
        "            i += 1\n",
        "        else:\n",
        "            result.append(right[j])\n",
        "            j += 1\n",
        "\n",
        "    # Add remaining elements (if any)\n",
        "    result.extend(left[i:])\n",
        "    result.extend(right[j:])\n",
        "\n",
        "    return result"
      ],
      "metadata": {
        "id": "3JgfootVJv3v"
      },
      "execution_count": 2,
      "outputs": []
    },
    {
      "cell_type": "code",
      "source": [
        "# Example usage\n",
        "arr = [38, 27, 43, 3, 9, 82, 10]\n",
        "print(\"Original array:\", arr)\n",
        "sorted_arr = merge_sort(arr)\n",
        "print(\"Sorted array:\", sorted_arr)"
      ],
      "metadata": {
        "colab": {
          "base_uri": "https://localhost:8080/"
        },
        "id": "wNJOanmOJ6j1",
        "outputId": "1806156b-21f6-4600-d643-3dfdd50d1011"
      },
      "execution_count": 3,
      "outputs": [
        {
          "output_type": "stream",
          "name": "stdout",
          "text": [
            "Original array: [38, 27, 43, 3, 9, 82, 10]\n",
            "Sorted array: [3, 9, 10, 27, 38, 43, 82]\n"
          ]
        }
      ]
    },
    {
      "cell_type": "markdown",
      "source": [
        "# 1. Imagine a teacher has exam scores of students in random order.To prepare a rank list, the teacher needs the scores arranged in ascending order."
      ],
      "metadata": {
        "id": "KsYR5vhyJ8dt"
      }
    },
    {
      "cell_type": "code",
      "source": [
        "def merge_sort(arr):\n",
        "    if len(arr) <= 1:\n",
        "        return arr\n",
        "\n",
        "    mid = len(arr) // 2\n",
        "    left_half = arr[:mid]\n",
        "    right_half = arr[mid:]\n",
        "\n",
        "    left_sorted = merge_sort(left_half)\n",
        "    right_sorted = merge_sort(right_half)\n",
        "\n",
        "    return merge(left_sorted, right_sorted)\n",
        "\n",
        "\n",
        "def merge(left, right):\n",
        "    result = []\n",
        "    i = j = 0\n",
        "\n",
        "    while i < len(left) and j < len(right):\n",
        "        if left[i] <= right[j]:\n",
        "            result.append(left[i])\n",
        "            i += 1\n",
        "        else:\n",
        "            result.append(right[j])\n",
        "            j += 1\n",
        "\n",
        "    result.extend(left[i:])\n",
        "    result.extend(right[j:])\n",
        "    return result\n",
        "\n",
        "\n",
        "# 🎯 Real-world example: Exam Scores\n",
        "exam_scores = [56, 92, 75, 43, 89, 67, 100, 58]\n",
        "print(\"Original Scores:\", exam_scores)\n",
        "\n",
        "sorted_scores = merge_sort(exam_scores)\n",
        "print(\"Sorted Scores (Rank list):\", sorted_scores)\n"
      ],
      "metadata": {
        "colab": {
          "base_uri": "https://localhost:8080/"
        },
        "id": "kLJYlJCaKIXK",
        "outputId": "adc0a72f-fa4d-41ad-e244-51d365cb4fea"
      },
      "execution_count": 4,
      "outputs": [
        {
          "output_type": "stream",
          "name": "stdout",
          "text": [
            "Original Scores: [56, 92, 75, 43, 89, 67, 100, 58]\n",
            "Sorted Scores (Rank list): [43, 56, 58, 67, 75, 89, 92, 100]\n"
          ]
        }
      ]
    },
    {
      "cell_type": "markdown",
      "source": [
        "#2 . The HR department has a list of employees with their salaries in random order.Before preparing salary slips, HR wants them arranged from lowest → highest salary.Merge Sort can do this efficiently."
      ],
      "metadata": {
        "id": "ULu2aqu8KgY7"
      }
    },
    {
      "cell_type": "code",
      "source": [
        "def merge_sort(arr):\n",
        "    if len(arr) <= 1:\n",
        "        return arr\n",
        "\n",
        "    mid = len(arr) // 2\n",
        "    left_half = arr[:mid]\n",
        "    right_half = arr[mid:]\n",
        "\n",
        "    left_sorted = merge_sort(left_half)\n",
        "    right_sorted = merge_sort(right_half)\n",
        "\n",
        "    return merge(left_sorted, right_sorted)\n",
        "\n",
        "\n",
        "def merge(left, right):\n",
        "    result = []\n",
        "    i = j = 0\n",
        "\n",
        "    while i < len(left) and j < len(right):\n",
        "        # Compare employee salaries\n",
        "        if left[i][1] <= right[j][1]:\n",
        "            result.append(left[i])\n",
        "            i += 1\n",
        "        else:\n",
        "            result.append(right[j])\n",
        "            j += 1\n",
        "\n",
        "    result.extend(left[i:])\n",
        "    result.extend(right[j:])\n",
        "    return result\n",
        "\n",
        "\n",
        "# 🎯 Real-world example: Employee Name with Salary\n",
        "employees = [\n",
        "    (\"Alice\", 55000),\n",
        "    (\"Bob\", 45000),\n",
        "    (\"Charlie\", 70000),\n",
        "    (\"David\", 50000),\n",
        "    (\"Eva\", 65000),\n",
        "    (\"Frank\", 45000)\n",
        "]\n",
        "\n",
        "print(\"Original Employee Salaries (unsorted):\")\n",
        "for e in employees:\n",
        "    print(e)\n",
        "\n",
        "# Sort employees by salary\n",
        "sorted_employees = merge_sort(employees)\n",
        "\n",
        "print(\"\\nSorted Employee Salaries (for HR slips):\")\n",
        "for e in sorted_employees:\n",
        "    print(e)\n"
      ],
      "metadata": {
        "colab": {
          "base_uri": "https://localhost:8080/"
        },
        "id": "iqrbhRR6Km7n",
        "outputId": "9dd62c29-2cb1-4a55-9726-70748fa99a72"
      },
      "execution_count": 5,
      "outputs": [
        {
          "output_type": "stream",
          "name": "stdout",
          "text": [
            "Original Employee Salaries (unsorted):\n",
            "('Alice', 55000)\n",
            "('Bob', 45000)\n",
            "('Charlie', 70000)\n",
            "('David', 50000)\n",
            "('Eva', 65000)\n",
            "('Frank', 45000)\n",
            "\n",
            "Sorted Employee Salaries (for HR slips):\n",
            "('Bob', 45000)\n",
            "('Frank', 45000)\n",
            "('David', 50000)\n",
            "('Alice', 55000)\n",
            "('Eva', 65000)\n",
            "('Charlie', 70000)\n"
          ]
        }
      ]
    },
    {
      "cell_type": "markdown",
      "source": [
        "#3. A bank records all customer transactions randomly.Before sending a monthly statement, transactions need to be sorted (smallest → largest amount) for clarity."
      ],
      "metadata": {
        "id": "dsNPPUknKwKz"
      }
    },
    {
      "cell_type": "code",
      "source": [
        "def merge_sort(arr):\n",
        "    if len(arr) <= 1:\n",
        "        return arr\n",
        "\n",
        "    mid = len(arr) // 2\n",
        "    left_half = arr[:mid]\n",
        "    right_half = arr[mid:]\n",
        "\n",
        "    left_sorted = merge_sort(left_half)\n",
        "    right_sorted = merge_sort(right_half)\n",
        "\n",
        "    return merge(left_sorted, right_sorted)\n",
        "\n",
        "\n",
        "def merge(left, right):\n",
        "    result = []\n",
        "    i = j = 0\n",
        "\n",
        "    while i < len(left) and j < len(right):\n",
        "        if left[i] <= right[j]:\n",
        "            result.append(left[i])\n",
        "            i += 1\n",
        "        else:\n",
        "            result.append(right[j])\n",
        "            j += 1\n",
        "\n",
        "    result.extend(left[i:])\n",
        "    result.extend(right[j:])\n",
        "    return result\n",
        "\n",
        "\n",
        "# 🎯 Real-world example: Bank Transactions (random amounts)\n",
        "transactions = [2500, 150, 7200, 560, 3100, 200, 4500, 1200]\n",
        "\n",
        "print(\"Original Transactions (unsorted):\")\n",
        "print(transactions)\n",
        "\n",
        "# Sort transactions\n",
        "sorted_transactions = merge_sort(transactions)\n",
        "\n",
        "print(\"\\nSorted Transactions (for bank statement):\")\n",
        "print(sorted_transactions)\n"
      ],
      "metadata": {
        "colab": {
          "base_uri": "https://localhost:8080/"
        },
        "id": "Z-kcRINOK12_",
        "outputId": "a5f47861-c076-42ba-8b3a-dbb812cffb5d"
      },
      "execution_count": 6,
      "outputs": [
        {
          "output_type": "stream",
          "name": "stdout",
          "text": [
            "Original Transactions (unsorted):\n",
            "[2500, 150, 7200, 560, 3100, 200, 4500, 1200]\n",
            "\n",
            "Sorted Transactions (for bank statement):\n",
            "[150, 200, 560, 1200, 2500, 3100, 4500, 7200]\n"
          ]
        }
      ]
    },
    {
      "cell_type": "markdown",
      "source": [
        "#4. In a music app (like Spotify), songs in a playlist may be shuffled randomly.If a user wants to see songs sorted by duration (shortest → longest), Merge Sort can handle it efficiently."
      ],
      "metadata": {
        "id": "aibN3aesK_AX"
      }
    },
    {
      "cell_type": "code",
      "source": [
        "def merge_sort(arr):\n",
        "    if len(arr) <= 1:\n",
        "        return arr\n",
        "\n",
        "    mid = len(arr) // 2\n",
        "    left_half = arr[:mid]\n",
        "    right_half = arr[mid:]\n",
        "\n",
        "    left_sorted = merge_sort(left_half)\n",
        "    right_sorted = merge_sort(right_half)\n",
        "\n",
        "    return merge(left_sorted, right_sorted)\n",
        "\n",
        "\n",
        "def merge(left, right):\n",
        "    result = []\n",
        "    i = j = 0\n",
        "\n",
        "    while i < len(left) and j < len(right):\n",
        "        # Compare by song duration\n",
        "        if left[i][1] <= right[j][1]:\n",
        "            result.append(left[i])\n",
        "            i += 1\n",
        "        else:\n",
        "            result.append(right[j])\n",
        "            j += 1\n",
        "\n",
        "    result.extend(left[i:])\n",
        "    result.extend(right[j:])\n",
        "    return result\n",
        "\n",
        "\n",
        "# 🎯 Real-world example: Songs with (title, duration in seconds)\n",
        "playlist = [\n",
        "    (\"Song A\", 240),   # 4 min\n",
        "    (\"Song B\", 180),   # 3 min\n",
        "    (\"Song C\", 300),   # 5 min\n",
        "    (\"Song D\", 150),   # 2.5 min\n",
        "    (\"Song E\", 210),   # 3.5 min\n",
        "    (\"Song F\", 270)    # 4.5 min\n",
        "]\n",
        "\n",
        "print(\"Original Playlist (unsorted):\")\n",
        "for song in playlist:\n",
        "    print(song)\n",
        "\n",
        "# Sort songs by duration\n",
        "sorted_playlist = merge_sort(playlist)\n",
        "\n",
        "print(\"\\nSorted Playlist (by duration):\")\n",
        "for song in sorted_playlist:\n",
        "    minutes = song[1] // 60\n",
        "    seconds = song[1] % 60\n",
        "    print(f\"{song[0]} - {minutes}m {seconds}s\")\n"
      ],
      "metadata": {
        "colab": {
          "base_uri": "https://localhost:8080/"
        },
        "id": "4a9yd22DLHgX",
        "outputId": "9cec2cdd-82f4-44c0-d358-552b719d47a9"
      },
      "execution_count": 7,
      "outputs": [
        {
          "output_type": "stream",
          "name": "stdout",
          "text": [
            "Original Playlist (unsorted):\n",
            "('Song A', 240)\n",
            "('Song B', 180)\n",
            "('Song C', 300)\n",
            "('Song D', 150)\n",
            "('Song E', 210)\n",
            "('Song F', 270)\n",
            "\n",
            "Sorted Playlist (by duration):\n",
            "Song D - 2m 30s\n",
            "Song B - 3m 0s\n",
            "Song E - 3m 30s\n",
            "Song A - 4m 0s\n",
            "Song F - 4m 30s\n",
            "Song C - 5m 0s\n"
          ]
        }
      ]
    },
    {
      "cell_type": "markdown",
      "source": [
        "#5. An online store has a list of products with their prices in random order.To display them on the website from cheapest → most expensive, Merge Sort is applied."
      ],
      "metadata": {
        "id": "01Lr8ft5LOrd"
      }
    },
    {
      "cell_type": "code",
      "source": [
        "def merge_sort(arr):\n",
        "    if len(arr) <= 1:\n",
        "        return arr\n",
        "\n",
        "    mid = len(arr) // 2\n",
        "    left_half = arr[:mid]\n",
        "    right_half = arr[mid:]\n",
        "\n",
        "    left_sorted = merge_sort(left_half)\n",
        "    right_sorted = merge_sort(right_half)\n",
        "\n",
        "    return merge(left_sorted, right_sorted)\n",
        "\n",
        "\n",
        "def merge(left, right):\n",
        "    result = []\n",
        "    i = j = 0\n",
        "\n",
        "    while i < len(left) and j < len(right):\n",
        "        # Compare product prices\n",
        "        if left[i][1] <= right[j][1]:\n",
        "            result.append(left[i])\n",
        "            i += 1\n",
        "        else:\n",
        "            result.append(right[j])\n",
        "            j += 1\n",
        "\n",
        "    result.extend(left[i:])\n",
        "    result.extend(right[j:])\n",
        "    return result\n",
        "\n",
        "\n",
        "#  Real-world example: Products with (name, price)\n",
        "products = [\n",
        "    (\"Laptop\", 60000),\n",
        "    (\"Phone\", 25000),\n",
        "    (\"Headphones\", 2000),\n",
        "    (\"Smartwatch\", 7000),\n",
        "    (\"Monitor\", 15000),\n",
        "    (\"Keyboard\", 1500),\n",
        "    (\"Camera\", 40000)\n",
        "]\n",
        "\n",
        "print(\"Original Products (unsorted):\")\n",
        "for p in products:\n",
        "    print(p)\n",
        "\n",
        "# Sort products by price\n",
        "sorted_products = merge_sort(products)\n",
        "\n",
        "print(\"\\nSorted Products (by price: cheapest → expensive):\")\n",
        "for p in sorted_products:\n",
        "    print(f\"{p[0]} - ₹{p[1]}\")\n"
      ],
      "metadata": {
        "colab": {
          "base_uri": "https://localhost:8080/"
        },
        "id": "rxPvzLRRLUWO",
        "outputId": "6c8fd9ee-5084-458e-e576-e02adbbde6ed"
      },
      "execution_count": 8,
      "outputs": [
        {
          "output_type": "stream",
          "name": "stdout",
          "text": [
            "Original Products (unsorted):\n",
            "('Laptop', 60000)\n",
            "('Phone', 25000)\n",
            "('Headphones', 2000)\n",
            "('Smartwatch', 7000)\n",
            "('Monitor', 15000)\n",
            "('Keyboard', 1500)\n",
            "('Camera', 40000)\n",
            "\n",
            "Sorted Products (by price: cheapest → expensive):\n",
            "Keyboard - ₹1500\n",
            "Headphones - ₹2000\n",
            "Smartwatch - ₹7000\n",
            "Monitor - ₹15000\n",
            "Phone - ₹25000\n",
            "Camera - ₹40000\n",
            "Laptop - ₹60000\n"
          ]
        }
      ]
    },
    {
      "cell_type": "markdown",
      "source": [
        "#6. An airline company has a list of booked tickets with random seat numbers and prices.To manage passengers easily:\n",
        "\n",
        "# .They may need to arrange seats in order (1 → N).\n",
        "# .Or sort tickets by price (cheapest → most expensive).\n"
      ],
      "metadata": {
        "id": "t6HJ5uxnLmd4"
      }
    },
    {
      "cell_type": "code",
      "source": [
        "def merge_sort(arr, key_index):\n",
        "    if len(arr) <= 1:\n",
        "        return arr\n",
        "\n",
        "    mid = len(arr) // 2\n",
        "    left_half = arr[:mid]\n",
        "    right_half = arr[mid:]\n",
        "\n",
        "    left_sorted = merge_sort(left_half, key_index)\n",
        "    right_sorted = merge_sort(right_half, key_index)\n",
        "\n",
        "    return merge(left_sorted, right_sorted, key_index)\n",
        "\n",
        "\n",
        "def merge(left, right, key_index):\n",
        "    result = []\n",
        "    i = j = 0\n",
        "\n",
        "    while i < len(left) and j < len(right):\n",
        "        if left[i][key_index] <= right[j][key_index]:\n",
        "            result.append(left[i])\n",
        "            i += 1\n",
        "        else:\n",
        "            result.append(right[j])\n",
        "            j += 1\n",
        "\n",
        "    result.extend(left[i:])\n",
        "    result.extend(right[j:])\n",
        "    return result\n",
        "\n",
        "\n",
        "# 🎯 Real-world example: Tickets (Passenger Name, Seat Number, Price)\n",
        "tickets = [\n",
        "    (\"Alice\", 22, 5500),\n",
        "    (\"Bob\", 5, 4500),\n",
        "    (\"Charlie\", 18, 6000),\n",
        "    (\"David\", 12, 5000),\n",
        "    (\"Eva\", 30, 7500),\n",
        "    (\"Frank\", 8, 4800)\n",
        "]\n",
        "\n",
        "print(\"Original Ticket Bookings (unsorted):\")\n",
        "for t in tickets:\n",
        "    print(t)\n",
        "\n",
        "# Sort tickets by Seat Number (index 1)\n",
        "sorted_by_seat = merge_sort(tickets, 1)\n",
        "\n",
        "print(\"\\nSorted by Seat Number:\")\n",
        "for t in sorted_by_seat:\n",
        "    print(t)\n",
        "\n",
        "# Sort tickets by Price (index 2)\n",
        "sorted_by_price = merge_sort(tickets, 2)\n",
        "\n",
        "print(\"\\nSorted by Ticket Price (cheapest → expensive):\")\n",
        "for t in sorted_by_price:\n",
        "    print(t)\n"
      ],
      "metadata": {
        "colab": {
          "base_uri": "https://localhost:8080/"
        },
        "id": "r9pAx0onLycB",
        "outputId": "97247582-15a3-4663-c11d-1e328dea56ce"
      },
      "execution_count": 9,
      "outputs": [
        {
          "output_type": "stream",
          "name": "stdout",
          "text": [
            "Original Ticket Bookings (unsorted):\n",
            "('Alice', 22, 5500)\n",
            "('Bob', 5, 4500)\n",
            "('Charlie', 18, 6000)\n",
            "('David', 12, 5000)\n",
            "('Eva', 30, 7500)\n",
            "('Frank', 8, 4800)\n",
            "\n",
            "Sorted by Seat Number:\n",
            "('Bob', 5, 4500)\n",
            "('Frank', 8, 4800)\n",
            "('David', 12, 5000)\n",
            "('Charlie', 18, 6000)\n",
            "('Alice', 22, 5500)\n",
            "('Eva', 30, 7500)\n",
            "\n",
            "Sorted by Ticket Price (cheapest → expensive):\n",
            "('Bob', 5, 4500)\n",
            "('Frank', 8, 4800)\n",
            "('David', 12, 5000)\n",
            "('Alice', 22, 5500)\n",
            "('Charlie', 18, 6000)\n",
            "('Eva', 30, 7500)\n"
          ]
        }
      ]
    }
  ]
}
