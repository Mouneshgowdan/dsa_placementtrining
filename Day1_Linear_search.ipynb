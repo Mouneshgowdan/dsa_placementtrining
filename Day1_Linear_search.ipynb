{
  "nbformat": 4,
  "nbformat_minor": 0,
  "metadata": {
    "colab": {
      "provenance": [],
      "authorship_tag": "ABX9TyMW/XT+FjF71wpkMRwKBiAn",
      "include_colab_link": true
    },
    "kernelspec": {
      "name": "python3",
      "display_name": "Python 3"
    },
    "language_info": {
      "name": "python"
    }
  },
  "cells": [
    {
      "cell_type": "markdown",
      "metadata": {
        "id": "view-in-github",
        "colab_type": "text"
      },
      "source": [
        "<a href=\"https://colab.research.google.com/github/Mouneshgowdan/dsa_placementtrining/blob/main/Day1_Linear_search.ipynb\" target=\"_parent\"><img src=\"https://colab.research.google.com/assets/colab-badge.svg\" alt=\"Open In Colab\"/></a>"
      ]
    },
    {
      "cell_type": "markdown",
      "source": [
        "# Linear_Search Examples and Problems\n",
        "\n",
        "# 1. What is Linear Search?\n",
        "Linear Search (or Sequential Search) is the simplest searching algorithm.\n",
        "It checks each element of the list one by one until the desired element is found or the list ends.\n",
        "\n",
        "##Time Complexity: O(n) andSpace Complexity: O(1)"
      ],
      "metadata": {
        "id": "373M7tFkdl4b"
      }
    },
    {
      "cell_type": "code",
      "source": [
        "l = [1,2,3,4,5,6,7]\n",
        "key = 5\n",
        "for  i in l:\n",
        "    if i == key:\n",
        "        print(i)\n",
        "        break"
      ],
      "metadata": {
        "colab": {
          "base_uri": "https://localhost:8080/"
        },
        "id": "9669tiyHeNhF",
        "outputId": "3dafe285-da4e-4103-bdc5-fa9f5cc3b64d"
      },
      "execution_count": 38,
      "outputs": [
        {
          "output_type": "stream",
          "name": "stdout",
          "text": [
            "5\n"
          ]
        }
      ]
    },
    {
      "cell_type": "markdown",
      "source": [
        "\n",
        "#1.   Lost parcel An Ecom company storeas all parcel id in the order they were recived a call saying that he have not recieved their packege ,write a program that takes  "
      ],
      "metadata": {
        "id": "IIISs-v8eaVd"
      }
    },
    {
      "cell_type": "code",
      "source": [
        "def linear_search(pid,sid):\n",
        "    comp = 0\n",
        "\n",
        "    for i in range (len(pid)):\n",
        "        comp +=1\n",
        "        if sid == pid[i]:\n",
        "            return (\"package was found and the compis\",comp)\n",
        "\n",
        "    return -1\n",
        "\n",
        "\n",
        "package = [\"p1\",\"p2\",\"p3\",\"p4\"]\n",
        "search = \"p4\"\n",
        "\n",
        "res = linear_search(package,search)\n",
        "print(res)"
      ],
      "metadata": {
        "colab": {
          "base_uri": "https://localhost:8080/"
        },
        "id": "wmgUoxBheU2E",
        "outputId": "8fa6869e-a64d-4dd1-f735-221403c2c1e8"
      },
      "execution_count": 39,
      "outputs": [
        {
          "output_type": "stream",
          "name": "stdout",
          "text": [
            "('package was found and the compis', 4)\n"
          ]
        }
      ]
    },
    {
      "cell_type": "markdown",
      "source": [
        "#2. suppose you have a friend and he asks you to show him whether his number is saved in your phonnumber write a code to search the friend number is there or not\n"
      ],
      "metadata": {
        "id": "Eioxdz-PeUgN"
      }
    },
    {
      "cell_type": "code",
      "source": [
        "\n",
        "\n",
        "def contact_search(clist,fname):\n",
        "    comp = 0\n",
        "\n",
        "    for i in range(len(clist)):\n",
        "        comp +=1\n",
        "\n",
        "        if clist[i].lower() == fname.lower():\n",
        "            return \"saved\",comp\n",
        "\n",
        "    return -1,comp\n",
        "clist = [\"rahul\",\"chandan\",\"raju\",\"sai ram\"]\n",
        "fname = \"Rahul\"\n",
        "\n",
        "res,comp = contact_search(clist,fname)\n",
        "print(fname,res)"
      ],
      "metadata": {
        "colab": {
          "base_uri": "https://localhost:8080/"
        },
        "id": "k7E9lG7FeUGK",
        "outputId": "f47ef46a-1c1d-44fb-cd90-4c8eaff7fed7"
      },
      "execution_count": 40,
      "outputs": [
        {
          "output_type": "stream",
          "name": "stdout",
          "text": [
            "Rahul saved\n"
          ]
        }
      ]
    },
    {
      "cell_type": "markdown",
      "source": [
        "\n",
        "#3. finding a detective bulb A row of 50 bulbs in numbered from 1 to 50 placced randomly in a box . you want to find the bulb numbered 7 , which is defective?."
      ],
      "metadata": {
        "id": "wFreq9NFeyP5"
      }
    },
    {
      "cell_type": "code",
      "source": [
        "def search_bulb(bulbs,defective):\n",
        "    comp = 0\n",
        "    for i in range (len(bulbs)):\n",
        "        comp += 1\n",
        "        if bulbs [i] == defective:\n",
        "            return i,comp\n",
        "\n",
        "    return -1\n",
        "b = [1,2,3,4,5,6,7,8,9,10]\n",
        "key = 7\n",
        "\n",
        "res,comp = search_bulb(b,key)\n",
        "print(res,comp)\n",
        ""
      ],
      "metadata": {
        "colab": {
          "base_uri": "https://localhost:8080/"
        },
        "id": "HvKaFghWe2NF",
        "outputId": "1a2d7106-184d-483a-fe27-1ee6727d6082"
      },
      "execution_count": 41,
      "outputs": [
        {
          "output_type": "stream",
          "name": "stdout",
          "text": [
            "6 7\n"
          ]
        }
      ]
    },
    {
      "cell_type": "markdown",
      "source": [
        "#4.  A library stores all book accession numbers in the order they were received.A student wants to know whether a particular book is available.Write a program using Linear Search to check if the book accession number exists in the library records.\n"
      ],
      "metadata": {
        "id": "VgIgb8p6bx2A"
      }
    },
    {
      "cell_type": "code",
      "source": [
        "\n",
        "print(\"📚 Example Run:\")\n",
        "books_example = [\"101\", \"203\", \"405\", \"234\", \"678\"]  # accession numbers\n",
        "search_book_example = \"445\"\n",
        "\n",
        "print(\"Library Records:\", books_example)\n",
        "print(\"Searching for Book:\", search_book_example)\n",
        "\n",
        "pos = linear_search(books_example, search_book_example)\n",
        "\n",
        "if pos == -1:\n",
        "    print(\"Book NOT FOUND\\n\")\n",
        "else:\n",
        "    print(f\"Book FOUND at position {pos}\\n\")"
      ],
      "metadata": {
        "colab": {
          "base_uri": "https://localhost:8080/"
        },
        "id": "1hqxkEfseJLh",
        "outputId": "b2bd2601-8388-4160-d45c-dcff54ef2a3b"
      },
      "execution_count": 42,
      "outputs": [
        {
          "output_type": "stream",
          "name": "stdout",
          "text": [
            "📚 Example Run:\n",
            "Library Records: ['101', '203', '405', '234', '678']\n",
            "Searching for Book: 445\n",
            "Book NOT FOUND\n",
            "\n"
          ]
        }
      ]
    },
    {
      "cell_type": "markdown",
      "source": [
        "# 5. A class teacher stores roll numbers in the order they were marked during attendance.A student claims they were present.Write a program using Linear Search to check if the roll number exists in the attendance list."
      ],
      "metadata": {
        "id": "DJQ25yKWiUWJ"
      }
    },
    {
      "cell_type": "code",
      "source": [
        "print(\"Example Run:\")\n",
        "attendance_example = [\"10\", \"12\", \"14\", \"16\", \"18\", \"20\"]  # roll numbers\n",
        "search_roll_example = \"16\"\n",
        "\n",
        "print(\"Attendance List:\", attendance_example)\n",
        "print(\"Searching for Roll Number:\", search_roll_example)\n",
        "\n",
        "pos = linear_search(attendance_example, search_roll_example)\n",
        "\n",
        "if pos == -1:\n",
        "    print(\"Student ABSENT\\n\")\n",
        "else:\n",
        "    print(f\"Student PRESENT at position {pos}\\n\")\n",
        "\n"
      ],
      "metadata": {
        "colab": {
          "base_uri": "https://localhost:8080/"
        },
        "id": "PgfYZCy6iswG",
        "outputId": "b7d462e3-514b-47d7-b537-f8f3c577155c"
      },
      "execution_count": 43,
      "outputs": [
        {
          "output_type": "stream",
          "name": "stdout",
          "text": [
            "Example Run:\n",
            "Attendance List: ['10', '12', '14', '16', '18', '20']\n",
            "Searching for Roll Number: 16\n",
            "Student PRESENT at position ('package was found and the compis', 4)\n",
            "\n"
          ]
        }
      ]
    },
    {
      "cell_type": "markdown",
      "source": [
        "# 6. An online store maintains a list of products. Check whether a product is available.Write a program using Linear Search to check if the product exists in the list.\n"
      ],
      "metadata": {
        "id": "VGc_iJIDk4m3"
      }
    },
    {
      "cell_type": "code",
      "source": [
        "print(\" Example Run:\")\n",
        "products_example = [\"Shoes\", \"Shirt\", \"Jeans\", \"Cap\"]\n",
        "search_product_example = \"Jeans\"\n",
        "\n",
        "print(\"Available Products:\", products_example)\n",
        "print(\"Searching for Product:\", search_product_example)\n",
        "\n",
        "index = linear_search(products_example, search_product_example)\n",
        "\n",
        "if index == -1:\n",
        "    print(\"Product NOT AVAILABLE\\n\")\n",
        "else:\n",
        "    print(f\"Product AVAILABLE at position {index}\\n\")\n"
      ],
      "metadata": {
        "colab": {
          "base_uri": "https://localhost:8080/"
        },
        "id": "DSr8fkdklLlt",
        "outputId": "660be74e-ed10-461b-8365-461619432496"
      },
      "execution_count": 44,
      "outputs": [
        {
          "output_type": "stream",
          "name": "stdout",
          "text": [
            " Example Run:\n",
            "Available Products: ['Shoes', 'Shirt', 'Jeans', 'Cap']\n",
            "Searching for Product: Jeans\n",
            "Product AVAILABLE at position ('package was found and the compis', 3)\n",
            "\n"
          ]
        }
      ]
    },
    {
      "cell_type": "markdown",
      "source": [
        "# 7. A list stores roll numbers of students who passed an exam. A student wants to know if they passed.Write a program using Linear Search to check if the roll number exists in the list.\n"
      ],
      "metadata": {
        "id": "XZL_4B7rk4Pc"
      }
    },
    {
      "cell_type": "code",
      "source": [
        "print(\"📊 Example Run:\")\n",
        "passed_students_example = [\"21\", \"34\", \"56\", \"78\", \"90\"]\n",
        "search_roll_example = \"56\"\n",
        "\n",
        "print(\"Passed Students:\", passed_students_example)\n",
        "print(\"Searching for Roll Number:\", search_roll_example)\n",
        "\n",
        "if linear_search(passed_students_example, search_roll_example):\n",
        "    print(\"✅ YES - Student Passed\\n\")\n",
        "else:\n",
        "    print(\"❌ NO - Student Not Found (Failed)\\n\")\n"
      ],
      "metadata": {
        "colab": {
          "base_uri": "https://localhost:8080/"
        },
        "id": "yhAfrqLLljWz",
        "outputId": "8a412bf3-9e34-4a15-cbef-73a12045fb3a"
      },
      "execution_count": 45,
      "outputs": [
        {
          "output_type": "stream",
          "name": "stdout",
          "text": [
            "📊 Example Run:\n",
            "Passed Students: ['21', '34', '56', '78', '90']\n",
            "Searching for Roll Number: 56\n",
            "✅ YES - Student Passed\n",
            "\n"
          ]
        }
      ]
    },
    {
      "cell_type": "markdown",
      "source": [
        "# 8. In an article, count how many times a word occurs using linear search."
      ],
      "metadata": {
        "id": "Y4bu7tpplBFz"
      }
    },
    {
      "cell_type": "code",
      "source": [
        "\n",
        "print(\" Example Run:\")\n",
        "article_example = \"the cat and the dog chased the rat\"\n",
        "words_example = article_example.split()\n",
        "search_word_example = \"cat\"\n",
        "\n",
        "print(\"Article:\", article_example)\n",
        "print(\"Searching for Word:\", search_word_example)\n",
        "\n",
        "count = count_word_occurrences(words_example, search_word_example)\n",
        "\n",
        "print(f\"Word '{search_word_example}' occurs {count} times\\n\")"
      ],
      "metadata": {
        "colab": {
          "base_uri": "https://localhost:8080/"
        },
        "id": "lwuJt83Al9ok",
        "outputId": "9c92fbed-027b-461d-d4eb-d449a3b37c2f"
      },
      "execution_count": 46,
      "outputs": [
        {
          "output_type": "stream",
          "name": "stdout",
          "text": [
            " Example Run:\n",
            "Article: the cat and the dog chased the rat\n",
            "Searching for Word: cat\n",
            "Word 'cat' occurs 1 times\n",
            "\n"
          ]
        }
      ]
    }
  ]
}