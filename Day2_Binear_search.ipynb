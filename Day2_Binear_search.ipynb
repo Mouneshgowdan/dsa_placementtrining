{
  "nbformat": 4,
  "nbformat_minor": 0,
  "metadata": {
    "colab": {
      "provenance": [],
      "authorship_tag": "ABX9TyPqhWTcoYrBveCstDioVEti",
      "include_colab_link": true
    },
    "kernelspec": {
      "name": "python3",
      "display_name": "Python 3"
    },
    "language_info": {
      "name": "python"
    }
  },
  "cells": [
    {
      "cell_type": "markdown",
      "metadata": {
        "id": "view-in-github",
        "colab_type": "text"
      },
      "source": [
        "<a href=\"https://colab.research.google.com/github/Mouneshgowdan/dsa_placementtrining/blob/main/Day2_Binear_search.ipynb\" target=\"_parent\"><img src=\"https://colab.research.google.com/assets/colab-badge.svg\" alt=\"Open In Colab\"/></a>"
      ]
    },
    {
      "cell_type": "markdown",
      "source": [
        "# Binary_search Examples and Problems\n",
        "\n",
        "#1. What is Binary Search?\n",
        "\n",
        "* Binary Search is an efficient searching algorithm for sorted arrays/lists.\n",
        "\n",
        "* It repeatedly divides the search interval in half.\n",
        "\n",
        "#Time Complexity: O(log n) and Space Complexity: O(1) or O(log n)"
      ],
      "metadata": {
        "id": "mH3p4KEma6x3"
      }
    },
    {
      "cell_type": "code",
      "execution_count": null,
      "metadata": {
        "id": "qeRhB5hOa31r"
      },
      "outputs": [],
      "source": [
        "l = [1,2,3,4,5,6,7,8,9,10]\n",
        "\n",
        "key = 8\n",
        "start = 1\n",
        "end = 10\n",
        "\n",
        "while end >= start:\n",
        "    mid = (start + end) // 2\n",
        "\n",
        "    if mid ==key:\n",
        "        print(\"the key is present in this list\")\n",
        "        break\n",
        "\n",
        "    elif mid < key:\n",
        "        start = mid + 1\n",
        "    else:\n",
        "        end = mid - 1\n",
        ""
      ]
    },
    {
      "cell_type": "markdown",
      "source": [
        "        \n",
        " # 1. Medical record finderA hospital keeps paitient is in sorted database.the receptionist needs to quickly check if a patient id exists before scheduling an appointment."
      ],
      "metadata": {
        "id": "H7-tTf7-dOr5"
      }
    },
    {
      "cell_type": "code",
      "source": [
        "def binary_search(pid,tar get):\n",
        "\n",
        "    start = 0\n",
        "    end = len(pid) - 1\n",
        "    steps = 0\n",
        "\n",
        "    while start <= end:\n",
        "        steps += 1\n",
        "        mid = (start + end) // 2\n",
        "\n",
        "        if pid[mid] == target:\n",
        "            return mid+1, steps\n",
        "\n",
        "        elif pid[mid] > target  :\n",
        "            end = mid - 1\n",
        "        else:\n",
        "            start = mid + 1\n",
        "\n",
        "        return \"not found\"\n",
        "\n",
        " li = [1,2,3,4,5,6,7,8]\n",
        " target = 7\n",
        "\n",
        " res, steps = binary_search_patient(li, target)\n",
        " print(res, steps)"
      ],
      "metadata": {
        "id": "WIb3AUvJdlNC"
      },
      "execution_count": null,
      "outputs": []
    },
    {
      "cell_type": "markdown",
      "source": [
        "\n",
        "# 2. Online bookstore searchA bookstore catalog is stored as a sorted list of book ISBN number. Given an ISBN number find the position  using binary search"
      ],
      "metadata": {
        "id": "WW7TFHHleiWE"
      }
    },
    {
      "cell_type": "code",
      "source": [
        "def binary_booksearch(books,target);\n",
        "start = 0\n",
        "end = len(books) - 1\n",
        "steps = 0\n",
        "\n",
        "while start <= end:\n",
        "    steps += 1\n",
        "    mid = (start + end) // 2\n",
        "\n",
        "    if books[mid] == target:\n",
        "        end = mid +1,step\n",
        "    elif books[mid] > target:\n",
        "        end = mid - 1\n",
        "    else:\n",
        "        start = mid + 1\n",
        "   return -1\n",
        "\n",
        "books = [1001, 1002, 1003, 1004, 1005]\n",
        "target = 1003\n",
        "\n",
        "res = binary_booksearch(books, target)\n",
        "print(res)"
      ],
      "metadata": {
        "id": "WyKgXVHUe4Dq"
      },
      "execution_count": null,
      "outputs": []
    },
    {
      "cell_type": "markdown",
      "source": [
        "# 4. An app store maintains a sorted list of app prices.A user enters a price, and the system checks whether any app exists at that price using Binary Search."
      ],
      "metadata": {
        "id": "gbOID278fbrU"
      }
    },
    {
      "cell_type": "code",
      "source": [
        "print(\"Example Run:\")\n",
        "prices_example = [10, 20, 30, 40, 50, 60, 75, 100]  # sorted list of prices\n",
        "search_price_example = 40\n",
        "\n",
        "print(\"Available App Prices:\", prices_example)\n",
        "print(\"Searching for Price:\", search_price_example)\n",
        "\n",
        "result = binary_search(prices_example, search_price_example)\n",
        "\n",
        "if result != -1:\n",
        "    print(f\" YES - App found at price {search_price_example}\\n\")\n",
        "else:\n",
        "    print(f\" NO - No app available at price {search_price_example}\\n\")\n",
        "\n"
      ],
      "metadata": {
        "id": "dFfhGxuWfcTK"
      },
      "execution_count": null,
      "outputs": []
    },
    {
      "cell_type": "markdown",
      "source": [
        "# 5. A movie theatre stores all available seat numbers in sorted order.When a customer requests a seat number, the system uses Binary Search to check whether the seat is available"
      ],
      "metadata": {
        "id": "8nWURDydgobA"
      }
    },
    {
      "cell_type": "code",
      "source": [
        "print(\" Example Run:\")\n",
        "available_seats_example = [1, 2, 3, 5, 7, 8, 10, 12, 15]  # sorted seat numbers\n",
        "search_seat_example = 7\n",
        "\n",
        "print(\"Available Seats:\", available_seats_example)\n",
        "print(\"Searching for Seat:\", search_seat_example)\n",
        "\n",
        "result = binary_search(available_seats_example, search_seat_example)\n",
        "\n",
        "if result != -1:\n",
        "    print(f\" Seat {search_seat_example} is AVAILABLE\\n\")\n",
        "else:\n",
        "    print(f\"Seat {search_seat_example} is NOT available\\n\")\n"
      ],
      "metadata": {
        "id": "tahD80qJgo1E"
      },
      "execution_count": null,
      "outputs": []
    },
    {
      "cell_type": "markdown",
      "source": [
        "# 6. A cricket team’s match scores are stored in sorted order.A fan enters a score, and the system checks whether the team ever achieved that score using Binary Search."
      ],
      "metadata": {
        "id": "SM_oIyLehYV9"
      }
    },
    {
      "cell_type": "code",
      "source": [
        "print(\"Example Run:\")\n",
        "scores_example = [120, 150, 180, 200, 220, 250, 275, 300, 320]  # sorted match scores\n",
        "search_score_example = 250\n",
        "\n",
        "print(\"Team Scores:\", scores_example)\n",
        "print(\"Searching for Score:\", search_score_example)\n",
        "\n",
        "result = binary_search(scores_example, search_score_example)\n",
        "\n",
        "if result != -1:\n",
        "    print(f\"YES - Team scored {search_score_example} in a past match\\n\")\n",
        "else:\n",
        "    print(f\"NO - Team never scored {search_score_example}\\n\")\n"
      ],
      "metadata": {
        "id": "PjTQdJYJhc1K"
      },
      "execution_count": null,
      "outputs": []
    }
  ]
}