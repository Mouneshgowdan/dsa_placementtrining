{
  "nbformat": 4,
  "nbformat_minor": 0,
  "metadata": {
    "colab": {
      "provenance": [],
      "authorship_tag": "ABX9TyPusHDAFxBUmdWrdmgGLfEz",
      "include_colab_link": true
    },
    "kernelspec": {
      "name": "python3",
      "display_name": "Python 3"
    },
    "language_info": {
      "name": "python"
    }
  },
  "cells": [
    {
      "cell_type": "markdown",
      "metadata": {
        "id": "view-in-github",
        "colab_type": "text"
      },
      "source": [
        "<a href=\"https://colab.research.google.com/github/Mouneshgowdan/dsa_placementtrining/blob/main/Day2.2.ipynb\" target=\"_parent\"><img src=\"https://colab.research.google.com/assets/colab-badge.svg\" alt=\"Open In Colab\"/></a>"
      ]
    },
    {
      "cell_type": "markdown",
      "source": [
        "# Insertion Sort Algorithm Examples and Problems\n",
        "\n",
        "#1. what  is Insertion Sort Algorithm\n",
        "Insertion Sort is a comparison-based, in-place sorting algorithm that builds the sorted array (or list) one element at a time by inserting each new element into the correct position among the previously sorted elements\n",
        "\n",
        "# Complexity\n",
        ". Best case (already sorted): O(n)\n",
        "\n",
        ". Average case: O(n²)\n",
        "\n",
        ". Worst case (reverse order): O(n²)\n",
        "\n",
        ". Space Complexity: O(1)\n",
        "\n",
        "#Steps of Insertion Sort\n",
        "1. Start from the second element (the first element is considered sorted).\n",
        "2. Compare the current element with the elements in the sorted portion (to its left).\n",
        "3. Shift all elements in the sorted portion that are greater than the current element one position to the right.\n",
        "4. Insert the current element into its correct position.\n",
        "5. Repeat until the entire array is sorted.\n",
        "\n",
        "\n",
        "\n",
        "\n",
        "\n"
      ],
      "metadata": {
        "id": "GKfIHByDKv01"
      }
    },
    {
      "cell_type": "markdown",
      "source": [
        "# Example\n",
        "Suppose we sort: [5, 3, 4, 1, 2]\n",
        "\n",
        ". Start with 5 → already sorted.\n",
        "\n",
        ". Take 3 → insert before 5 → [3, 5, 4, 1, 2]\n",
        "\n",
        ". Take 4 → insert between 3 and 5 → [3, 4, 5, 1, 2]\n",
        "\n",
        ". Take 1 → insert at the beginning → [1, 3, 4, 5, 2]\n",
        "\n",
        ". Take 2 → insert between 1 and 3 → [1, 2, 3, 4, 5]\n",
        "\n",
        "Final result: sorted array [1, 2, 3, 4, 5]"
      ],
      "metadata": {
        "id": "kZbUAJrvNo9u"
      }
    },
    {
      "cell_type": "code",
      "source": [
        "def insertion_sort(arr):\n",
        "    # Traverse from the second element to the end\n",
        "    for i in range(1, len(arr)):\n",
        "        key = arr[i]  # current element to be inserted\n",
        "        j = i - 1\n",
        "\n",
        "        # Shift elements of arr[0..i-1] that are greater than key\n",
        "        while j >= 0 and arr[j] > key:\n",
        "            arr[j + 1] = arr[j]\n",
        "            j -= 1\n",
        "\n",
        "        # Insert the key at its correct position\n",
        "        arr[j + 1] = key\n",
        "\n",
        "    return arr\n",
        "\n",
        "\n",
        "# Example usage\n",
        "numbers = [5, 3, 4, 1, 2]\n",
        "print(\"Unsorted:\", numbers)\n",
        "print(\"Sorted:\", insertion_sort(numbers))\n"
      ],
      "metadata": {
        "colab": {
          "base_uri": "https://localhost:8080/"
        },
        "id": "F4cOskCSPYo3",
        "outputId": "944db6f8-f57f-4876-ee91-3272e90751b4"
      },
      "execution_count": 1,
      "outputs": [
        {
          "output_type": "stream",
          "name": "stdout",
          "text": [
            "Unsorted: [5, 3, 4, 1, 2]\n",
            "Sorted: [1, 2, 3, 4, 5]\n"
          ]
        }
      ]
    },
    {
      "cell_type": "markdown",
      "source": [
        "# 1. A teacher has a list of students’ heights in random order. The students need to stand in a line from shortest to tallest. Use Insertion Sort to arrange them"
      ],
      "metadata": {
        "id": "pdkrOCx7P1R8"
      }
    },
    {
      "cell_type": "code",
      "source": [
        "def insertion_sort(heights):\n",
        "    # Go through each student starting from the second one\n",
        "    for i in range(1, len(heights)):\n",
        "        key = heights[i]   # Current student's height\n",
        "        j = i - 1\n",
        "\n",
        "        # Move taller students one step back\n",
        "        while j >= 0 and heights[j] > key:\n",
        "            heights[j + 1] = heights[j]\n",
        "            j -= 1\n",
        "\n",
        "        # Place the student at the correct position\n",
        "        heights[j + 1] = key\n",
        "\n",
        "    return heights\n",
        "\n",
        "\n",
        "# Example: Students’ heights in cm\n",
        "student_heights = [160, 150, 170, 155, 165]\n",
        "\n",
        "print(\"Unsorted Heights:\", student_heights)\n",
        "sorted_heights = insertion_sort(student_heights)\n",
        "print(\"Sorted Heights (Shortest → Tallest):\", sorted_heights)\n"
      ],
      "metadata": {
        "colab": {
          "base_uri": "https://localhost:8080/"
        },
        "id": "Wi0-tOFAP5cn",
        "outputId": "efc42dc8-6747-4223-ec26-d50c73ae34a7"
      },
      "execution_count": 2,
      "outputs": [
        {
          "output_type": "stream",
          "name": "stdout",
          "text": [
            "Unsorted Heights: [160, 150, 170, 155, 165]\n",
            "Sorted Heights (Shortest → Tallest): [150, 155, 160, 165, 170]\n"
          ]
        }
      ]
    },
    {
      "cell_type": "markdown",
      "source": [
        "# 2. Players finish a game and their scores are added to a leaderboard.The leaderboard must always stay sorted from highest to lowest score.We’ll use Insertion Sort to insert each new score in the right position."
      ],
      "metadata": {
        "id": "P7owLXCCQHsT"
      }
    },
    {
      "cell_type": "code",
      "source": [
        "def insertion_sort(scores):\n",
        "    # Sort scores in descending order (highest first)\n",
        "    for i in range(1, len(scores)):\n",
        "        key = scores[i]   # Current player's score\n",
        "        j = i - 1\n",
        "\n",
        "        # Move smaller scores one step back\n",
        "        while j >= 0 and scores[j] < key:\n",
        "            scores[j + 1] = scores[j]\n",
        "            j -= 1\n",
        "\n",
        "        # Place the score at the correct position\n",
        "        scores[j + 1] = key\n",
        "\n",
        "    return scores\n",
        "\n",
        "\n",
        "# Example: Scores of players\n",
        "leaderboard = [95, 80, 85, 100, 90]\n",
        "\n",
        "print(\"Unsorted Leaderboard:\", leaderboard)\n",
        "sorted_leaderboard = insertion_sort(leaderboard)\n",
        "print(\"Sorted Leaderboard (Highest → Lowest):\", sorted_leaderboard)\n"
      ],
      "metadata": {
        "colab": {
          "base_uri": "https://localhost:8080/"
        },
        "id": "x3B9FmfVQO8o",
        "outputId": "a08f6916-c35b-4c5c-ff1f-b7e2e5f968fd"
      },
      "execution_count": 3,
      "outputs": [
        {
          "output_type": "stream",
          "name": "stdout",
          "text": [
            "Unsorted Leaderboard: [95, 80, 85, 100, 90]\n",
            "Sorted Leaderboard (Highest → Lowest): [100, 95, 90, 85, 80]\n"
          ]
        }
      ]
    },
    {
      "cell_type": "markdown",
      "source": [
        "# 3. A company records its stock price each day. The prices must be stored in ascending order for analysis.We’ll use Insertion Sort to keep the list sorted as new prices arrive"
      ],
      "metadata": {
        "id": "ET88z8J-QeOg"
      }
    },
    {
      "cell_type": "code",
      "source": [
        "def insertion_sort(prices):\n",
        "    # Sort stock prices in ascending order\n",
        "    for i in range(1, len(prices)):\n",
        "        key = prices[i]   # Current day's price\n",
        "        j = i - 1\n",
        "\n",
        "        # Shift larger prices one step ahead\n",
        "        while j >= 0 and prices[j] > key:\n",
        "            prices[j + 1] = prices[j]\n",
        "            j -= 1\n",
        "\n",
        "        # Insert the current price at the correct position\n",
        "        prices[j + 1] = key\n",
        "\n",
        "    return prices\n",
        "\n",
        "\n",
        "# Example: Daily stock prices (unordered)\n",
        "stock_prices = [210, 205, 220, 215, 225]\n",
        "\n",
        "print(\"Unsorted Prices:\", stock_prices)\n",
        "sorted_prices = insertion_sort(stock_prices)\n",
        "print(\"Sorted Prices (Lowest → Highest):\", sorted_prices)\n"
      ],
      "metadata": {
        "colab": {
          "base_uri": "https://localhost:8080/"
        },
        "id": "Uij5cYqeQkEu",
        "outputId": "28400bba-cd44-4846-ee45-88897cd32b17"
      },
      "execution_count": 4,
      "outputs": [
        {
          "output_type": "stream",
          "name": "stdout",
          "text": [
            "Unsorted Prices: [210, 205, 220, 215, 225]\n",
            "Sorted Prices (Lowest → Highest): [205, 210, 215, 220, 225]\n"
          ]
        }
      ]
    },
    {
      "cell_type": "markdown",
      "source": [
        "# 4. A teacher has exam papers collected randomly. To check them easily, the papers need to be arranged in ascending roll number order. Use Insertion Sort to organize them."
      ],
      "metadata": {
        "id": "v5UXS9-XQzKm"
      }
    },
    {
      "cell_type": "code",
      "source": [
        "def insertion_sort(roll_numbers):\n",
        "    # Sort roll numbers in ascending order\n",
        "    for i in range(1, len(roll_numbers)):\n",
        "        key = roll_numbers[i]   # Current roll number\n",
        "        j = i - 1\n",
        "\n",
        "        # Shift larger roll numbers one step ahead\n",
        "        while j >= 0 and roll_numbers[j] > key:\n",
        "            roll_numbers[j + 1] = roll_numbers[j]\n",
        "            j -= 1\n",
        "\n",
        "        # Place the roll number in the correct position\n",
        "        roll_numbers[j + 1] = key\n",
        "\n",
        "    return roll_numbers\n",
        "\n",
        "\n",
        "# Example: Roll numbers collected randomly\n",
        "exam_papers = [104, 101, 105, 103, 102]\n",
        "\n",
        "print(\"Unsorted Roll Numbers:\", exam_papers)\n",
        "sorted_papers = insertion_sort(exam_papers)\n",
        "print(\"Sorted Roll Numbers:\", sorted_papers)\n"
      ],
      "metadata": {
        "colab": {
          "base_uri": "https://localhost:8080/"
        },
        "id": "T5-xI3V0Q4-f",
        "outputId": "8a958a70-8839-4edd-9502-47713b86aeed"
      },
      "execution_count": 5,
      "outputs": [
        {
          "output_type": "stream",
          "name": "stdout",
          "text": [
            "Unsorted Roll Numbers: [104, 101, 105, 103, 102]\n",
            "Sorted Roll Numbers: [101, 102, 103, 104, 105]\n"
          ]
        }
      ]
    },
    {
      "cell_type": "markdown",
      "source": [
        "# 5. A librarian receives books in random order and wants to arrange them alphabetically on the shelf. Each new book is placed in the correct spot among the already arranged books, just like Insertion Sort"
      ],
      "metadata": {
        "id": "2GBXeSmiRHgZ"
      }
    },
    {
      "cell_type": "code",
      "source": [
        "def insertion_sort(books):\n",
        "    # Sort book titles alphabetically\n",
        "    for i in range(1, len(books)):\n",
        "        key = books[i]   # Current book\n",
        "        j = i - 1\n",
        "\n",
        "        # Shift books that come later in the alphabet one step ahead\n",
        "        while j >= 0 and books[j] > key:\n",
        "            books[j + 1] = books[j]\n",
        "            j -= 1\n",
        "\n",
        "        # Place the book in the correct position\n",
        "        books[j + 1] = key\n",
        "\n",
        "    return books\n",
        "\n",
        "\n",
        "# Example: Random order of book titles\n",
        "library_books = [\"Python Basics\", \"Algorithms\", \"Data Science\", \"Machine Learning\", \"Artificial Intelligence\"]\n",
        "\n",
        "print(\"Unsorted Books:\", library_books)\n",
        "sorted_books = insertion_sort(library_books)\n",
        "print(\"Sorted Books (Alphabetical Order):\", sorted_books)\n"
      ],
      "metadata": {
        "colab": {
          "base_uri": "https://localhost:8080/"
        },
        "id": "dRxodJnlRK4E",
        "outputId": "f4b1bd48-e9fa-4f20-be17-f73c0cdde243"
      },
      "execution_count": 6,
      "outputs": [
        {
          "output_type": "stream",
          "name": "stdout",
          "text": [
            "Unsorted Books: ['Python Basics', 'Algorithms', 'Data Science', 'Machine Learning', 'Artificial Intelligence']\n",
            "Sorted Books (Alphabetical Order): ['Algorithms', 'Artificial Intelligence', 'Data Science', 'Machine Learning', 'Python Basics']\n"
          ]
        }
      ]
    }
  ]
}